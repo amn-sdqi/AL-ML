{
 "cells": [
  {
   "cell_type": "markdown",
   "metadata": {},
   "source": [
    "Split() funtion\n",
    "It's a string method\n",
    "requires a delimiter to split the string\n"
   ]
  },
  {
   "cell_type": "code",
   "execution_count": null,
   "metadata": {},
   "outputs": [],
   "source": [
    "string1='What a wonderfull world'\n",
    "\n",
    "#string1.split(\" \")\n",
    "arr=[]\n",
    "\n",
    "for item in string1:\n",
    "    arr.append(item)\n",
    "\n",
    "print(arr)    "
   ]
  },
  {
   "cell_type": "markdown",
   "metadata": {},
   "source": [
    "join() function\n"
   ]
  },
  {
   "cell_type": "code",
   "execution_count": null,
   "metadata": {},
   "outputs": [],
   "source": [
    "arr1=['1','2','3','4','5','6']\n",
    "\n",
    "' '.join(arr1)"
   ]
  },
  {
   "cell_type": "markdown",
   "metadata": {},
   "source": [
    "zip() function\n"
   ]
  },
  {
   "cell_type": "code",
   "execution_count": null,
   "metadata": {},
   "outputs": [],
   "source": [
    "a=['1','2','3','4','5']\n",
    "b=['a','b','c','d','e']\n",
    "\n",
    "c=dict(zip(a,b))\n",
    "d=list(zip(a,b))\n",
    "\n",
    "print(c)\n",
    "print(d)"
   ]
  },
  {
   "cell_type": "markdown",
   "metadata": {},
   "source": [
    "enumerate\n"
   ]
  },
  {
   "cell_type": "code",
   "execution_count": null,
   "metadata": {},
   "outputs": [],
   "source": [
    "A=['1','2','3','4','5']\n",
    "\n",
    "for i in enumerate(A):\n",
    "    print(i)\n",
    "    \n",
    "for i,j in enumerate(c):\n",
    "    print(i,j)"
   ]
  },
  {
   "cell_type": "markdown",
   "metadata": {},
   "source": [
    "Ask user to input 5 num's , unpack those num's & create an int list, using that int list use 'enumerate' to create a dict where indx will be keys and elements will be values\n"
   ]
  },
  {
   "cell_type": "code",
   "execution_count": null,
   "metadata": {},
   "outputs": [],
   "source": [
    "nums= input(\"Enter 5 values seperated by space :\").split(' ')\n",
    "\n",
    "\n",
    "l2=[]\n",
    "for i in nums:\n",
    "    l2.append(int(i))\n",
    "d1={}\n",
    "for i,j in enumerate(l2):\n",
    "    d1[i]=j\n",
    "d1\n"
   ]
  },
  {
   "cell_type": "code",
   "execution_count": null,
   "metadata": {},
   "outputs": [],
   "source": [
    "a=[1,2,3,4,5,6]\n",
    "b= ['goa', 'mumbai','chennai','dhar','delhi' ]\n",
    "\n",
    "d1={}\n",
    "for i in b:\n",
    "    c=len(i)\n",
    "    \n",
    "    if c in a:\n",
    "        if (c%2==0):\n",
    "            d1[i]=[b.index(i)+1,c]\n",
    "    \n",
    "d1"
   ]
  },
  {
   "cell_type": "markdown",
   "metadata": {},
   "source": [
    "/\n"
   ]
  },
  {
   "cell_type": "markdown",
   "metadata": {},
   "source": [
    "/\n",
    "/\n",
    "/\n",
    "/\n",
    "/\n",
    "/\n",
    "/\n"
   ]
  },
  {
   "cell_type": "markdown",
   "metadata": {},
   "source": [
    "/\n",
    "\n",
    "/\n",
    "\n",
    "/\n",
    "\n",
    "//\n",
    "//\n",
    "/\n",
    "/\n",
    "/\n",
    "/\n",
    "/\n",
    "/\n",
    "/\n"
   ]
  },
  {
   "cell_type": "markdown",
   "metadata": {},
   "source": [
    "23 September 2024\n"
   ]
  },
  {
   "cell_type": "code",
   "execution_count": null,
   "metadata": {},
   "outputs": [],
   "source": [
    "def Hello_World(str):\n",
    "    print(str)\n",
    "    \n",
    "Hello_World(\"print\")"
   ]
  },
  {
   "cell_type": "markdown",
   "metadata": {},
   "source": [
    "while loop\n"
   ]
  },
  {
   "cell_type": "code",
   "execution_count": null,
   "metadata": {},
   "outputs": [],
   "source": [
    "sum=0\n",
    "i=1\n",
    "while i<=10:\n",
    "    sum+=i\n",
    "    \n",
    "    i+=1\n",
    "\n",
    "print(f\"sum is: {sum}\")"
   ]
  },
  {
   "cell_type": "markdown",
   "metadata": {},
   "source": [
    "Ask a usser whether he/she is a student or not\n",
    "\n",
    "if yes then ask him to enter the first name and marks\n",
    "\n",
    "create a dict using that info\n",
    "\n",
    "append dict to a list\n",
    "\n",
    "repeat until \"no\"\n"
   ]
  },
  {
   "cell_type": "code",
   "execution_count": null,
   "metadata": {},
   "outputs": [],
   "source": [
    "\n",
    "l1=[]\n",
    "\n",
    "while True:\n",
    "    user=input(\"Are you a student:\")\n",
    "    d1={}      \n",
    "    if user.lower()==\"yes\":        \n",
    "        f_name=input(\"Enter your name :\")        \n",
    "        marks=int(input(\"Enter yoyur marks:\"))        \n",
    "        d1[f_name]=marks    \n",
    "    elif user.lower()==\"no\":\n",
    "        break    \n",
    "    else:\n",
    "        print(\"Enter yes/no\")     \n",
    "    l1.append(d1)    \n",
    "print(l1)\n"
   ]
  },
  {
   "cell_type": "code",
   "execution_count": null,
   "metadata": {},
   "outputs": [],
   "source": [
    "l1=[]\n",
    "\n",
    "while True:\n",
    "    user=input(\"Are you a student:\")\n",
    "    d1={}      \n",
    "    if user.lower()==\"yes\":        \n",
    "        f_name=input(\"Enter your name :\")        \n",
    "        marks=int(input(\"Enter yoyur marks:\"))        \n",
    "        d1[\"Name\"]=f_name    \n",
    "        d1[\"Mark\"]=marks    \n",
    "    elif user.lower()==\"no\":\n",
    "        break    \n",
    "    else:\n",
    "        print(\"Enter yes/no\")     \n",
    "    l1.append(d1)    \n",
    "print(l1)"
   ]
  },
  {
   "cell_type": "markdown",
   "metadata": {},
   "source": [
    "/\n",
    "\n",
    "/\n",
    "\n",
    "/\n",
    "\n",
    "/\n",
    "\n",
    "---------------------- Sep 25 2024\n"
   ]
  },
  {
   "cell_type": "code",
   "execution_count": null,
   "metadata": {},
   "outputs": [],
   "source": [
    "def greet(str):\n",
    "    print(str)\n",
    "\n",
    "greet('HI !!!')\n",
    "\n",
    "def greet():\n",
    "    print('hello')\n",
    "    \n",
    "greet()"
   ]
  },
  {
   "cell_type": "code",
   "execution_count": null,
   "metadata": {},
   "outputs": [],
   "source": [
    "def suM(a,b):\n",
    "    return a+b\n",
    "\n",
    "result=suM(12,34)\n",
    "\n",
    "result"
   ]
  },
  {
   "cell_type": "code",
   "execution_count": null,
   "metadata": {},
   "outputs": [],
   "source": [
    "def even_odd(num):\n",
    "    if round(num % 2) ==0 :\n",
    "        return f\"even {num}\"\n",
    "    else:\n",
    "        return f\"odd {num}\"\n",
    "    \n",
    "    \n",
    "print(even_odd(1))\n",
    "print(even_odd(20))\n",
    "print(even_odd(20.72))"
   ]
  },
  {
   "cell_type": "code",
   "execution_count": null,
   "metadata": {},
   "outputs": [],
   "source": [
    "round(20.222 % 2)*10"
   ]
  },
  {
   "cell_type": "markdown",
   "metadata": {},
   "source": [
    "/\n",
    "/\n",
    "/\n",
    "\n",
    "/\n",
    "\n",
    "/\n",
    "\n",
    "/\n",
    "\n",
    "/\n",
    "\n",
    "/\n",
    "\n",
    "/\n",
    "\n",
    "/\n",
    "September 26, 2024\n"
   ]
  },
  {
   "cell_type": "markdown",
   "metadata": {},
   "source": [
    "check for prime num using function\n"
   ]
  },
  {
   "cell_type": "code",
   "execution_count": null,
   "metadata": {},
   "outputs": [],
   "source": [
    "def checkPrime(num):\n",
    "\n",
    "    if num  <=1: return \"1 or small\"\n",
    "    \n",
    "    for i in range(2,num,1):\n",
    "        if num % i ==0:\n",
    "            return f\"{num} is not a Prime Number\"\n",
    "        \n",
    "        return f\"{num} is Prime\"\n",
    "    \n",
    "print(checkPrime(32))\n",
    "print(checkPrime(1))\n",
    "print(checkPrime(47))"
   ]
  },
  {
   "cell_type": "markdown",
   "metadata": {},
   "source": [
    "WAP that takes a positive integer n as input and prints the first n even numbers.\n"
   ]
  },
  {
   "cell_type": "code",
   "execution_count": null,
   "metadata": {},
   "outputs": [],
   "source": [
    "def printEven(n):\n",
    "    if n < 0: n=round(n/-1)\n",
    "    for i in range(1, n+1): print(i*2)    \n",
    "\n",
    "num = int(input(\"Enter a number:\"))\n",
    "\n",
    "printEven(num)"
   ]
  },
  {
   "cell_type": "markdown",
   "metadata": {},
   "source": [
    "/.....................................................\n",
    "\n",
    "/.....................................................\n",
    "\n",
    "/.....................................................\n",
    "\n",
    "/.....................................................\n",
    "\n",
    "/.....................................................\n",
    "\n",
    "September 27,2024\n"
   ]
  },
  {
   "cell_type": "markdown",
   "metadata": {},
   "source": [
    "WAP to create a function that calculates the square root of a number and returns it. (Hint: root - raise to the power 1/2)\n"
   ]
  },
  {
   "cell_type": "code",
   "execution_count": null,
   "metadata": {},
   "outputs": [],
   "source": [
    "def sqr_root(num):\n",
    "    return num**0.5\n",
    "\n",
    "print(sqr_root(int(input(\"enter a number\"))))"
   ]
  },
  {
   "cell_type": "markdown",
   "metadata": {},
   "source": [
    "Create a factorial function that returns the factorial of a user-inputted number.\n"
   ]
  },
  {
   "cell_type": "code",
   "execution_count": null,
   "metadata": {},
   "outputs": [],
   "source": [
    "def fact(n):\n",
    "    f=1\n",
    "    \n",
    "    for i in range(1, n+1):\n",
    "        f=f*i\n",
    "    \n",
    "    print(f)\n",
    "fact(5)"
   ]
  },
  {
   "cell_type": "markdown",
   "metadata": {},
   "source": [
    "WAP to create a function that takes a user-inputted string and returns a dictionary with the key as string and value as the length of the string.\n"
   ]
  },
  {
   "cell_type": "code",
   "execution_count": null,
   "metadata": {},
   "outputs": [],
   "source": [
    "def str_len(str):\n",
    "    return {str:len(str)}\n",
    "    \n",
    "str_len(input(\"Enter a String\"))"
   ]
  },
  {
   "cell_type": "markdown",
   "metadata": {},
   "source": [
    "Create a function that takes a string and check whether the string consists of a vowel or not.\n"
   ]
  },
  {
   "cell_type": "code",
   "execution_count": null,
   "metadata": {},
   "outputs": [],
   "source": [
    "def checkVowel(str):\n",
    "    vowel=['a','e','i','o','u']\n",
    "    \n",
    "    for item in str:    \n",
    "        if item in vowel:\n",
    "          return \"Has vowels\"\n",
    "\n",
    "    return \"No vowel found\"\n",
    "\n",
    "print(checkVowel(input(\"Enter a string\")))"
   ]
  },
  {
   "cell_type": "markdown",
   "metadata": {},
   "source": [
    "Write a function to find the maximum of three numbers.\n"
   ]
  },
  {
   "cell_type": "code",
   "execution_count": null,
   "metadata": {},
   "outputs": [],
   "source": [
    "def max3(a,b,c):\n",
    "    max=0\n",
    "    if a > b : max=a\n",
    "    else: max=b\n",
    "    \n",
    "    if max > c : return f\"{max} is greatest\"\n",
    "    else: return f\"{c} is greatest\"\n",
    "    \n",
    "A=int(input(\"Enter A nums\"))\n",
    "B=int(input(\"Enter B nums\"))\n",
    "C=int(input(\"Enter C nums\"))\n",
    "\n",
    "print(A)\n",
    "print(B)\n",
    "print(C, end=\"\\n\\n\")\n",
    "\n",
    "print(max3(A,B,C))"
   ]
  },
  {
   "cell_type": "code",
   "execution_count": null,
   "metadata": {},
   "outputs": [],
   "source": [
    "for i in range(0, 3):\n",
    "    for j in range(3,i,-1): \n",
    "        print(\" \", end=\"  \")\n",
    "    \n",
    "    print((2*i-1)*\" * \")\n",
    "    \n",
    "for i in range(3, 0,-1):\n",
    "    for j in range(i,3): \n",
    "        print(\" \", end=\"  \")\n",
    "    \n",
    "    print((2*i-1)*\" * \")"
   ]
  },
  {
   "cell_type": "code",
   "execution_count": null,
   "metadata": {},
   "outputs": [],
   "source": [
    "n = 5  # Height of the pattern\n",
    "\n",
    "for i in range(n):\n",
    "    for j in range(n):\n",
    "        if i == j or i + j == n - 1:  # Diagonals\n",
    "            print(\" \", end=\" \")\n",
    "        else:\n",
    "            print(\"+\", end=\" \")\n",
    "    print()\n"
   ]
  },
  {
   "cell_type": "code",
   "execution_count": null,
   "metadata": {},
   "outputs": [],
   "source": [
    "n = 3  # Size of the diamond (half of the middle row length)\n",
    "\n",
    "# Upper half of the pattern\n",
    "for i in range(n):\n",
    "    print(\"  \" * (n - i - 1) + \"+\", end=\"\")\n",
    "    if i > 0:\n",
    "        print(\"  \" * (3 * i - 1) + \"+\", end=\" \")\n",
    "    print()\n",
    "\n",
    "# Middle part of the pattern\n",
    "print(\"+ \" * (3 * n - 1))\n",
    "\n",
    "# Lower half of the pattern\n",
    "for i in range(n - 1, -1, -1):\n",
    "    print(\"  \" * (n - i - 1) + \"+\", end=\"\")\n",
    "    if i > 0:\n",
    "        print(\"  \" * (3 * i - 1) + \"+\", end=\" \")\n",
    "    print()\n"
   ]
  },
  {
   "cell_type": "code",
   "execution_count": null,
   "metadata": {},
   "outputs": [],
   "source": [
    "a = \"\"\"Lorem ipsum dolor sit amet,\n",
    "consectetur adipiscing elit,\n",
    "sed do eiusmod tempor incididunt\n",
    "ut labore et dolore magna aliqua.\"\"\"\n",
    "print(a)"
   ]
  },
  {
   "cell_type": "code",
   "execution_count": null,
   "metadata": {},
   "outputs": [],
   "source": [
    "for x in \"banana\":\n",
    "  print(x)"
   ]
  },
  {
   "cell_type": "code",
   "execution_count": null,
   "metadata": {},
   "outputs": [],
   "source": [
    "txt = \"The best things in life are free!\"\n",
    "print(\"free\" in txt)"
   ]
  },
  {
   "cell_type": "code",
   "execution_count": null,
   "metadata": {},
   "outputs": [],
   "source": [
    "b = \"Hello, World!\"\n",
    "print(b[2:8])"
   ]
  },
  {
   "cell_type": "code",
   "execution_count": null,
   "metadata": {},
   "outputs": [],
   "source": [
    "a = \"Hello, World!\"\n",
    "print(a.upper())"
   ]
  },
  {
   "cell_type": "code",
   "execution_count": null,
   "metadata": {},
   "outputs": [],
   "source": [
    "print(a.strip())\n"
   ]
  },
  {
   "cell_type": "code",
   "execution_count": null,
   "metadata": {},
   "outputs": [],
   "source": [
    "print(a.replace(\"H\", \"J\"))"
   ]
  },
  {
   "cell_type": "code",
   "execution_count": null,
   "metadata": {},
   "outputs": [],
   "source": [
    "print(a.split(\",\"))"
   ]
  },
  {
   "cell_type": "code",
   "execution_count": null,
   "metadata": {},
   "outputs": [],
   "source": [
    "txt = \"We are the so-called \\\"Vikings\\\" from the  north.\"\n",
    "txt.count('o')\n",
    "txt.encode()\n",
    "txt.find('V')\n"
   ]
  },
  {
   "cell_type": "code",
   "execution_count": null,
   "metadata": {},
   "outputs": [],
   "source": [
    "car = {\n",
    "\"brand\": \"Ford\",\n",
    "\"model\": \"Mustang\",\n",
    "\"year\": 1964\n",
    "}\n",
    "\n",
    "x = car.values()\n",
    "\n",
    "print(x) #before the change\n",
    "\n",
    "car[\"year\"] = 2020\n",
    "\n",
    "print(x) #after the change"
   ]
  },
  {
   "cell_type": "markdown",
   "metadata": {
    "notebookRunGroups": {
     "groupValue": "2"
    }
   },
   "source": [
    "Lamda function\n"
   ]
  },
  {
   "cell_type": "code",
   "execution_count": null,
   "metadata": {
    "notebookRunGroups": {
     "groupValue": "2"
    },
    "slideshow": {
     "slide_type": "fragment"
    }
   },
   "outputs": [],
   "source": [
    "p=lambda x : x*2\n",
    "\n",
    "print(p(3))"
   ]
  },
  {
   "cell_type": "markdown",
   "metadata": {},
   "source": [
    "MAP function\n"
   ]
  },
  {
   "cell_type": "code",
   "execution_count": null,
   "metadata": {},
   "outputs": [],
   "source": [
    "listA=['bhopla','gandhi']\n",
    "\n",
    "print(list(map(len, listA)))"
   ]
  },
  {
   "cell_type": "markdown",
   "metadata": {},
   "source": [
    "FILTER FUNCTION\n"
   ]
  },
  {
   "cell_type": "markdown",
   "metadata": {},
   "source": [
    "FILTER EVEN NUMS FROM A LIST\n"
   ]
  },
  {
   "cell_type": "code",
   "execution_count": null,
   "metadata": {},
   "outputs": [],
   "source": [
    "def even(n):\n",
    "    return n%2==0\n",
    "\n",
    "print(list(filter(even, [1,2,3,4,5,6,7,8])))"
   ]
  },
  {
   "cell_type": "markdown",
   "metadata": {},
   "source": [
    "fiter odd nums from a list\n"
   ]
  },
  {
   "cell_type": "code",
   "execution_count": null,
   "metadata": {},
   "outputs": [],
   "source": [
    "print(list(filter(lambda n:n%2==1, [1,2,3,4,5,6,7,8])))"
   ]
  },
  {
   "cell_type": "markdown",
   "metadata": {},
   "source": [
    "filter nums divisible by 4\n"
   ]
  },
  {
   "cell_type": "code",
   "execution_count": null,
   "metadata": {},
   "outputs": [],
   "source": [
    "print(list(filter(lambda n:n%4==0, [1,2,3,4,5,6,7,8])))"
   ]
  },
  {
   "cell_type": "markdown",
   "metadata": {},
   "source": [
    "filter names having len grater than 3\n"
   ]
  },
  {
   "cell_type": "code",
   "execution_count": null,
   "metadata": {},
   "outputs": [],
   "source": [
    "alist=['bhopal','tamil', 'mp', \"don't\", 'Don', 'Kala']\n",
    "\n",
    "print(list(filter(lambda n:len(n)>3, alist)))"
   ]
  },
  {
   "cell_type": "code",
   "execution_count": null,
   "metadata": {},
   "outputs": [],
   "source": [
    "listA=[23,14,54,17,80,12,7,31,28]\n",
    "\n",
    "def isPrime(n):\n",
    "    for i in range(2,n):\n",
    "        if n%i==0:\n",
    "            break\n",
    "        \n",
    "        return n\n",
    "\n",
    "print(list(filter(isPrime, listA)))"
   ]
  },
  {
   "cell_type": "code",
   "execution_count": null,
   "metadata": {},
   "outputs": [],
   "source": [
    "dicta={'hello': 5, 'game':10, 'toy':12, 'joy':7}\n",
    "\n",
    "print(dict(filter(lambda n: n[1]%2==0, dicta.items())))"
   ]
  },
  {
   "cell_type": "markdown",
   "metadata": {},
   "source": [
    "REDUCE FUNTION\n"
   ]
  },
  {
   "cell_type": "code",
   "execution_count": null,
   "metadata": {},
   "outputs": [],
   "source": [
    "from functools import reduce\n",
    "\n",
    "alist=[1,4,643,77753,88,423,83245,3]\n",
    "\n",
    "sum=reduce(lambda a,b:a+b, alist)\n",
    "product=reduce(lambda a,b:a*b, alist)\n",
    "\n",
    "print(sum)\n",
    "print(product)"
   ]
  },
  {
   "cell_type": "markdown",
   "metadata": {},
   "source": [
    "create a list a lenght of these elements\n",
    "\n",
    "filter odd lenghts\n",
    "\n",
    "find the product of odd lenghts using filter\n"
   ]
  },
  {
   "cell_type": "code",
   "execution_count": null,
   "metadata": {},
   "outputs": [],
   "source": [
    "alist=['cat','elephant','hippopotamus','ostrich','tiger','lion','ox','jackal']\n",
    "# from functools import reduce\n",
    "\n",
    "print(reduce(lambda a,b:a*b, list(filter(lambda n:n%2!=0,list(map(lambda n:len(n),alist))))))"
   ]
  }
 ],
 "metadata": {
  "kernelspec": {
   "display_name": "Python 3",
   "language": "python",
   "name": "python3"
  },
  "language_info": {
   "codemirror_mode": {
    "name": "ipython",
    "version": 3
   },
   "file_extension": ".py",
   "mimetype": "text/x-python",
   "name": "python",
   "nbconvert_exporter": "python",
   "pygments_lexer": "ipython3",
   "version": "3.11.4"
  }
 },
 "nbformat": 4,
 "nbformat_minor": 2
}
