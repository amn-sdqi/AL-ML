{
 "cells": [
  {
   "cell_type": "markdown",
   "metadata": {},
   "source": [
    "1. WAP to print the square of all odd numbers from a given list-\n",
    "\n",
    "   alist = [12, 9, 10, 7, 6, 18, 13, 11, 5, 2, 14]\n"
   ]
  },
  {
   "cell_type": "code",
   "execution_count": 1,
   "metadata": {},
   "outputs": [
    {
     "name": "stdout",
     "output_type": "stream",
     "text": [
      "81\n",
      "49\n",
      "169\n",
      "121\n",
      "25\n"
     ]
    }
   ],
   "source": [
    "alist = [12, 9, 10, 7, 6, 18, 13, 11, 5, 2, 14]\n",
    "\n",
    "for i in alist:\n",
    "    if i%2 != 0 :\n",
    "        print(i**2)\n",
    "        \n"
   ]
  },
  {
   "cell_type": "markdown",
   "metadata": {},
   "source": [
    "2. WAP to count the occurrence of 'i' in the given string -\n",
    "\n",
    "   stringA = 'mississippi'\n"
   ]
  },
  {
   "cell_type": "code",
   "execution_count": 2,
   "metadata": {},
   "outputs": [
    {
     "name": "stdout",
     "output_type": "stream",
     "text": [
      "4\n"
     ]
    }
   ],
   "source": [
    "stringA = 'mississippi'\n",
    "\n",
    "i_counter=0\n",
    "\n",
    "for item in stringA:\n",
    "    if(item=='i'):\n",
    "        i_counter+=1\n",
    "        \n",
    "print(i_counter)\n"
   ]
  },
  {
   "cell_type": "markdown",
   "metadata": {},
   "source": [
    "3. WAP to print the given pattern - (2 marks)\n",
    "\n",
    "   ***\n",
    "\n",
    "   ***\n",
    "\n",
    "   \\*\\*\n",
    "\n",
    "   -\n"
   ]
  },
  {
   "cell_type": "code",
   "execution_count": 9,
   "metadata": {},
   "outputs": [
    {
     "name": "stdout",
     "output_type": "stream",
     "text": [
      "* * * * * \n",
      "\n",
      "* * * * \n",
      "\n",
      "* * * \n",
      "\n",
      "* * \n",
      "\n",
      "* \n",
      "\n"
     ]
    }
   ],
   "source": [
    "for i in range(5, 0, -1):\n",
    "    for j in range(0, i, 1):\n",
    "        print(\"*\",end=' ') \n",
    "    print('\\n')          \n",
    "    "
   ]
  },
  {
   "cell_type": "markdown",
   "metadata": {},
   "source": [
    "4. WAP to remove duplicates from the given list -\n",
    "\n",
    "   blist = [3,6,1,2,1,2,3,7,6,5,4,3,7,8,9,2]\n"
   ]
  },
  {
   "cell_type": "code",
   "execution_count": 26,
   "metadata": {},
   "outputs": [
    {
     "data": {
      "text/plain": [
       "[3, 6, 1, 2, 7, 5, 4, 8, 9]"
      ]
     },
     "execution_count": 26,
     "metadata": {},
     "output_type": "execute_result"
    }
   ],
   "source": [
    "blist = [3,6,1,2,1,2,3,7,6,5,4,3,7,8,9,2]\n",
    "clist=[]\n",
    "\n",
    "for item in blist:\n",
    "    if item not in clist:\n",
    "        clist.append(item)\n",
    "        \n",
    "clist"
   ]
  },
  {
   "cell_type": "markdown",
   "metadata": {},
   "source": [
    "5. WAP to convert the names of the cities given below in lowercase and create a dictionary using city name (in lowercase) as the key and square of its length as the value.   \n",
    "\n",
    "    cities = ['HYDERABAD', 'KOLKATA', 'PATNA', 'JAIPUR', 'LUDHIANA']"
   ]
  },
  {
   "cell_type": "code",
   "execution_count": 46,
   "metadata": {},
   "outputs": [
    {
     "name": "stdout",
     "output_type": "stream",
     "text": [
      "['hyderabad', 'kolkata', 'patna', 'jaipur', 'ludhiana']\n",
      "{'hyderabad': 81, 'kolkata': 49, 'patna': 25, 'jaipur': 36, 'ludhiana': 64}\n"
     ]
    }
   ],
   "source": [
    "cities = ['HYDERABAD', 'KOLKATA', 'PATNA', 'JAIPUR', 'LUDHIANA']\n",
    "lowerList=[]\n",
    "for item in cities:\n",
    "    lowerList.append(item.casefold())\n",
    "    \n",
    "d1={}\n",
    "for item in lowerList:\n",
    "    d1[item]=len(item)**2\n",
    "    \n",
    "print(lowerList) \n",
    "print(d1) \n",
    "\n",
    "    \n"
   ]
  },
  {
   "cell_type": "markdown",
   "metadata": {},
   "source": [
    "6. WAP to iterate over a list using enumerate function. Create a list of indices and a list of elements separately, type cast the elements into string data type and combine the two lists using zip function. Output should be displayed in the form of a dictionary.    \n",
    "\n",
    "    clist = [10,2,13,8,19,20,4,9]"
   ]
  },
  {
   "cell_type": "code",
   "execution_count": 58,
   "metadata": {},
   "outputs": [
    {
     "data": {
      "text/plain": [
       "{0: 10, 1: 2, 2: 13, 3: 8, 4: 19, 5: 20, 6: 4, 7: 9}"
      ]
     },
     "execution_count": 58,
     "metadata": {},
     "output_type": "execute_result"
    }
   ],
   "source": [
    "clist = [10,2,13,8,19,20,4,9]\n",
    "clist_indx=[]\n",
    "for i,j in enumerate(clist):\n",
    "    clist_indx.append(i)\n",
    "    \n",
    "d1=dict(zip(clist_indx,clist))\n",
    "\n",
    "d1"
   ]
  },
  {
   "cell_type": "markdown",
   "metadata": {},
   "source": [
    "7. WAP to create a new list of squares of ASCII codes of the elements of a given list.          \n",
    "    dlist = ['b', 'r', 'f', 'e', 't', 'n']\n",
    "    (Hint: use ord() function)\n",
    "    \n",
    "    Arrange the newly created list in descending order and make this change as a permanent change."
   ]
  },
  {
   "cell_type": "code",
   "execution_count": 69,
   "metadata": {},
   "outputs": [
    {
     "name": "stdout",
     "output_type": "stream",
     "text": [
      "[13456, 12996, 12100, 10404, 10201, 9604]\n"
     ]
    }
   ],
   "source": [
    "dlist = ['b', 'r', 'f', 'e', 't', 'n']\n",
    " \n",
    "ascii_list=[]\n",
    "\n",
    "for i in dlist:\n",
    "    ascii_list.append(ord(i)**2)\n",
    "    \n",
    "ascii_list.sort(reverse=True)\n",
    "\n",
    "print(ascii_list)"
   ]
  },
  {
   "cell_type": "markdown",
   "metadata": {},
   "source": [
    "8. WAP to find the sum of the digits of a user inputted number.    (3 marks)\n"
   ]
  },
  {
   "cell_type": "code",
   "execution_count": 73,
   "metadata": {},
   "outputs": [
    {
     "name": "stdout",
     "output_type": "stream",
     "text": [
      "['2', '3', '4', '5']\n"
     ]
    },
    {
     "data": {
      "text/plain": [
       "14"
      ]
     },
     "execution_count": 73,
     "metadata": {},
     "output_type": "execute_result"
    }
   ],
   "source": [
    "nums= input(\"Enter 5 values seperated by space :\").split(' ')\n",
    "\n",
    "print(nums)\n",
    "sum=0\n",
    "for i in nums:\n",
    "    sum+=int(i)\n",
    "    \n",
    "sum"
   ]
  }
 ],
 "metadata": {
  "kernelspec": {
   "display_name": "Python 3",
   "language": "python",
   "name": "python3"
  },
  "language_info": {
   "codemirror_mode": {
    "name": "ipython",
    "version": 3
   },
   "file_extension": ".py",
   "mimetype": "text/x-python",
   "name": "python",
   "nbconvert_exporter": "python",
   "pygments_lexer": "ipython3",
   "version": "3.11.4"
  }
 },
 "nbformat": 4,
 "nbformat_minor": 2
}
