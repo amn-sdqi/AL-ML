{
 "cells": [
  {
   "cell_type": "markdown",
   "metadata": {},
   "source": [
    "# Python Assignment - 5\n"
   ]
  },
  {
   "cell_type": "code",
   "execution_count": 1,
   "metadata": {},
   "outputs": [],
   "source": [
    "import re"
   ]
  },
  {
   "cell_type": "markdown",
   "metadata": {},
   "source": [
    "## 1\n",
    "\n",
    "### Write a Python program which searches for all the Phone numbers(Eg: 0755-4926545) in a given text and prints them without the area code.\n"
   ]
  },
  {
   "cell_type": "code",
   "execution_count": 2,
   "metadata": {},
   "outputs": [
    {
     "data": {
      "text/plain": [
       "['4926545']"
      ]
     },
     "execution_count": 2,
     "metadata": {},
     "output_type": "execute_result"
    }
   ],
   "source": [
    "Eg= \"0755-4926545\"\n",
    "\n",
    "re.findall(r'\\b-(\\d*)', Eg)"
   ]
  },
  {
   "cell_type": "markdown",
   "metadata": {},
   "source": [
    "## 2\n",
    "\n",
    "### Write a Python program which search the first occurrence of \"it was good\" and print start index and end index of the match.\n"
   ]
  },
  {
   "cell_type": "code",
   "execution_count": 3,
   "metadata": {},
   "outputs": [
    {
     "name": "stdout",
     "output_type": "stream",
     "text": [
      "['it was good'] \n",
      " start index :35 \n",
      " end index :46\n"
     ]
    }
   ],
   "source": [
    "str='fdshuifsdnfis fdsdf edsfsdgh rgsvs it was good disofw givfd hfan vdacbnv '\n",
    "result=re.search(r'it was good', str).span()\n",
    "print(f\"{re.findall(r'it was good', str)} \\n start index :{result[0]} \\n end index :{result[1]}\")"
   ]
  },
  {
   "cell_type": "markdown",
   "metadata": {},
   "source": [
    "## 3\n",
    "\n",
    "### Write a Python program which takes an input from the user and checks if the input is a valid company id . Company Id format - INV1234 (INV followed by number which is upto 4 digit long)\n"
   ]
  },
  {
   "cell_type": "code",
   "execution_count": 4,
   "metadata": {},
   "outputs": [],
   "source": [
    "company_id=input(\"Enter Company ID\")\n",
    "# eg=\"INV1234\"\n",
    "re.search(r\"^INV\\d{4}$\",company_id)"
   ]
  },
  {
   "cell_type": "markdown",
   "metadata": {},
   "source": [
    "## 4\n",
    "\n",
    "### a) Write a Python program which searches for the word farmer in its singular and plural forms and prints the number of matches. The search should NOT be case sensitive.<br>\n",
    "\n",
    "### b) Write the above program for a Case Sensitive search.\n"
   ]
  },
  {
   "cell_type": "code",
   "execution_count": 5,
   "metadata": {},
   "outputs": [
    {
     "name": "stdout",
     "output_type": "stream",
     "text": [
      "Without ignoring case :['farmer', 'farmer', 'farmers']\n",
      "Ignoring case sensitivity :['farmer', 'Farmers', 'farmer', 'farmers']\n"
     ]
    }
   ],
   "source": [
    "text = \"\"\"\n",
    "The farmer worked hard to harvest his crops. Farmers in the region are known for their dedication and resilience.\n",
    "Another farmer joined the group of farmers in the area.\n",
    "\"\"\"\n",
    "result=re.findall(r'\\bfarmers?\\b', text)\n",
    "result2=re.findall(r'\\bfarmers?\\b', text, re.IGNORECASE)\n",
    "\n",
    "print(f\"Without ignoring case :{result}\")\n",
    "print(f\"Ignoring case sensitivity :{result2}\")"
   ]
  },
  {
   "cell_type": "markdown",
   "metadata": {},
   "source": [
    "## 5\n",
    "\n",
    "### Write a Python program which searches in a text file for all the occurrences of an entered text and then prints start indices of all the matches\n"
   ]
  },
  {
   "cell_type": "code",
   "execution_count": 21,
   "metadata": {},
   "outputs": [
    {
     "name": "stdout",
     "output_type": "stream",
     "text": [
      "Starting Index of 'hello' are :\n",
      "(0, 5)\n",
      "(401, 406)\n",
      "(783, 788)\n",
      "(1165, 1170)\n",
      "(1562, 1567)\n"
     ]
    }
   ],
   "source": [
    "entered_text=input(\"Enter text to search :\")\n",
    "f = open('demofile.txt', 'r')\n",
    "l1=f.read()\n",
    "l1\n",
    "if re.search(entered_text, l1, re.IGNORECASE):\n",
    "    result=list(re.finditer(entered_text, l1,re.IGNORECASE))\n",
    "\n",
    "print(f\"Starting Index of '{entered_text}' are :\")\n",
    "for i in result:\n",
    "    print(i.span())\n",
    "    \n"
   ]
  },
  {
   "cell_type": "markdown",
   "metadata": {},
   "source": [
    "## 6\n",
    "\n",
    "### Write a Python program which prints \"Starts with a number \" if a given text starts with a Number, prints \"Ends with a number \" if a given text ends with a Number, prints both the messages if both the cases are true and prints \"Neither starts nor ends with a number\" if both the cases are not true. This number can have any number of digits.\n"
   ]
  },
  {
   "cell_type": "code",
   "execution_count": null,
   "metadata": {},
   "outputs": [
    {
     "name": "stdout",
     "output_type": "stream",
     "text": [
      "Neither starts nor ends with a number\n"
     ]
    }
   ],
   "source": [
    "text = input(\"Enter the text: \")\n",
    "\n",
    "if re.match(r'^\\d+', text) and re.search(r'\\d+$', text):\n",
    "    print(\"Starts with a number and ends with a number\")\n",
    "elif re.match(r'^\\d+', text):\n",
    "    print(\"Starts with a number\")\n",
    "elif re.search(r'\\d+$', text):\n",
    "    print(\"Ends with a number\")\n",
    "else:\n",
    "    print(\"Neither starts nor ends with a number\")\n"
   ]
  },
  {
   "cell_type": "markdown",
   "metadata": {},
   "source": [
    "## 7\n",
    "\n",
    "### Write a Python program which reads a text file and makes the following changes:\n"
   ]
  },
  {
   "cell_type": "code",
   "execution_count": 14,
   "metadata": {},
   "outputs": [
    {
     "name": "stdout",
     "output_type": "stream",
     "text": [
      "Hello Everyone, \n",
      "We have not completed some of the topics in regex, so I want you to practice those on your own. ~amnsdqi@gmail.com\n",
      "We will complete them on Monday, but until then, I want you all to give it a try and solve the assignment questions.\n",
      "Note: Please do not use ChatGPT in case you are stuck anywhere, PLEASEEEE......\n",
      "amnsdqi@gmail.com\n"
     ]
    }
   ],
   "source": [
    "f = open('demofile.txt', 'r')\n",
    "l1=f.read()\n",
    "print(l1)\n",
    "f.close()"
   ]
  },
  {
   "cell_type": "markdown",
   "metadata": {},
   "source": [
    "#### a) Removes all the special characters from the text.\n"
   ]
  },
  {
   "cell_type": "code",
   "execution_count": 18,
   "metadata": {},
   "outputs": [],
   "source": [
    "f = open('demofile.txt', 'a')\n",
    "result=re.findall('\\s*\\w*', l1)\n",
    "srt=''\n",
    "for i in result:\n",
    "    srt+=i\n",
    "f.write('\\n\\n a) Removes all the special characters from the text.')\n",
    "f.writelines(srt)"
   ]
  },
  {
   "cell_type": "markdown",
   "metadata": {},
   "source": [
    "#### b) Removes all the new line characters from the text\n"
   ]
  },
  {
   "cell_type": "code",
   "execution_count": 20,
   "metadata": {},
   "outputs": [
    {
     "name": "stdout",
     "output_type": "stream",
     "text": [
      "Hello Everyone, We have not completed some of the topics in regex, so I want you to practice those on your own. ~amnsdqi@gmail.comWe will complete them on Monday, but until then, I want you all to give it a try and solve the assignment questions.Note: Please do not use ChatGPT in case you are stuck anywhere, PLEASEEEE......amnsdqi@gmail.com\n"
     ]
    },
    {
     "data": {
      "text/plain": [
       "342"
      ]
     },
     "execution_count": 20,
     "metadata": {},
     "output_type": "execute_result"
    }
   ],
   "source": [
    "result=re.sub(r'\\n','', l1)\n",
    "print(result)\n",
    "f.write('\\n\\n b) Removes all the new line characters from the text')\n",
    "f.write(result)"
   ]
  },
  {
   "cell_type": "markdown",
   "metadata": {},
   "source": [
    "#### c) Removes all the words which have length two or less\n"
   ]
  },
  {
   "cell_type": "code",
   "execution_count": null,
   "metadata": {},
   "outputs": [
    {
     "name": "stdout",
     "output_type": "stream",
     "text": [
      "Hello Everyone, \n",
      " have not completed some  the topics  regex,   want you  practice those  your own. ~amnsdqi@gmail.com\n",
      " will complete them  Monday, but until then,  want you all  give   try and solve the assignment questions.\n",
      "Note: Please  not use ChatGPT  case you are stuck anywhere, PLEASEEEE......\n",
      "amnsdqi@gmail.com\n"
     ]
    }
   ],
   "source": [
    "result=re.sub(r'\\b(\\w{1,2})\\b','',l1)\n",
    "f.write('\\n\\n c) Removes all the words which have length two or less')\n",
    "f.writelines(result)"
   ]
  },
  {
   "cell_type": "markdown",
   "metadata": {},
   "source": [
    "#### d) Replaces all the email Ids in the text with string -'EmailID'\n"
   ]
  },
  {
   "cell_type": "code",
   "execution_count": null,
   "metadata": {},
   "outputs": [],
   "source": [
    "f = open('demofile.txt', 'a')\n",
    "l1=re.sub(\"[\\w\\._%+-]{1,20}@[\\w]{1,10}\\.[\\w]{1,10}\",'EmailID', l1)\n",
    "f.writelines(\"\\n\\n d) Replaces all the email Ids in the text with string -'EmailID\")\n",
    "f.writelines(l1)"
   ]
  },
  {
   "cell_type": "code",
   "execution_count": null,
   "metadata": {},
   "outputs": [
    {
     "name": "stdout",
     "output_type": "stream",
     "text": [
      "Hello Everyone, \n",
      "We have not completed some of the topics in regex, so I want you to practice those on your own. ~EmailID\n",
      "We will complete them on Monday, but until then, I want you all to give it a try and solve the assignment questions.\n",
      "Note: Please do not use ChatGPT in case you are stuck anywhere, PLEASEEEE......\n",
      "EmailID\n"
     ]
    }
   ],
   "source": [
    "print(re.sub(\"[\\w\\._%+-]{1,20}@[\\w]{1,10}\\.[\\w]{1,10}\",'EmailID', l1))"
   ]
  }
 ],
 "metadata": {
  "kernelspec": {
   "display_name": "Python 3",
   "language": "python",
   "name": "python3"
  },
  "language_info": {
   "codemirror_mode": {
    "name": "ipython",
    "version": 3
   },
   "file_extension": ".py",
   "mimetype": "text/x-python",
   "name": "python",
   "nbconvert_exporter": "python",
   "pygments_lexer": "ipython3",
   "version": "3.11.4"
  }
 },
 "nbformat": 4,
 "nbformat_minor": 2
}
