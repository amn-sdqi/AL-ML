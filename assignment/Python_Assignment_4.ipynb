{
 "cells": [
  {
   "cell_type": "markdown",
   "metadata": {},
   "source": [
    "1. WAP to filter composite numbers from a given list of integers. Sort the results in descending order. (2 marks)\n",
    "\n",
    "intList = [23, 19, 10, 42, 18, 37, 25, 11]\n"
   ]
  },
  {
   "cell_type": "code",
   "execution_count": 5,
   "metadata": {},
   "outputs": [
    {
     "name": "stdout",
     "output_type": "stream",
     "text": [
      "[10, 42, 18, 25]\n"
     ]
    }
   ],
   "source": [
    "intList = [23, 19, 10, 42, 18, 37, 25, 11]\n",
    "def compositeTrue(x):\n",
    "    for i in range(2,x):\n",
    "        if x % i ==0:\n",
    "            return x\n",
    "    \n",
    "print(list(filter(compositeTrue, intList)))"
   ]
  },
  {
   "cell_type": "markdown",
   "metadata": {},
   "source": [
    "2. WAP to create a list of 100 elements consisting of 'H' and 'T' using random.choice() (hint: use k parameter). From the newly created list count the occurrence of H's and T's. (2 marks)\n"
   ]
  },
  {
   "cell_type": "code",
   "execution_count": 6,
   "metadata": {},
   "outputs": [
    {
     "name": "stdout",
     "output_type": "stream",
     "text": [
      "['H', 'T', 'H', 'H', 'T', 'T', 'H', 'T', 'T', 'H', 'T', 'T', 'T', 'H', 'H', 'T', 'T', 'H', 'H', 'T', 'T', 'T', 'T', 'T', 'H', 'T', 'T', 'H', 'H', 'T', 'H', 'H', 'H', 'H', 'H', 'T', 'T', 'H', 'H', 'T', 'T', 'T', 'H', 'H', 'T', 'H', 'H', 'T', 'H', 'H', 'T', 'T', 'T', 'T', 'T', 'H', 'T', 'H', 'H', 'T', 'T', 'T', 'T', 'T', 'H', 'H', 'T', 'H', 'H', 'T', 'H', 'T', 'H', 'T', 'T', 'H', 'T', 'H', 'T', 'T', 'T', 'H', 'H', 'H', 'T', 'T', 'T', 'H', 'T', 'T', 'H', 'H', 'T', 'T', 'T', 'T', 'H', 'T', 'T', 'T']\n"
     ]
    }
   ],
   "source": [
    "import random \n",
    "print([random.choice(['H','T']) for i in range(1,101) ])"
   ]
  },
  {
   "cell_type": "markdown",
   "metadata": {},
   "source": [
    "3.  WAP to create a below given nested dictionary using dictionary comprehension - (2 marks)\n"
   ]
  },
  {
   "cell_type": "code",
   "execution_count": 34,
   "metadata": {},
   "outputs": [
    {
     "name": "stdout",
     "output_type": "stream",
     "text": [
      "{1: {1: 1}, 2: {1: 1, 2: 4}, 3: {1: 1, 2: 4, 3: 9}, 4: {1: 1, 2: 4, 3: 9, 4: 16}}\n"
     ]
    }
   ],
   "source": [
    "print( {i: { j : j**2 for j in range(1,i+1)} for i in range(1,5)})"
   ]
  },
  {
   "cell_type": "markdown",
   "metadata": {},
   "source": [
    "4. Given a list of strings - ['12', '34', '56', '75', '32', '99', '64'] (2 marks)\n",
    "\n",
    "   Convert all the elements of this list into integers and then calculate the sum of all the numbers that are below 50. Write the solution in one line\n"
   ]
  },
  {
   "cell_type": "code",
   "execution_count": 60,
   "metadata": {},
   "outputs": [
    {
     "name": "stdout",
     "output_type": "stream",
     "text": [
      "78\n"
     ]
    }
   ],
   "source": [
    "from functools import reduce\n",
    "li=['12', '34', '56', '75', '32', '99', '64']\n",
    "\n",
    "print(reduce(lambda a,b:a+b ,[int(i) for i in li  if int(i) < 50 ]))"
   ]
  },
  {
   "cell_type": "markdown",
   "metadata": {},
   "source": [
    "5. Ask user to enter a number and at the same time generate a random number using random module. If the entered number is not equal to the randomly generated number then store the count and when the entered number becomes equal to the randomly generated number break the loop and display the result - 'Correct Match' along with the count of incorrect matches. (3 marks)\n"
   ]
  },
  {
   "cell_type": "code",
   "execution_count": 1,
   "metadata": {},
   "outputs": [
    {
     "name": "stdout",
     "output_type": "stream",
     "text": [
      "Correct Match It took 13 attempts.\n"
     ]
    }
   ],
   "source": [
    "import random\n",
    "\n",
    "count = 0  \n",
    "user_input=0 \n",
    "\n",
    "while user_input != (rand_num := random.randrange(1, 10)):\n",
    "    user_input = int(input(\"Enter a number from 1-10: \"))\n",
    "    count += 1\n",
    "    if user_input == rand_num:\n",
    "        break\n",
    "print(\"Correct Match\",f\"It took {count} attempts.\")"
   ]
  },
  {
   "cell_type": "markdown",
   "metadata": {},
   "source": [
    "6. WAP to create a list of 10 numbers ranging from 51 to 100. Use a random module to generate these numbers. Sort the final list in descending order of the numbers. Write the solution in one line. (3 marks)\n"
   ]
  },
  {
   "cell_type": "code",
   "execution_count": 76,
   "metadata": {},
   "outputs": [
    {
     "name": "stdout",
     "output_type": "stream",
     "text": [
      "[86, 82, 80, 76, 71, 70, 65, 64, 59, 54]\n"
     ]
    }
   ],
   "source": [
    "print(sorted([random.randint(51,101) for i in range(1,11)],reverse=True))"
   ]
  },
  {
   "cell_type": "markdown",
   "metadata": {},
   "source": [
    "7. Given a list of tuples - [('Tom', 87), ('Jammie', 65), ('Kelly', 90), ('Ron', 54), ('Sam', 71)] (3 marks)\n",
    "\n",
    "Filter out those students who scored above 70. Display the result in the form of a dictionary by sorting the data based on the increasing order of their marks. Write the solution in one line.\n"
   ]
  },
  {
   "cell_type": "code",
   "execution_count": 13,
   "metadata": {},
   "outputs": [
    {
     "name": "stdout",
     "output_type": "stream",
     "text": [
      "{'Sam': 71, 'Tom': 87, 'Kelly': 90}\n"
     ]
    }
   ],
   "source": [
    "tuples = [('Tom', 87), ('Jammie', 65), ('Kelly', 90), ('Ron', 54), ('Sam', 71)]\n",
    "print(dict(sorted({i[0]:i[1] for i in list(filter(lambda x:x[1]>70, tuples))}.items(), key=lambda x:x[1])))\n"
   ]
  },
  {
   "cell_type": "markdown",
   "metadata": {},
   "source": [
    "8. Ask user to input the names of 10 employees and their salaries. Create a dictionary using the data where employee names are keys and their salaries are values of a dictionary. Sort the created dictionary on the basis of the length of the names of employees in descending order and display the result in the form of dictionary. (3 marks)\n"
   ]
  },
  {
   "cell_type": "code",
   "execution_count": 97,
   "metadata": {},
   "outputs": [
    {
     "name": "stdout",
     "output_type": "stream",
     "text": [
      "[('amnaa', '12000'), ('big joe', '252000'), ('sikandar sahab', '20000')]\n"
     ]
    }
   ],
   "source": [
    "a={}\n",
    "for i in range(1,11):\n",
    "    a.update({input(\"enter name:\"):input(\"Enter Salary\")})\n",
    "print(sorted(a.items(),key=lambda x: len(x[0])))\n"
   ]
  }
 ],
 "metadata": {
  "kernelspec": {
   "display_name": "Python 3",
   "language": "python",
   "name": "python3"
  },
  "language_info": {
   "codemirror_mode": {
    "name": "ipython",
    "version": 3
   },
   "file_extension": ".py",
   "mimetype": "text/x-python",
   "name": "python",
   "nbconvert_exporter": "python",
   "pygments_lexer": "ipython3",
   "version": "3.11.4"
  }
 },
 "nbformat": 4,
 "nbformat_minor": 2
}
