{
 "cells": [
  {
   "cell_type": "code",
   "execution_count": 31,
   "id": "1db04367",
   "metadata": {},
   "outputs": [],
   "source": [
    "import numpy as np"
   ]
  },
  {
   "cell_type": "markdown",
   "id": "f614c64d",
   "metadata": {},
   "source": [
    "#### Splitting the data in Numpy"
   ]
  },
  {
   "cell_type": "code",
   "execution_count": 32,
   "id": "89093115",
   "metadata": {},
   "outputs": [
    {
     "data": {
      "text/plain": [
       "array([0, 1, 2, 3, 4, 5, 6, 7, 8])"
      ]
     },
     "execution_count": 32,
     "metadata": {},
     "output_type": "execute_result"
    }
   ],
   "source": [
    "a = np.arange(9)\n",
    "a"
   ]
  },
  {
   "cell_type": "code",
   "execution_count": 34,
   "id": "33fe80f5",
   "metadata": {},
   "outputs": [
    {
     "data": {
      "text/plain": [
       "[array([0, 1, 2]), array([3, 4, 5]), array([6, 7, 8])]"
      ]
     },
     "execution_count": 34,
     "metadata": {},
     "output_type": "execute_result"
    }
   ],
   "source": [
    "np.split(a,3)"
   ]
  },
  {
   "cell_type": "code",
   "execution_count": 36,
   "id": "54a73abb",
   "metadata": {},
   "outputs": [],
   "source": [
    "b = np.arange(14)\n",
    "# b.split(b,3)        # this will raise an error as splitting cannot be done with unequal size"
   ]
  },
  {
   "cell_type": "markdown",
   "id": "fa76f3e1",
   "metadata": {},
   "source": [
    "For splitting an array into unequal parts, use list of index"
   ]
  },
  {
   "cell_type": "code",
   "execution_count": 37,
   "id": "3daf6467",
   "metadata": {},
   "outputs": [
    {
     "data": {
      "text/plain": [
       "array([ 0,  1,  2,  3,  4,  5,  6,  7,  8,  9, 10, 11, 12, 13])"
      ]
     },
     "execution_count": 37,
     "metadata": {},
     "output_type": "execute_result"
    }
   ],
   "source": [
    "b"
   ]
  },
  {
   "cell_type": "code",
   "execution_count": 38,
   "id": "3e261775",
   "metadata": {},
   "outputs": [
    {
     "data": {
      "text/plain": [
       "[array([0, 1, 2]),\n",
       " array([ 3,  4,  5,  6,  7,  8,  9, 10]),\n",
       " array([11, 12, 13])]"
      ]
     },
     "execution_count": 38,
     "metadata": {},
     "output_type": "execute_result"
    }
   ],
   "source": [
    "np.split(b, [3,11])"
   ]
  },
  {
   "cell_type": "code",
   "execution_count": 8,
   "id": "58102f89",
   "metadata": {},
   "outputs": [
    {
     "data": {
      "text/plain": [
       "[array([0, 1, 2]),\n",
       " array([3, 4, 5, 6]),\n",
       " array([ 7,  8,  9, 10, 11]),\n",
       " array([12, 13]),\n",
       " array([], dtype=int32)]"
      ]
     },
     "execution_count": 8,
     "metadata": {},
     "output_type": "execute_result"
    }
   ],
   "source": [
    "np.split(b, [3,7,12,14])"
   ]
  },
  {
   "cell_type": "markdown",
   "id": "fc504268",
   "metadata": {},
   "source": [
    "As we can see here the last index was not present in the list, hence it returns an empty array"
   ]
  },
  {
   "cell_type": "markdown",
   "id": "8b2e36ed",
   "metadata": {},
   "source": [
    "1. if we split an array into 2 parts it will return 3 arrays\n",
    "2. if we split an array into 3 parts it will return 4 arrays\n",
    "3. if we split an array into 4 parts it will return 5 arrays and so on........."
   ]
  },
  {
   "cell_type": "markdown",
   "id": "f58c4b2c",
   "metadata": {},
   "source": [
    "#### Horizontal and Vertical Splits"
   ]
  },
  {
   "cell_type": "code",
   "execution_count": 40,
   "id": "8da16909",
   "metadata": {},
   "outputs": [
    {
     "data": {
      "text/plain": [
       "array([[ 0,  1,  2,  3,  4,  5],\n",
       "       [ 6,  7,  8,  9, 10, 11],\n",
       "       [12, 13, 14, 15, 16, 17],\n",
       "       [18, 19, 20, 21, 22, 23]])"
      ]
     },
     "execution_count": 40,
     "metadata": {},
     "output_type": "execute_result"
    }
   ],
   "source": [
    "x = np.arange(24).reshape(4,6)\n",
    "x"
   ]
  },
  {
   "cell_type": "markdown",
   "id": "8b211067",
   "metadata": {},
   "source": [
    "hsplit - splits the array on horizontal axis"
   ]
  },
  {
   "cell_type": "code",
   "execution_count": 10,
   "id": "799e0690",
   "metadata": {},
   "outputs": [
    {
     "data": {
      "text/plain": [
       "[array([[ 0,  1,  2],\n",
       "        [ 6,  7,  8],\n",
       "        [12, 13, 14],\n",
       "        [18, 19, 20]]),\n",
       " array([[ 3,  4,  5],\n",
       "        [ 9, 10, 11],\n",
       "        [15, 16, 17],\n",
       "        [21, 22, 23]])]"
      ]
     },
     "execution_count": 10,
     "metadata": {},
     "output_type": "execute_result"
    }
   ],
   "source": [
    "np.hsplit(x,2)"
   ]
  },
  {
   "cell_type": "code",
   "execution_count": 41,
   "id": "c7fac490",
   "metadata": {},
   "outputs": [
    {
     "data": {
      "text/plain": [
       "[array([[ 0,  1],\n",
       "        [ 6,  7],\n",
       "        [12, 13],\n",
       "        [18, 19]]),\n",
       " array([[ 2,  3],\n",
       "        [ 8,  9],\n",
       "        [14, 15],\n",
       "        [20, 21]]),\n",
       " array([[ 4,  5],\n",
       "        [10, 11],\n",
       "        [16, 17],\n",
       "        [22, 23]])]"
      ]
     },
     "execution_count": 41,
     "metadata": {},
     "output_type": "execute_result"
    }
   ],
   "source": [
    "np.hsplit(x,3)"
   ]
  },
  {
   "cell_type": "code",
   "execution_count": 43,
   "id": "577270b5",
   "metadata": {},
   "outputs": [],
   "source": [
    "# np.hsplit(x,4)        # this will raise an error"
   ]
  },
  {
   "cell_type": "markdown",
   "id": "8a6dd627",
   "metadata": {},
   "source": [
    "For unequal division, here also we will use list of indices"
   ]
  },
  {
   "cell_type": "code",
   "execution_count": 47,
   "id": "b89448a6",
   "metadata": {},
   "outputs": [
    {
     "data": {
      "text/plain": [
       "[array([[ 0,  1],\n",
       "        [ 6,  7],\n",
       "        [12, 13],\n",
       "        [18, 19]]),\n",
       " array([[ 2],\n",
       "        [ 8],\n",
       "        [14],\n",
       "        [20]]),\n",
       " array([[ 3,  4,  5],\n",
       "        [ 9, 10, 11],\n",
       "        [15, 16, 17],\n",
       "        [21, 22, 23]]),\n",
       " array([], shape=(4, 0), dtype=int32)]"
      ]
     },
     "execution_count": 47,
     "metadata": {},
     "output_type": "execute_result"
    }
   ],
   "source": [
    "np.hsplit(x,[2,3,8])"
   ]
  },
  {
   "cell_type": "markdown",
   "id": "27154565",
   "metadata": {},
   "source": [
    "vsplit - splits the array on vertical axis"
   ]
  },
  {
   "cell_type": "code",
   "execution_count": 49,
   "id": "c12e8edc",
   "metadata": {},
   "outputs": [
    {
     "data": {
      "text/plain": [
       "array([[ 0,  1],\n",
       "       [ 2,  3],\n",
       "       [ 4,  5],\n",
       "       [ 6,  7],\n",
       "       [ 8,  9],\n",
       "       [10, 11],\n",
       "       [12, 13],\n",
       "       [14, 15],\n",
       "       [16, 17],\n",
       "       [18, 19]])"
      ]
     },
     "execution_count": 49,
     "metadata": {},
     "output_type": "execute_result"
    }
   ],
   "source": [
    "x = np.arange(20).reshape(-1,2)\n",
    "x"
   ]
  },
  {
   "cell_type": "code",
   "execution_count": 50,
   "id": "87cb5062",
   "metadata": {},
   "outputs": [
    {
     "data": {
      "text/plain": [
       "[array([[0, 1],\n",
       "        [2, 3],\n",
       "        [4, 5],\n",
       "        [6, 7],\n",
       "        [8, 9]]),\n",
       " array([[10, 11],\n",
       "        [12, 13],\n",
       "        [14, 15],\n",
       "        [16, 17],\n",
       "        [18, 19]])]"
      ]
     },
     "execution_count": 50,
     "metadata": {},
     "output_type": "execute_result"
    }
   ],
   "source": [
    "np.vsplit(x,2)"
   ]
  },
  {
   "cell_type": "code",
   "execution_count": 51,
   "id": "ad07129c",
   "metadata": {},
   "outputs": [],
   "source": [
    "# np.vsplit(x,3)       # this will raise an error"
   ]
  },
  {
   "cell_type": "code",
   "execution_count": 52,
   "id": "c4852014",
   "metadata": {},
   "outputs": [
    {
     "data": {
      "text/plain": [
       "[array([[0, 1],\n",
       "        [2, 3]]),\n",
       " array([[4, 5],\n",
       "        [6, 7]]),\n",
       " array([[ 8,  9],\n",
       "        [10, 11]]),\n",
       " array([[12, 13],\n",
       "        [14, 15]]),\n",
       " array([[16, 17],\n",
       "        [18, 19]])]"
      ]
     },
     "execution_count": 52,
     "metadata": {},
     "output_type": "execute_result"
    }
   ],
   "source": [
    "np.vsplit(x,5)"
   ]
  },
  {
   "cell_type": "code",
   "execution_count": 53,
   "id": "a2fe48e6",
   "metadata": {},
   "outputs": [
    {
     "data": {
      "text/plain": [
       "[array([[0, 1],\n",
       "        [2, 3]]),\n",
       " array([[4, 5],\n",
       "        [6, 7]]),\n",
       " array([[ 8,  9],\n",
       "        [10, 11]]),\n",
       " array([[12, 13],\n",
       "        [14, 15],\n",
       "        [16, 17]]),\n",
       " array([[18, 19]]),\n",
       " array([], shape=(0, 2), dtype=int32)]"
      ]
     },
     "execution_count": 53,
     "metadata": {},
     "output_type": "execute_result"
    }
   ],
   "source": [
    "np.vsplit(x, [2,4,6,9,12])"
   ]
  },
  {
   "cell_type": "markdown",
   "id": "396ad969",
   "metadata": {},
   "source": [
    "#### Stacking"
   ]
  },
  {
   "cell_type": "code",
   "execution_count": 54,
   "id": "26b393da",
   "metadata": {},
   "outputs": [
    {
     "data": {
      "text/plain": [
       "array([1, 2, 3, 4, 5])"
      ]
     },
     "execution_count": 54,
     "metadata": {},
     "output_type": "execute_result"
    }
   ],
   "source": [
    "array1 = np.array([1,2,3,4,5])\n",
    "array1"
   ]
  },
  {
   "cell_type": "code",
   "execution_count": 55,
   "id": "faf0ac24",
   "metadata": {},
   "outputs": [
    {
     "data": {
      "text/plain": [
       "array([5, 6, 7, 8, 9])"
      ]
     },
     "execution_count": 55,
     "metadata": {},
     "output_type": "execute_result"
    }
   ],
   "source": [
    "array2 = np.array([5,6,7,8,9])\n",
    "array2"
   ]
  },
  {
   "cell_type": "markdown",
   "id": "c5fe78cf",
   "metadata": {},
   "source": [
    "hstack - combine/stack two arrays sideways"
   ]
  },
  {
   "cell_type": "code",
   "execution_count": 56,
   "id": "59efb8e3",
   "metadata": {},
   "outputs": [
    {
     "data": {
      "text/plain": [
       "array([1, 2, 3, 4, 5, 5, 6, 7, 8, 9])"
      ]
     },
     "execution_count": 56,
     "metadata": {},
     "output_type": "execute_result"
    }
   ],
   "source": [
    "np.hstack([array1,array2])"
   ]
  },
  {
   "cell_type": "markdown",
   "id": "11c14ef9",
   "metadata": {},
   "source": [
    "vstcak - combine/stack two arrays one below the other"
   ]
  },
  {
   "cell_type": "code",
   "execution_count": 57,
   "id": "a813c123",
   "metadata": {},
   "outputs": [
    {
     "data": {
      "text/plain": [
       "array([[1, 2, 3, 4, 5],\n",
       "       [5, 6, 7, 8, 9]])"
      ]
     },
     "execution_count": 57,
     "metadata": {},
     "output_type": "execute_result"
    }
   ],
   "source": [
    "np.vstack([array1,array2])"
   ]
  },
  {
   "cell_type": "markdown",
   "id": "b9db25ee",
   "metadata": {},
   "source": [
    "1. If there are equal number of rows then hstack is applied\n",
    "2. If there are equal number of columns then vstack is applied"
   ]
  },
  {
   "cell_type": "code",
   "execution_count": 58,
   "id": "a61e4790",
   "metadata": {},
   "outputs": [
    {
     "data": {
      "text/plain": [
       "array([1, 2, 3])"
      ]
     },
     "execution_count": 58,
     "metadata": {},
     "output_type": "execute_result"
    }
   ],
   "source": [
    "m = np.arange(1,4)\n",
    "m"
   ]
  },
  {
   "cell_type": "code",
   "execution_count": 59,
   "id": "15f22042",
   "metadata": {},
   "outputs": [
    {
     "data": {
      "text/plain": [
       "array([0, 1])"
      ]
     },
     "execution_count": 59,
     "metadata": {},
     "output_type": "execute_result"
    }
   ],
   "source": [
    "n = np.arange(0,2)\n",
    "n"
   ]
  },
  {
   "cell_type": "code",
   "execution_count": 60,
   "id": "8a0081d3",
   "metadata": {},
   "outputs": [
    {
     "data": {
      "text/plain": [
       "array([1, 2, 3, 4, 5, 6, 7])"
      ]
     },
     "execution_count": 60,
     "metadata": {},
     "output_type": "execute_result"
    }
   ],
   "source": [
    "o = np.arange(1,8)\n",
    "o"
   ]
  },
  {
   "cell_type": "code",
   "execution_count": 64,
   "id": "35e2464e",
   "metadata": {},
   "outputs": [
    {
     "data": {
      "text/plain": [
       "array([1, 2, 3, 0, 1, 1, 2, 3, 4, 5, 6, 7])"
      ]
     },
     "execution_count": 64,
     "metadata": {},
     "output_type": "execute_result"
    }
   ],
   "source": [
    "np.hstack([m,n,o])"
   ]
  },
  {
   "cell_type": "code",
   "execution_count": 66,
   "id": "5cf79665",
   "metadata": {},
   "outputs": [
    {
     "data": {
      "text/plain": [
       "array([[ 0,  1,  2],\n",
       "       [ 3,  4,  5],\n",
       "       [ 6,  7,  8],\n",
       "       [ 9, 10, 11]])"
      ]
     },
     "execution_count": 66,
     "metadata": {},
     "output_type": "execute_result"
    }
   ],
   "source": [
    "q = np.arange(12).reshape(-1,3)\n",
    "q"
   ]
  },
  {
   "cell_type": "code",
   "execution_count": 67,
   "id": "e0c07ff7",
   "metadata": {},
   "outputs": [
    {
     "data": {
      "text/plain": [
       "array([1, 2, 3])"
      ]
     },
     "execution_count": 67,
     "metadata": {},
     "output_type": "execute_result"
    }
   ],
   "source": [
    "m"
   ]
  },
  {
   "cell_type": "code",
   "execution_count": 69,
   "id": "4e00f1ca",
   "metadata": {},
   "outputs": [
    {
     "data": {
      "text/plain": [
       "array([[ 1,  2,  3],\n",
       "       [ 0,  1,  2],\n",
       "       [ 3,  4,  5],\n",
       "       [ 6,  7,  8],\n",
       "       [ 9, 10, 11]])"
      ]
     },
     "execution_count": 69,
     "metadata": {},
     "output_type": "execute_result"
    }
   ],
   "source": [
    "np.vstack([m,q])"
   ]
  },
  {
   "cell_type": "code",
   "execution_count": 71,
   "id": "5abb5bc5",
   "metadata": {},
   "outputs": [
    {
     "data": {
      "text/plain": [
       "array([[ 1,  2,  3],\n",
       "       [ 0,  1,  2],\n",
       "       [ 3,  4,  5],\n",
       "       [ 6,  7,  8],\n",
       "       [ 9, 10, 11],\n",
       "       [ 0,  1,  2],\n",
       "       [ 3,  4,  5],\n",
       "       [ 6,  7,  8],\n",
       "       [ 9, 10, 11],\n",
       "       [ 0,  1,  2],\n",
       "       [ 3,  4,  5],\n",
       "       [ 6,  7,  8],\n",
       "       [ 9, 10, 11]])"
      ]
     },
     "execution_count": 71,
     "metadata": {},
     "output_type": "execute_result"
    }
   ],
   "source": [
    "np.vstack([m,q,q,q,])"
   ]
  },
  {
   "cell_type": "markdown",
   "id": "c043255d",
   "metadata": {},
   "source": [
    "#### np.concatenate() \n",
    "It is used to apply both type of stacking together using a single line code.<br>\n",
    "But is applied when both arrays have same dimension"
   ]
  },
  {
   "cell_type": "code",
   "execution_count": 72,
   "id": "13edfa88",
   "metadata": {},
   "outputs": [
    {
     "data": {
      "text/plain": [
       "array([[0, 1],\n",
       "       [2, 3]])"
      ]
     },
     "execution_count": 72,
     "metadata": {},
     "output_type": "execute_result"
    }
   ],
   "source": [
    "a = np.arange(4).reshape(2,2)\n",
    "a"
   ]
  },
  {
   "cell_type": "code",
   "execution_count": 73,
   "id": "f0542926",
   "metadata": {},
   "outputs": [
    {
     "data": {
      "text/plain": [
       "array([[0, 1, 2, 3],\n",
       "       [4, 5, 6, 7]])"
      ]
     },
     "execution_count": 73,
     "metadata": {},
     "output_type": "execute_result"
    }
   ],
   "source": [
    "b = np.arange(8).reshape(2,4)\n",
    "b"
   ]
  },
  {
   "cell_type": "code",
   "execution_count": 75,
   "id": "f780457b",
   "metadata": {},
   "outputs": [
    {
     "data": {
      "text/plain": [
       "array([[0, 1, 0, 1, 2, 3],\n",
       "       [2, 3, 4, 5, 6, 7]])"
      ]
     },
     "execution_count": 75,
     "metadata": {},
     "output_type": "execute_result"
    }
   ],
   "source": [
    "np.hstack([a,b])"
   ]
  },
  {
   "cell_type": "code",
   "execution_count": 79,
   "id": "723b789d",
   "metadata": {},
   "outputs": [
    {
     "data": {
      "text/plain": [
       "array([[0, 1, 2, 3, 0, 1],\n",
       "       [4, 5, 6, 7, 2, 3]])"
      ]
     },
     "execution_count": 79,
     "metadata": {},
     "output_type": "execute_result"
    }
   ],
   "source": [
    "np.concatenate([b,a], axis=1)"
   ]
  },
  {
   "cell_type": "markdown",
   "id": "4a8bef5c",
   "metadata": {},
   "source": [
    "we are getting the same result using both of the above methods"
   ]
  },
  {
   "cell_type": "code",
   "execution_count": 81,
   "id": "1ab44ff4",
   "metadata": {},
   "outputs": [
    {
     "data": {
      "text/plain": [
       "array([0, 1, 2, 3, 0, 1, 2, 3, 4, 5, 6, 7])"
      ]
     },
     "execution_count": 81,
     "metadata": {},
     "output_type": "execute_result"
    }
   ],
   "source": [
    "# axis = None\n",
    "# it combines the two arrays like hstack\n",
    "\n",
    "np.concatenate([a,b], axis=None)"
   ]
  },
  {
   "cell_type": "markdown",
   "id": "028c8503",
   "metadata": {},
   "source": [
    "if we do not provide any axis then its default axis is set to 0 (i.e.; hstack)\n",
    "provided both the arrays are of same shape"
   ]
  },
  {
   "cell_type": "markdown",
   "id": "5c7750f7",
   "metadata": {},
   "source": [
    "#### np.random"
   ]
  },
  {
   "cell_type": "markdown",
   "id": "aee25c5c",
   "metadata": {},
   "source": [
    "np.random.randint - Generate a number between a given range"
   ]
  },
  {
   "cell_type": "code",
   "execution_count": 94,
   "id": "07a7a3f8",
   "metadata": {},
   "outputs": [
    {
     "data": {
      "text/plain": [
       "4"
      ]
     },
     "execution_count": 94,
     "metadata": {},
     "output_type": "execute_result"
    }
   ],
   "source": [
    "np.random.randint(100)"
   ]
  },
  {
   "cell_type": "code",
   "execution_count": 95,
   "id": "f2ac5fc5",
   "metadata": {},
   "outputs": [
    {
     "data": {
      "text/plain": [
       "67"
      ]
     },
     "execution_count": 95,
     "metadata": {},
     "output_type": "execute_result"
    }
   ],
   "source": [
    "np.random.randint(51,100)"
   ]
  },
  {
   "cell_type": "markdown",
   "id": "fafa94dc",
   "metadata": {},
   "source": [
    "np.random.choice - It allows us to generate a random value based on an array of values"
   ]
  },
  {
   "cell_type": "code",
   "execution_count": 99,
   "id": "a759ebf0",
   "metadata": {},
   "outputs": [
    {
     "data": {
      "text/plain": [
       "4"
      ]
     },
     "execution_count": 99,
     "metadata": {},
     "output_type": "execute_result"
    }
   ],
   "source": [
    "np.random.choice([2,3,4])"
   ]
  },
  {
   "cell_type": "markdown",
   "id": "0946c020",
   "metadata": {},
   "source": [
    "np.random.rand - Generate a 2-D array with n rows and m columns having numbers between 0 and 1<br>\n",
    "np.random.rand(n,m)"
   ]
  },
  {
   "cell_type": "code",
   "execution_count": 100,
   "id": "06016fdf",
   "metadata": {},
   "outputs": [
    {
     "data": {
      "text/plain": [
       "array([[0.69698782, 0.5281502 , 0.24189527, 0.38891676, 0.07394008],\n",
       "       [0.23872002, 0.47049274, 0.82118944, 0.03172456, 0.271468  ],\n",
       "       [0.38339713, 0.15609462, 0.44995572, 0.009421  , 0.60282735]])"
      ]
     },
     "execution_count": 100,
     "metadata": {},
     "output_type": "execute_result"
    }
   ],
   "source": [
    "np.random.rand(3,5)"
   ]
  },
  {
   "cell_type": "code",
   "execution_count": 104,
   "id": "2a4d2d8d",
   "metadata": {},
   "outputs": [
    {
     "data": {
      "text/plain": [
       "array([[0.82646459, 0.68509323, 0.81685772, 0.05133049, 0.70795149,\n",
       "        0.7475868 , 0.5899245 , 0.69014959],\n",
       "       [0.84268506, 0.22350573, 0.53452515, 0.45793843, 0.35663126,\n",
       "        0.6219489 , 0.88744306, 0.22858043],\n",
       "       [0.71097146, 0.71609517, 0.22965973, 0.59082496, 0.27097193,\n",
       "        0.73743868, 0.70748802, 0.97323194],\n",
       "       [0.9378105 , 0.78501086, 0.6999596 , 0.36201257, 0.1448169 ,\n",
       "        0.87240932, 0.83558619, 0.90020931]])"
      ]
     },
     "execution_count": 104,
     "metadata": {},
     "output_type": "execute_result"
    }
   ],
   "source": [
    "np.random.rand(4,8)"
   ]
  },
  {
   "cell_type": "markdown",
   "id": "bff6f60e",
   "metadata": {},
   "source": [
    "#### np.linspace"
   ]
  },
  {
   "cell_type": "code",
   "execution_count": 105,
   "id": "7f58e697",
   "metadata": {},
   "outputs": [
    {
     "data": {
      "text/plain": [
       "array([0.        , 0.05263158, 0.10526316, 0.15789474, 0.21052632,\n",
       "       0.26315789, 0.31578947, 0.36842105, 0.42105263, 0.47368421,\n",
       "       0.52631579, 0.57894737, 0.63157895, 0.68421053, 0.73684211,\n",
       "       0.78947368, 0.84210526, 0.89473684, 0.94736842, 1.        ])"
      ]
     },
     "execution_count": 105,
     "metadata": {},
     "output_type": "execute_result"
    }
   ],
   "source": [
    "np.linspace(0,1,20)"
   ]
  },
  {
   "cell_type": "code",
   "execution_count": 106,
   "id": "593133a9",
   "metadata": {},
   "outputs": [
    {
     "data": {
      "text/plain": [
       "array([-1.        , -0.97979798, -0.95959596, -0.93939394, -0.91919192,\n",
       "       -0.8989899 , -0.87878788, -0.85858586, -0.83838384, -0.81818182,\n",
       "       -0.7979798 , -0.77777778, -0.75757576, -0.73737374, -0.71717172,\n",
       "       -0.6969697 , -0.67676768, -0.65656566, -0.63636364, -0.61616162,\n",
       "       -0.5959596 , -0.57575758, -0.55555556, -0.53535354, -0.51515152,\n",
       "       -0.49494949, -0.47474747, -0.45454545, -0.43434343, -0.41414141,\n",
       "       -0.39393939, -0.37373737, -0.35353535, -0.33333333, -0.31313131,\n",
       "       -0.29292929, -0.27272727, -0.25252525, -0.23232323, -0.21212121,\n",
       "       -0.19191919, -0.17171717, -0.15151515, -0.13131313, -0.11111111,\n",
       "       -0.09090909, -0.07070707, -0.05050505, -0.03030303, -0.01010101,\n",
       "        0.01010101,  0.03030303,  0.05050505,  0.07070707,  0.09090909,\n",
       "        0.11111111,  0.13131313,  0.15151515,  0.17171717,  0.19191919,\n",
       "        0.21212121,  0.23232323,  0.25252525,  0.27272727,  0.29292929,\n",
       "        0.31313131,  0.33333333,  0.35353535,  0.37373737,  0.39393939,\n",
       "        0.41414141,  0.43434343,  0.45454545,  0.47474747,  0.49494949,\n",
       "        0.51515152,  0.53535354,  0.55555556,  0.57575758,  0.5959596 ,\n",
       "        0.61616162,  0.63636364,  0.65656566,  0.67676768,  0.6969697 ,\n",
       "        0.71717172,  0.73737374,  0.75757576,  0.77777778,  0.7979798 ,\n",
       "        0.81818182,  0.83838384,  0.85858586,  0.87878788,  0.8989899 ,\n",
       "        0.91919192,  0.93939394,  0.95959596,  0.97979798,  1.        ])"
      ]
     },
     "execution_count": 106,
     "metadata": {},
     "output_type": "execute_result"
    }
   ],
   "source": [
    "np.linspace(-1,1,100)"
   ]
  },
  {
   "cell_type": "code",
   "execution_count": null,
   "id": "5b74de9b",
   "metadata": {},
   "outputs": [],
   "source": []
  }
 ],
 "metadata": {
  "kernelspec": {
   "display_name": "Python 3 (ipykernel)",
   "language": "python",
   "name": "python3"
  },
  "language_info": {
   "codemirror_mode": {
    "name": "ipython",
    "version": 3
   },
   "file_extension": ".py",
   "mimetype": "text/x-python",
   "name": "python",
   "nbconvert_exporter": "python",
   "pygments_lexer": "ipython3",
   "version": "3.11.4"
  }
 },
 "nbformat": 4,
 "nbformat_minor": 5
}
