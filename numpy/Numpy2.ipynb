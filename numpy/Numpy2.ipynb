{
 "cells": [
  {
   "cell_type": "code",
   "execution_count": 94,
   "id": "9737bdc7",
   "metadata": {},
   "outputs": [],
   "source": [
    "import numpy as np"
   ]
  },
  {
   "cell_type": "markdown",
   "id": "29a4b880",
   "metadata": {},
   "source": [
    "#### Sorting a numpy array"
   ]
  },
  {
   "cell_type": "code",
   "execution_count": 95,
   "id": "233a3f1d",
   "metadata": {},
   "outputs": [],
   "source": [
    "a = np.array([23, 65, 10, 45, 2, 17, 38, 19, 44, 26])"
   ]
  },
  {
   "cell_type": "code",
   "execution_count": 96,
   "id": "87f4ba04",
   "metadata": {},
   "outputs": [
    {
     "data": {
      "text/plain": [
       "array([23, 65, 10, 45,  2, 17, 38, 19, 44, 26])"
      ]
     },
     "execution_count": 96,
     "metadata": {},
     "output_type": "execute_result"
    }
   ],
   "source": [
    "a"
   ]
  },
  {
   "cell_type": "code",
   "execution_count": 97,
   "id": "a2e4d825",
   "metadata": {},
   "outputs": [
    {
     "data": {
      "text/plain": [
       "array([ 2, 10, 17, 19, 23, 26, 38, 44, 45, 65])"
      ]
     },
     "execution_count": 97,
     "metadata": {},
     "output_type": "execute_result"
    }
   ],
   "source": [
    "np.sort(a)           # this does not make a permanent change"
   ]
  },
  {
   "cell_type": "code",
   "execution_count": 22,
   "id": "dbf6fab0",
   "metadata": {},
   "outputs": [
    {
     "data": {
      "text/plain": [
       "array([23, 65, 10, 45,  2, 17, 38, 19, 44, 26])"
      ]
     },
     "execution_count": 22,
     "metadata": {},
     "output_type": "execute_result"
    }
   ],
   "source": [
    "a"
   ]
  },
  {
   "cell_type": "code",
   "execution_count": 98,
   "id": "fc6b403e",
   "metadata": {},
   "outputs": [],
   "source": [
    "a.sort()            # this will make a permanent change"
   ]
  },
  {
   "cell_type": "code",
   "execution_count": 99,
   "id": "47223412",
   "metadata": {},
   "outputs": [
    {
     "data": {
      "text/plain": [
       "array([ 2, 10, 17, 19, 23, 26, 38, 44, 45, 65])"
      ]
     },
     "execution_count": 99,
     "metadata": {},
     "output_type": "execute_result"
    }
   ],
   "source": [
    "a"
   ]
  },
  {
   "cell_type": "markdown",
   "id": "bb7f8769",
   "metadata": {},
   "source": [
    "#### argsort - argument sort\n",
    "array.argsort() returns the indices of sorted elements within an array"
   ]
  },
  {
   "cell_type": "code",
   "execution_count": 100,
   "id": "acf9a729",
   "metadata": {},
   "outputs": [
    {
     "data": {
      "text/plain": [
       "array([12, 16,  9,  1, 30])"
      ]
     },
     "execution_count": 100,
     "metadata": {},
     "output_type": "execute_result"
    }
   ],
   "source": [
    "a = np.array([12, 16, 9, 1, 30])\n",
    "a"
   ]
  },
  {
   "cell_type": "code",
   "execution_count": 101,
   "id": "46857ac1",
   "metadata": {},
   "outputs": [
    {
     "data": {
      "text/plain": [
       "array([3, 2, 0, 1, 4], dtype=int64)"
      ]
     },
     "execution_count": 101,
     "metadata": {},
     "output_type": "execute_result"
    }
   ],
   "source": [
    "np.argsort(a)"
   ]
  },
  {
   "cell_type": "code",
   "execution_count": 48,
   "id": "4b8c76bb",
   "metadata": {},
   "outputs": [
    {
     "data": {
      "text/plain": [
       "4"
      ]
     },
     "execution_count": 48,
     "metadata": {},
     "output_type": "execute_result"
    }
   ],
   "source": [
    "np.argmax(a)"
   ]
  },
  {
   "cell_type": "code",
   "execution_count": 49,
   "id": "05b573e5",
   "metadata": {},
   "outputs": [
    {
     "data": {
      "text/plain": [
       "3"
      ]
     },
     "execution_count": 49,
     "metadata": {},
     "output_type": "execute_result"
    }
   ],
   "source": [
    "np.argmin(a)"
   ]
  },
  {
   "cell_type": "markdown",
   "id": "09745802",
   "metadata": {},
   "source": [
    "Sorting a 2D array"
   ]
  },
  {
   "cell_type": "code",
   "execution_count": 52,
   "id": "a2679ed3",
   "metadata": {},
   "outputs": [
    {
     "data": {
      "text/plain": [
       "array([[20,  4,  8],\n",
       "       [12,  2, 10]])"
      ]
     },
     "execution_count": 52,
     "metadata": {},
     "output_type": "execute_result"
    }
   ],
   "source": [
    "x = np.array([[20,4,8],[12,2,10]])\n",
    "x"
   ]
  },
  {
   "cell_type": "code",
   "execution_count": 54,
   "id": "b632b204",
   "metadata": {},
   "outputs": [
    {
     "data": {
      "text/plain": [
       "array([[ 4,  8, 20],\n",
       "       [ 2, 10, 12]])"
      ]
     },
     "execution_count": 54,
     "metadata": {},
     "output_type": "execute_result"
    }
   ],
   "source": [
    "# by default it sorts the array row wise\n",
    "np.sort(x)"
   ]
  },
  {
   "cell_type": "code",
   "execution_count": 56,
   "id": "af4331c2",
   "metadata": {},
   "outputs": [
    {
     "data": {
      "text/plain": [
       "array([[12,  2,  8],\n",
       "       [20,  4, 10]])"
      ]
     },
     "execution_count": 56,
     "metadata": {},
     "output_type": "execute_result"
    }
   ],
   "source": [
    "# sort a 2D array column wise\n",
    "np.sort(x, axis=0)"
   ]
  },
  {
   "cell_type": "markdown",
   "id": "3c637b0a",
   "metadata": {},
   "source": [
    "In numpy,\n",
    "1. axis = 0 --> column\n",
    "2. axis = 1 --> row"
   ]
  },
  {
   "cell_type": "code",
   "execution_count": 120,
   "id": "a91bf644",
   "metadata": {},
   "outputs": [
    {
     "data": {
      "text/plain": [
       "array([1, 2, 3, 4, 5, 6, 7, 8, 9])"
      ]
     },
     "execution_count": 120,
     "metadata": {},
     "output_type": "execute_result"
    }
   ],
   "source": [
    " # axis=None removes the shape and convert the matrix into a 1D array\n",
    "np.sort(x, axis=None)"
   ]
  },
  {
   "cell_type": "markdown",
   "id": "5015b9de",
   "metadata": {},
   "source": [
    "#### Multiplication of two arrays"
   ]
  },
  {
   "cell_type": "code",
   "execution_count": 106,
   "id": "15dbf3a1",
   "metadata": {},
   "outputs": [
    {
     "data": {
      "text/plain": [
       "array([[1, 2, 3],\n",
       "       [4, 5, 6],\n",
       "       [7, 8, 9]])"
      ]
     },
     "execution_count": 106,
     "metadata": {},
     "output_type": "execute_result"
    }
   ],
   "source": [
    "x = np.arange(1,10).reshape(3,3)\n",
    "x"
   ]
  },
  {
   "cell_type": "code",
   "execution_count": 107,
   "id": "41f5d687",
   "metadata": {},
   "outputs": [
    {
     "data": {
      "text/plain": [
       "array([[11, 12, 13],\n",
       "       [14, 15, 16],\n",
       "       [17, 18, 19]])"
      ]
     },
     "execution_count": 107,
     "metadata": {},
     "output_type": "execute_result"
    }
   ],
   "source": [
    "y = np.arange(11,20).reshape(3,3)\n",
    "y"
   ]
  },
  {
   "cell_type": "code",
   "execution_count": 108,
   "id": "c1ba7941",
   "metadata": {},
   "outputs": [
    {
     "data": {
      "text/plain": [
       "array([[ 11,  24,  39],\n",
       "       [ 56,  75,  96],\n",
       "       [119, 144, 171]])"
      ]
     },
     "execution_count": 108,
     "metadata": {},
     "output_type": "execute_result"
    }
   ],
   "source": [
    "x*y"
   ]
  },
  {
   "cell_type": "markdown",
   "id": "abf876d5",
   "metadata": {},
   "source": [
    "#### Matrix Multiplication"
   ]
  },
  {
   "cell_type": "code",
   "execution_count": 109,
   "id": "8db368a2",
   "metadata": {},
   "outputs": [
    {
     "data": {
      "text/plain": [
       "array([[1, 2, 3],\n",
       "       [3, 4, 5]])"
      ]
     },
     "execution_count": 109,
     "metadata": {},
     "output_type": "execute_result"
    }
   ],
   "source": [
    "a = np.array([[1,2,3],[3,4,5]])\n",
    "a"
   ]
  },
  {
   "cell_type": "code",
   "execution_count": 110,
   "id": "fed6ff88",
   "metadata": {},
   "outputs": [
    {
     "data": {
      "text/plain": [
       "array([[11, 12],\n",
       "       [13, 14],\n",
       "       [15, 16]])"
      ]
     },
     "execution_count": 110,
     "metadata": {},
     "output_type": "execute_result"
    }
   ],
   "source": [
    "b = np.array([[11,12],[13,14],[15,16]])\n",
    "b"
   ]
  },
  {
   "cell_type": "code",
   "execution_count": 111,
   "id": "64ea0855",
   "metadata": {},
   "outputs": [
    {
     "data": {
      "text/plain": [
       "(2, 3)"
      ]
     },
     "execution_count": 111,
     "metadata": {},
     "output_type": "execute_result"
    }
   ],
   "source": [
    "a.shape"
   ]
  },
  {
   "cell_type": "code",
   "execution_count": 112,
   "id": "452bcc8e",
   "metadata": {},
   "outputs": [
    {
     "data": {
      "text/plain": [
       "(3, 2)"
      ]
     },
     "execution_count": 112,
     "metadata": {},
     "output_type": "execute_result"
    }
   ],
   "source": [
    "b.shape"
   ]
  },
  {
   "cell_type": "code",
   "execution_count": 113,
   "id": "b6d4e57c",
   "metadata": {},
   "outputs": [
    {
     "data": {
      "text/plain": [
       "array([[ 82,  88],\n",
       "       [160, 172]])"
      ]
     },
     "execution_count": 113,
     "metadata": {},
     "output_type": "execute_result"
    }
   ],
   "source": [
    "# 1. using matmul method -\n",
    "np.matmul(a,b)"
   ]
  },
  {
   "cell_type": "code",
   "execution_count": 114,
   "id": "c8bbc4e6",
   "metadata": {},
   "outputs": [
    {
     "data": {
      "text/plain": [
       "array([[ 82,  88],\n",
       "       [160, 172]])"
      ]
     },
     "execution_count": 114,
     "metadata": {},
     "output_type": "execute_result"
    }
   ],
   "source": [
    "# 2. short way for matrix multiplication using @\n",
    "a@b"
   ]
  },
  {
   "cell_type": "markdown",
   "id": "fbf97e1f",
   "metadata": {},
   "source": [
    "Since matrix is nothing but a vector, hence we can find the dot product between the two matrices."
   ]
  },
  {
   "cell_type": "code",
   "execution_count": 115,
   "id": "469dbbe6",
   "metadata": {},
   "outputs": [
    {
     "data": {
      "text/plain": [
       "array([[ 82,  88],\n",
       "       [160, 172]])"
      ]
     },
     "execution_count": 115,
     "metadata": {},
     "output_type": "execute_result"
    }
   ],
   "source": [
    "# 3. using np.dot\n",
    "# this will give same result as matrix multiplication\n",
    "np.dot(a,b)"
   ]
  },
  {
   "cell_type": "code",
   "execution_count": 116,
   "id": "8192ada2",
   "metadata": {},
   "outputs": [
    {
     "data": {
      "text/plain": [
       "array([[ 82,  88],\n",
       "       [160, 172]])"
      ]
     },
     "execution_count": 116,
     "metadata": {},
     "output_type": "execute_result"
    }
   ],
   "source": [
    "# 4. matrix1.dot(matrix2)\n",
    "a.dot(b)"
   ]
  },
  {
   "cell_type": "markdown",
   "id": "919b27be",
   "metadata": {},
   "source": [
    "#### Scaler Multiplication - multiplying a vector with a scaler value"
   ]
  },
  {
   "cell_type": "code",
   "execution_count": 117,
   "id": "e3288625",
   "metadata": {},
   "outputs": [],
   "source": [
    "a = np.arange(1,10).reshape(3,3)"
   ]
  },
  {
   "cell_type": "code",
   "execution_count": 118,
   "id": "d27d2089",
   "metadata": {},
   "outputs": [
    {
     "data": {
      "text/plain": [
       "array([[1, 2, 3],\n",
       "       [4, 5, 6],\n",
       "       [7, 8, 9]])"
      ]
     },
     "execution_count": 118,
     "metadata": {},
     "output_type": "execute_result"
    }
   ],
   "source": [
    "a"
   ]
  },
  {
   "cell_type": "code",
   "execution_count": 119,
   "id": "050b6c24",
   "metadata": {},
   "outputs": [
    {
     "data": {
      "text/plain": [
       "array([[ 6, 12, 18],\n",
       "       [24, 30, 36],\n",
       "       [42, 48, 54]])"
      ]
     },
     "execution_count": 119,
     "metadata": {},
     "output_type": "execute_result"
    }
   ],
   "source": [
    "a*6"
   ]
  },
  {
   "cell_type": "code",
   "execution_count": 140,
   "id": "e3577367",
   "metadata": {},
   "outputs": [
    {
     "data": {
      "text/plain": [
       "array([[ 6, 12, 18],\n",
       "       [24, 30, 36],\n",
       "       [42, 48, 54]])"
      ]
     },
     "execution_count": 140,
     "metadata": {},
     "output_type": "execute_result"
    }
   ],
   "source": [
    "np.dot(a,6)"
   ]
  },
  {
   "cell_type": "markdown",
   "id": "4a411598",
   "metadata": {},
   "source": [
    "#### Vectorization\n",
    "Vectorization is a method of performing array operations without the use of for loops."
   ]
  },
  {
   "cell_type": "code",
   "execution_count": 120,
   "id": "6e41fa11",
   "metadata": {},
   "outputs": [
    {
     "data": {
      "text/plain": [
       "array([1, 2, 3, 4, 5])"
      ]
     },
     "execution_count": 120,
     "metadata": {},
     "output_type": "execute_result"
    }
   ],
   "source": [
    "arr = np.array([1,2,3,4,5])\n",
    "arr"
   ]
  },
  {
   "cell_type": "markdown",
   "id": "55f8dd57",
   "metadata": {},
   "source": [
    "Ex-1"
   ]
  },
  {
   "cell_type": "code",
   "execution_count": 121,
   "id": "e5f40f55",
   "metadata": {},
   "outputs": [],
   "source": [
    "def even(n):\n",
    "    return n%2==0"
   ]
  },
  {
   "cell_type": "code",
   "execution_count": 122,
   "id": "5795541d",
   "metadata": {},
   "outputs": [],
   "source": [
    "Even_num = np.vectorize(even)"
   ]
  },
  {
   "cell_type": "code",
   "execution_count": 123,
   "id": "39e41543",
   "metadata": {},
   "outputs": [
    {
     "data": {
      "text/plain": [
       "array([False,  True, False,  True, False])"
      ]
     },
     "execution_count": 123,
     "metadata": {},
     "output_type": "execute_result"
    }
   ],
   "source": [
    "Even_num(arr)"
   ]
  },
  {
   "cell_type": "code",
   "execution_count": 124,
   "id": "d92ed541",
   "metadata": {},
   "outputs": [
    {
     "data": {
      "text/plain": [
       "array([False,  True, False,  True, False,  True, False])"
      ]
     },
     "execution_count": 124,
     "metadata": {},
     "output_type": "execute_result"
    }
   ],
   "source": [
    "Even_num(np.array([3,4,5,6,7,8,9]))"
   ]
  },
  {
   "cell_type": "markdown",
   "id": "60967fc1",
   "metadata": {},
   "source": [
    "Ex-2"
   ]
  },
  {
   "cell_type": "code",
   "execution_count": 134,
   "id": "b9b444fc",
   "metadata": {},
   "outputs": [],
   "source": [
    "even_odd = np.vectorize(lambda x:'even' if x%2 == 0 else 'odd')"
   ]
  },
  {
   "cell_type": "code",
   "execution_count": 135,
   "id": "c952ffd6",
   "metadata": {},
   "outputs": [
    {
     "data": {
      "text/plain": [
       "array(['odd', 'even', 'odd', 'even', 'odd'], dtype='<U4')"
      ]
     },
     "execution_count": 135,
     "metadata": {},
     "output_type": "execute_result"
    }
   ],
   "source": [
    "even_odd(arr)"
   ]
  },
  {
   "cell_type": "markdown",
   "id": "8fde942d",
   "metadata": {},
   "source": [
    "Ex-3"
   ]
  },
  {
   "cell_type": "code",
   "execution_count": 136,
   "id": "7437547f",
   "metadata": {},
   "outputs": [],
   "source": [
    "import math"
   ]
  },
  {
   "cell_type": "code",
   "execution_count": 138,
   "id": "a63312ac",
   "metadata": {},
   "outputs": [],
   "source": [
    "Power = np.vectorize(math.pow)"
   ]
  },
  {
   "cell_type": "code",
   "execution_count": 139,
   "id": "a8e58b24",
   "metadata": {},
   "outputs": [
    {
     "data": {
      "text/plain": [
       "array([  1.,   8.,  27.,  64., 125.])"
      ]
     },
     "execution_count": 139,
     "metadata": {},
     "output_type": "execute_result"
    }
   ],
   "source": [
    "Power(arr,3)"
   ]
  },
  {
   "cell_type": "markdown",
   "id": "4ddd3bb4",
   "metadata": {},
   "source": [
    "Ex-4"
   ]
  },
  {
   "cell_type": "code",
   "execution_count": 168,
   "id": "de1d08ad",
   "metadata": {},
   "outputs": [],
   "source": [
    "Fact = np.vectorize(math.factorial)"
   ]
  },
  {
   "cell_type": "code",
   "execution_count": 169,
   "id": "069c04d0",
   "metadata": {},
   "outputs": [
    {
     "data": {
      "text/plain": [
       "array([  1,   2,   6,  24, 120])"
      ]
     },
     "execution_count": 169,
     "metadata": {},
     "output_type": "execute_result"
    }
   ],
   "source": [
    "Fact(arr)"
   ]
  },
  {
   "cell_type": "markdown",
   "id": "9c43806b",
   "metadata": {},
   "source": [
    "Ex-5"
   ]
  },
  {
   "cell_type": "code",
   "execution_count": 170,
   "id": "482d888a",
   "metadata": {},
   "outputs": [],
   "source": [
    "logarithm = np.vectorize(math.log)"
   ]
  },
  {
   "cell_type": "code",
   "execution_count": 171,
   "id": "c2cf7094",
   "metadata": {},
   "outputs": [
    {
     "data": {
      "text/plain": [
       "array([0.        , 0.69314718, 1.09861229, 1.38629436, 1.60943791])"
      ]
     },
     "execution_count": 171,
     "metadata": {},
     "output_type": "execute_result"
    }
   ],
   "source": [
    "logarithm(arr)"
   ]
  },
  {
   "cell_type": "markdown",
   "id": "5567cc1e",
   "metadata": {},
   "source": [
    "#### Ques. Find which of the elements of an array are prime.\n",
    "array = np.array([12, 4, 11, 16, 3, 20, 17, 13, 8])\n",
    "1. Return prime if the number is prime\n",
    "2. Return not prime if the number is not prime"
   ]
  },
  {
   "cell_type": "markdown",
   "id": "d5ec7a67",
   "metadata": {},
   "source": [
    "#### Tile Function\n",
    "It used to repeat multiple rows and columns.<br>np.tile(no. of times rows need to repeat, no. of times columns need to repeat)"
   ]
  },
  {
   "cell_type": "code",
   "execution_count": 142,
   "id": "1996a12c",
   "metadata": {},
   "outputs": [],
   "source": [
    "arr = np.arange(10,40,10)"
   ]
  },
  {
   "cell_type": "code",
   "execution_count": 144,
   "id": "64e5b2a7",
   "metadata": {},
   "outputs": [
    {
     "data": {
      "text/plain": [
       "array([10, 20, 30])"
      ]
     },
     "execution_count": 144,
     "metadata": {},
     "output_type": "execute_result"
    }
   ],
   "source": [
    "arr"
   ]
  },
  {
   "cell_type": "code",
   "execution_count": 150,
   "id": "324cce11",
   "metadata": {},
   "outputs": [
    {
     "data": {
      "text/plain": [
       "array([[10, 20, 30, 10, 20, 30],\n",
       "       [10, 20, 30, 10, 20, 30],\n",
       "       [10, 20, 30, 10, 20, 30],\n",
       "       [10, 20, 30, 10, 20, 30]])"
      ]
     },
     "execution_count": 150,
     "metadata": {},
     "output_type": "execute_result"
    }
   ],
   "source": [
    "np.tile(arr,(4,2))"
   ]
  },
  {
   "cell_type": "code",
   "execution_count": 151,
   "id": "a42e1664",
   "metadata": {},
   "outputs": [
    {
     "data": {
      "text/plain": [
       "array([[10, 20, 30],\n",
       "       [10, 20, 30],\n",
       "       [10, 20, 30]])"
      ]
     },
     "execution_count": 151,
     "metadata": {},
     "output_type": "execute_result"
    }
   ],
   "source": [
    "np.tile(arr,(3,1))"
   ]
  },
  {
   "cell_type": "markdown",
   "id": "ad4957f1",
   "metadata": {},
   "source": [
    "#### Broadcasting\n",
    "A process that allows arrays with different shapes to be used in arithmetic operations.<br>\n",
    "It stretches or replicate smaller arrays to match the dimensions of larger ones during these operations."
   ]
  },
  {
   "cell_type": "code",
   "execution_count": 153,
   "id": "d98aacf7",
   "metadata": {},
   "outputs": [
    {
     "data": {
      "text/plain": [
       "array([[ 1,  2,  3],\n",
       "       [ 4,  5,  6],\n",
       "       [ 7,  8,  9],\n",
       "       [10, 11, 12]])"
      ]
     },
     "execution_count": 153,
     "metadata": {},
     "output_type": "execute_result"
    }
   ],
   "source": [
    "a = np.arange(1,13).reshape(-1,3)\n",
    "a"
   ]
  },
  {
   "cell_type": "code",
   "execution_count": 154,
   "id": "b0044eb1",
   "metadata": {},
   "outputs": [],
   "source": [
    "b = np.array([8, 1, 6])"
   ]
  },
  {
   "cell_type": "code",
   "execution_count": 155,
   "id": "16fafd1d",
   "metadata": {},
   "outputs": [
    {
     "data": {
      "text/plain": [
       "array([8, 1, 6])"
      ]
     },
     "execution_count": 155,
     "metadata": {},
     "output_type": "execute_result"
    }
   ],
   "source": [
    "b"
   ]
  },
  {
   "cell_type": "code",
   "execution_count": 157,
   "id": "2ae40d53",
   "metadata": {},
   "outputs": [
    {
     "data": {
      "text/plain": [
       "array([[ 8,  2, 18],\n",
       "       [32,  5, 36],\n",
       "       [56,  8, 54],\n",
       "       [80, 11, 72]])"
      ]
     },
     "execution_count": 157,
     "metadata": {},
     "output_type": "execute_result"
    }
   ],
   "source": [
    "a*b"
   ]
  },
  {
   "cell_type": "markdown",
   "id": "3cad4083",
   "metadata": {},
   "source": [
    "Here array b is broadcasted<br>\n",
    "np.tile() function do broadcasting as it repeats rows or columns many times"
   ]
  },
  {
   "cell_type": "code",
   "execution_count": 158,
   "id": "7dab62e0",
   "metadata": {},
   "outputs": [
    {
     "data": {
      "text/plain": [
       "array([1, 2, 3, 4])"
      ]
     },
     "execution_count": 158,
     "metadata": {},
     "output_type": "execute_result"
    }
   ],
   "source": [
    "a = np.arange(1,5)\n",
    "a"
   ]
  },
  {
   "cell_type": "code",
   "execution_count": 159,
   "id": "480d2925",
   "metadata": {},
   "outputs": [
    {
     "data": {
      "text/plain": [
       "array([[5],\n",
       "       [6],\n",
       "       [7],\n",
       "       [8]])"
      ]
     },
     "execution_count": 159,
     "metadata": {},
     "output_type": "execute_result"
    }
   ],
   "source": [
    "b = np.arange(5,9).reshape(4,1)\n",
    "b"
   ]
  },
  {
   "cell_type": "code",
   "execution_count": 161,
   "id": "197f8167",
   "metadata": {},
   "outputs": [
    {
     "data": {
      "text/plain": [
       "array([[ 6,  7,  8,  9],\n",
       "       [ 7,  8,  9, 10],\n",
       "       [ 8,  9, 10, 11],\n",
       "       [ 9, 10, 11, 12]])"
      ]
     },
     "execution_count": 161,
     "metadata": {},
     "output_type": "execute_result"
    }
   ],
   "source": [
    "a+b"
   ]
  },
  {
   "cell_type": "markdown",
   "id": "9178754f",
   "metadata": {},
   "source": [
    "a has shape 1x4 and b has shape 4x1 then a+b will have shape (any mathematical operation) 4x4 as both a and b are broadcasted."
   ]
  },
  {
   "cell_type": "code",
   "execution_count": 163,
   "id": "29f9e693",
   "metadata": {},
   "outputs": [
    {
     "data": {
      "text/plain": [
       "array([[0, 1, 2, 3],\n",
       "       [4, 5, 6, 7]])"
      ]
     },
     "execution_count": 163,
     "metadata": {},
     "output_type": "execute_result"
    }
   ],
   "source": [
    "a = np.arange(8).reshape(2,4)\n",
    "a"
   ]
  },
  {
   "cell_type": "code",
   "execution_count": 164,
   "id": "dcd8495e",
   "metadata": {},
   "outputs": [
    {
     "data": {
      "text/plain": [
       "array([[ 0,  1,  2,  3],\n",
       "       [ 4,  5,  6,  7],\n",
       "       [ 8,  9, 10, 11],\n",
       "       [12, 13, 14, 15]])"
      ]
     },
     "execution_count": 164,
     "metadata": {},
     "output_type": "execute_result"
    }
   ],
   "source": [
    "b = np.arange(16).reshape(4,4)\n",
    "b"
   ]
  },
  {
   "cell_type": "code",
   "execution_count": 165,
   "id": "6556cfa8",
   "metadata": {},
   "outputs": [
    {
     "ename": "ValueError",
     "evalue": "operands could not be broadcast together with shapes (2,4) (4,4) ",
     "output_type": "error",
     "traceback": [
      "\u001b[1;31m---------------------------------------------------------------------------\u001b[0m",
      "\u001b[1;31mValueError\u001b[0m                                Traceback (most recent call last)",
      "Cell \u001b[1;32mIn[165], line 1\u001b[0m\n\u001b[1;32m----> 1\u001b[0m \u001b[43ma\u001b[49m\u001b[38;5;241;43m+\u001b[39;49m\u001b[43mb\u001b[49m\n",
      "\u001b[1;31mValueError\u001b[0m: operands could not be broadcast together with shapes (2,4) (4,4) "
     ]
    }
   ],
   "source": [
    "a+b"
   ]
  },
  {
   "cell_type": "markdown",
   "id": "ba8833e0",
   "metadata": {},
   "source": [
    "Broadcasting is done only if one of the array is 1D"
   ]
  },
  {
   "cell_type": "markdown",
   "id": "67c53d32",
   "metadata": {},
   "source": [
    "#### Shallow Copy and Deep Copy"
   ]
  },
  {
   "cell_type": "code",
   "execution_count": 167,
   "id": "f88eb288",
   "metadata": {},
   "outputs": [
    {
     "data": {
      "text/plain": [
       "array([1, 2, 3, 4, 5])"
      ]
     },
     "execution_count": 167,
     "metadata": {},
     "output_type": "execute_result"
    }
   ],
   "source": [
    "x = np.array([1,2,3,4,5])\n",
    "x"
   ]
  },
  {
   "cell_type": "code",
   "execution_count": 170,
   "id": "2313c910",
   "metadata": {},
   "outputs": [
    {
     "data": {
      "text/plain": [
       "array([1, 2, 3])"
      ]
     },
     "execution_count": 170,
     "metadata": {},
     "output_type": "execute_result"
    }
   ],
   "source": [
    "y = x[:3]\n",
    "y"
   ]
  },
  {
   "cell_type": "code",
   "execution_count": 171,
   "id": "628f9744",
   "metadata": {},
   "outputs": [
    {
     "data": {
      "text/plain": [
       "array([100,   2,   3])"
      ]
     },
     "execution_count": 171,
     "metadata": {},
     "output_type": "execute_result"
    }
   ],
   "source": [
    "y[0]=100\n",
    "y"
   ]
  },
  {
   "cell_type": "code",
   "execution_count": 172,
   "id": "dd0fe4ed",
   "metadata": {},
   "outputs": [
    {
     "data": {
      "text/plain": [
       "array([100,   2,   3,   4,   5])"
      ]
     },
     "execution_count": 172,
     "metadata": {},
     "output_type": "execute_result"
    }
   ],
   "source": [
    "x"
   ]
  },
  {
   "cell_type": "markdown",
   "id": "d1ac5282",
   "metadata": {},
   "source": [
    "Making changes in array x changes the element in array y too. This is known as shallow copy."
   ]
  },
  {
   "cell_type": "markdown",
   "id": "18e1aff4",
   "metadata": {},
   "source": [
    "np.shares_memory(array1, array2) is used to check whether the arrays share same memory location or not"
   ]
  },
  {
   "cell_type": "code",
   "execution_count": 173,
   "id": "130dc7b7",
   "metadata": {},
   "outputs": [
    {
     "data": {
      "text/plain": [
       "True"
      ]
     },
     "execution_count": 173,
     "metadata": {},
     "output_type": "execute_result"
    }
   ],
   "source": [
    "np.shares_memory(x,y)"
   ]
  },
  {
   "cell_type": "markdown",
   "id": "21a7445c",
   "metadata": {},
   "source": [
    "Therefore, it can seen that <b>slicing creates a shallow copy</b>"
   ]
  },
  {
   "cell_type": "code",
   "execution_count": 175,
   "id": "ae282a8c",
   "metadata": {},
   "outputs": [
    {
     "data": {
      "text/plain": [
       "array([1, 2, 3, 4, 5])"
      ]
     },
     "execution_count": 175,
     "metadata": {},
     "output_type": "execute_result"
    }
   ],
   "source": [
    "a = np.arange(1,6)\n",
    "a"
   ]
  },
  {
   "cell_type": "code",
   "execution_count": 176,
   "id": "5b70a899",
   "metadata": {},
   "outputs": [
    {
     "data": {
      "text/plain": [
       "array([11, 12, 13, 14, 15])"
      ]
     },
     "execution_count": 176,
     "metadata": {},
     "output_type": "execute_result"
    }
   ],
   "source": [
    "b = a+10\n",
    "b"
   ]
  },
  {
   "cell_type": "code",
   "execution_count": 177,
   "id": "e44f7b03",
   "metadata": {},
   "outputs": [
    {
     "data": {
      "text/plain": [
       "array([9999,    2,    3,    4,    5])"
      ]
     },
     "execution_count": 177,
     "metadata": {},
     "output_type": "execute_result"
    }
   ],
   "source": [
    "a[0] = 9999\n",
    "a"
   ]
  },
  {
   "cell_type": "code",
   "execution_count": 178,
   "id": "0a95ea04",
   "metadata": {},
   "outputs": [
    {
     "data": {
      "text/plain": [
       "array([11, 12, 13, 14, 15])"
      ]
     },
     "execution_count": 178,
     "metadata": {},
     "output_type": "execute_result"
    }
   ],
   "source": [
    "b"
   ]
  },
  {
   "cell_type": "code",
   "execution_count": 179,
   "id": "dc4c56c4",
   "metadata": {},
   "outputs": [
    {
     "data": {
      "text/plain": [
       "False"
      ]
     },
     "execution_count": 179,
     "metadata": {},
     "output_type": "execute_result"
    }
   ],
   "source": [
    "np.shares_memory(a,b)"
   ]
  },
  {
   "cell_type": "markdown",
   "id": "5e59582a",
   "metadata": {},
   "source": [
    "This is a deep copy.<br>\n",
    "Therefore, it can be seen that creating an array on performing mathematical operations creates a deep copy"
   ]
  },
  {
   "cell_type": "code",
   "execution_count": 181,
   "id": "8c6212c2",
   "metadata": {},
   "outputs": [
    {
     "data": {
      "text/plain": [
       "array([0, 1, 2, 3])"
      ]
     },
     "execution_count": 181,
     "metadata": {},
     "output_type": "execute_result"
    }
   ],
   "source": [
    "# ex - \n",
    "a1 = np.arange(0,4)\n",
    "a1"
   ]
  },
  {
   "cell_type": "code",
   "execution_count": 182,
   "id": "a793254a",
   "metadata": {},
   "outputs": [
    {
     "data": {
      "text/plain": [
       "array([0, 1, 2, 3])"
      ]
     },
     "execution_count": 182,
     "metadata": {},
     "output_type": "execute_result"
    }
   ],
   "source": [
    "b1 = a1+0\n",
    "b1"
   ]
  },
  {
   "cell_type": "code",
   "execution_count": 183,
   "id": "4d272890",
   "metadata": {},
   "outputs": [
    {
     "data": {
      "text/plain": [
       "False"
      ]
     },
     "execution_count": 183,
     "metadata": {},
     "output_type": "execute_result"
    }
   ],
   "source": [
    "np.shares_memory(a1,b1)"
   ]
  },
  {
   "cell_type": "markdown",
   "id": "dbe5ae30",
   "metadata": {},
   "source": [
    "If all the elements are same, it does not mean that it is a shallow copy. It can be a deep copy."
   ]
  },
  {
   "cell_type": "markdown",
   "id": "7e050b5c",
   "metadata": {},
   "source": [
    "For specifically creating a deep copy, we use .copy() method"
   ]
  },
  {
   "cell_type": "code",
   "execution_count": 184,
   "id": "7ec03063",
   "metadata": {},
   "outputs": [
    {
     "data": {
      "text/plain": [
       "array([5, 6, 7])"
      ]
     },
     "execution_count": 184,
     "metadata": {},
     "output_type": "execute_result"
    }
   ],
   "source": [
    "x2 = np.array([5,6,7])\n",
    "x2"
   ]
  },
  {
   "cell_type": "code",
   "execution_count": 185,
   "id": "8809631e",
   "metadata": {},
   "outputs": [
    {
     "data": {
      "text/plain": [
       "array([5, 6, 7])"
      ]
     },
     "execution_count": 185,
     "metadata": {},
     "output_type": "execute_result"
    }
   ],
   "source": [
    "y2 = x2.copy()\n",
    "y2"
   ]
  },
  {
   "cell_type": "code",
   "execution_count": 186,
   "id": "d6aff212",
   "metadata": {},
   "outputs": [
    {
     "data": {
      "text/plain": [
       "False"
      ]
     },
     "execution_count": 186,
     "metadata": {},
     "output_type": "execute_result"
    }
   ],
   "source": [
    "np.shares_memory(x2, y2)"
   ]
  },
  {
   "cell_type": "code",
   "execution_count": 187,
   "id": "919a9756",
   "metadata": {},
   "outputs": [
    {
     "data": {
      "text/plain": [
       "array([1000,    6,    7])"
      ]
     },
     "execution_count": 187,
     "metadata": {},
     "output_type": "execute_result"
    }
   ],
   "source": [
    "y2[0] = 1000\n",
    "y2"
   ]
  },
  {
   "cell_type": "code",
   "execution_count": 188,
   "id": "d06a5172",
   "metadata": {},
   "outputs": [
    {
     "data": {
      "text/plain": [
       "array([5, 6, 7])"
      ]
     },
     "execution_count": 188,
     "metadata": {},
     "output_type": "execute_result"
    }
   ],
   "source": [
    "x2"
   ]
  },
  {
   "cell_type": "markdown",
   "id": "92732e62",
   "metadata": {},
   "source": [
    "Limitation of .copy() - It creates a deep copy but not with object data type"
   ]
  },
  {
   "cell_type": "code",
   "execution_count": 189,
   "id": "541c761d",
   "metadata": {},
   "outputs": [
    {
     "data": {
      "text/plain": [
       "array([1.2, 2, 3.0, 'a', list([2, 3, 4])], dtype=object)"
      ]
     },
     "execution_count": 189,
     "metadata": {},
     "output_type": "execute_result"
    }
   ],
   "source": [
    "X = np.array([1.2, 2, 3.0, 'a', [2,3,4]], dtype='object')\n",
    "X"
   ]
  },
  {
   "cell_type": "code",
   "execution_count": 190,
   "id": "51350fdb",
   "metadata": {},
   "outputs": [
    {
     "data": {
      "text/plain": [
       "array([1.2, 2, 3.0, 'a', list([2, 3, 4])], dtype=object)"
      ]
     },
     "execution_count": 190,
     "metadata": {},
     "output_type": "execute_result"
    }
   ],
   "source": [
    "Y = X.copy()\n",
    "Y"
   ]
  },
  {
   "cell_type": "code",
   "execution_count": 191,
   "id": "ef8b7d91",
   "metadata": {},
   "outputs": [
    {
     "data": {
      "text/plain": [
       "array([1.2, 2, 3.0, 'a', list([10000, 3, 4])], dtype=object)"
      ]
     },
     "execution_count": 191,
     "metadata": {},
     "output_type": "execute_result"
    }
   ],
   "source": [
    "X[4][0] = 10000\n",
    "X"
   ]
  },
  {
   "cell_type": "code",
   "execution_count": 192,
   "id": "22dbea14",
   "metadata": {},
   "outputs": [
    {
     "data": {
      "text/plain": [
       "array([1.2, 2, 3.0, 'a', list([10000, 3, 4])], dtype=object)"
      ]
     },
     "execution_count": 192,
     "metadata": {},
     "output_type": "execute_result"
    }
   ],
   "source": [
    "Y"
   ]
  },
  {
   "cell_type": "code",
   "execution_count": 193,
   "id": "f1843e90",
   "metadata": {},
   "outputs": [
    {
     "data": {
      "text/plain": [
       "False"
      ]
     },
     "execution_count": 193,
     "metadata": {},
     "output_type": "execute_result"
    }
   ],
   "source": [
    "np.shares_memory(X,Y)"
   ]
  },
  {
   "cell_type": "markdown",
   "id": "2017ab02",
   "metadata": {},
   "source": [
    "1. In shallow copy, array structure is copied but not the objects (like lists) inside the array.<br>\n",
    "2. A deep copy would copy both the array structure and the objects inside it.<br>\n",
    "3. In the above case, since the outer structure is copied, hence np.shares_memory is returning false<br>\n",
    "4. np.shares_memory() only checks if the arrays themselves are in the same memory, not the individual objects inside them."
   ]
  },
  {
   "cell_type": "markdown",
   "id": "2d87dfa4",
   "metadata": {},
   "source": [
    "For creating a deep copy with object data type use deepcopy method -"
   ]
  },
  {
   "cell_type": "code",
   "execution_count": 194,
   "id": "9f16ec1e",
   "metadata": {},
   "outputs": [],
   "source": [
    "from copy import deepcopy\n",
    "Y = deepcopy(X)"
   ]
  },
  {
   "cell_type": "code",
   "execution_count": 195,
   "id": "ecf8b5a7",
   "metadata": {},
   "outputs": [
    {
     "data": {
      "text/plain": [
       "array([1.2, 2, 3.0, 'a', list([10000, 3, 4])], dtype=object)"
      ]
     },
     "execution_count": 195,
     "metadata": {},
     "output_type": "execute_result"
    }
   ],
   "source": [
    "X"
   ]
  },
  {
   "cell_type": "code",
   "execution_count": 196,
   "id": "0d52c6ed",
   "metadata": {},
   "outputs": [
    {
     "data": {
      "text/plain": [
       "array([1.2, 2, 3.0, 'a', list([10000, 3, 4])], dtype=object)"
      ]
     },
     "execution_count": 196,
     "metadata": {},
     "output_type": "execute_result"
    }
   ],
   "source": [
    "Y"
   ]
  },
  {
   "cell_type": "code",
   "execution_count": 198,
   "id": "f1ca2120",
   "metadata": {},
   "outputs": [
    {
     "data": {
      "text/plain": [
       "array([1.2, 2, 3.0, 'a', list([11111, 3, 4])], dtype=object)"
      ]
     },
     "execution_count": 198,
     "metadata": {},
     "output_type": "execute_result"
    }
   ],
   "source": [
    "X[4][0] = 11111\n",
    "X"
   ]
  },
  {
   "cell_type": "code",
   "execution_count": 199,
   "id": "5594399a",
   "metadata": {},
   "outputs": [
    {
     "data": {
      "text/plain": [
       "array([1.2, 2, 3.0, 'a', list([10000, 3, 4])], dtype=object)"
      ]
     },
     "execution_count": 199,
     "metadata": {},
     "output_type": "execute_result"
    }
   ],
   "source": [
    "Y"
   ]
  },
  {
   "cell_type": "markdown",
   "id": "f857e98d",
   "metadata": {},
   "source": [
    "#### View Function\n",
    "It creates a shallow copy"
   ]
  },
  {
   "cell_type": "code",
   "execution_count": 200,
   "id": "a724ec33",
   "metadata": {},
   "outputs": [
    {
     "data": {
      "text/plain": [
       "array([0, 1, 2, 3, 4, 5, 6, 7, 8, 9])"
      ]
     },
     "execution_count": 200,
     "metadata": {},
     "output_type": "execute_result"
    }
   ],
   "source": [
    "a = np.arange(10)\n",
    "a"
   ]
  },
  {
   "cell_type": "code",
   "execution_count": 201,
   "id": "90decb51",
   "metadata": {},
   "outputs": [
    {
     "data": {
      "text/plain": [
       "array([0, 1, 2, 3, 4, 5, 6, 7, 8, 9])"
      ]
     },
     "execution_count": 201,
     "metadata": {},
     "output_type": "execute_result"
    }
   ],
   "source": [
    "b = a.view()\n",
    "b"
   ]
  },
  {
   "cell_type": "code",
   "execution_count": 202,
   "id": "0f077e5d",
   "metadata": {},
   "outputs": [
    {
     "data": {
      "text/plain": [
       "array([1000,    1,    2,    3,    4,    5,    6,    7,    8,    9])"
      ]
     },
     "execution_count": 202,
     "metadata": {},
     "output_type": "execute_result"
    }
   ],
   "source": [
    "b[0] = 1000\n",
    "b"
   ]
  },
  {
   "cell_type": "code",
   "execution_count": 203,
   "id": "d1567efe",
   "metadata": {},
   "outputs": [
    {
     "data": {
      "text/plain": [
       "array([1000,    1,    2,    3,    4,    5,    6,    7,    8,    9])"
      ]
     },
     "execution_count": 203,
     "metadata": {},
     "output_type": "execute_result"
    }
   ],
   "source": [
    "a"
   ]
  },
  {
   "cell_type": "code",
   "execution_count": null,
   "id": "f9a765a0",
   "metadata": {},
   "outputs": [],
   "source": []
  }
 ],
 "metadata": {
  "kernelspec": {
   "display_name": "Python 3 (ipykernel)",
   "language": "python",
   "name": "python3"
  },
  "language_info": {
   "codemirror_mode": {
    "name": "ipython",
    "version": 3
   },
   "file_extension": ".py",
   "mimetype": "text/x-python",
   "name": "python",
   "nbconvert_exporter": "python",
   "pygments_lexer": "ipython3",
   "version": "3.11.4"
  }
 },
 "nbformat": 4,
 "nbformat_minor": 5
}
