{
 "cells": [
  {
   "cell_type": "markdown",
   "id": "15d5b707",
   "metadata": {},
   "source": [
    "## Numpy - Python library used for working with arrays"
   ]
  },
  {
   "cell_type": "markdown",
   "id": "d9b80ed7",
   "metadata": {},
   "source": [
    "#### What is an array?\n",
    "<p>An array is a data structure that stores a collection of elements, typically of the same data type, in a contiguous block of memory. Arrays can be one-dimensional (like a list), two-dimensional (like a table), or multi-dimensional, and are widely used in programming to handle large datasets and perform mathematical operations efficiently.</p>"
   ]
  },
  {
   "cell_type": "markdown",
   "id": "d93e647f",
   "metadata": {},
   "source": [
    "<b>Features of Numpy array-</b>\n",
    "1. Python lists store different types of data so they consume more memory and processing time whereas NumPy arrays are homogeneous and store data in contiguous blocks of memory making access and operations faster.\n",
    "2. It uses highly optimized C and Fortran libraries under the hood for operations on arrays and matrices.\n",
    "3. NumPy operations are vectorized. This means that a single operation is applied to an entire array, and the actual calculations happen in optimized C code, speeding up execution."
   ]
  },
  {
   "cell_type": "markdown",
   "id": "18ee8a23",
   "metadata": {},
   "source": [
    "<b>Install Command - pip install numpy</b>"
   ]
  },
  {
   "cell_type": "markdown",
   "id": "cf56a295",
   "metadata": {},
   "source": [
    "After installing, import the library"
   ]
  },
  {
   "cell_type": "code",
   "execution_count": 197,
   "id": "7edde725",
   "metadata": {},
   "outputs": [],
   "source": [
    "import numpy as np"
   ]
  },
  {
   "cell_type": "code",
   "execution_count": 199,
   "id": "ba46626d",
   "metadata": {},
   "outputs": [],
   "source": [
    "# creating an array\n",
    "a = np.array([1,2,3])"
   ]
  },
  {
   "cell_type": "code",
   "execution_count": 200,
   "id": "4f4b3dd6",
   "metadata": {},
   "outputs": [
    {
     "data": {
      "text/plain": [
       "array([1, 2, 3])"
      ]
     },
     "execution_count": 200,
     "metadata": {},
     "output_type": "execute_result"
    }
   ],
   "source": [
    "a"
   ]
  },
  {
   "cell_type": "code",
   "execution_count": 202,
   "id": "4d5c74c6",
   "metadata": {},
   "outputs": [
    {
     "data": {
      "text/plain": [
       "1"
      ]
     },
     "execution_count": 202,
     "metadata": {},
     "output_type": "execute_result"
    }
   ],
   "source": [
    "# checking the dimensions of an array\n",
    "a.ndim"
   ]
  },
  {
   "cell_type": "code",
   "execution_count": 203,
   "id": "72b975cf",
   "metadata": {},
   "outputs": [],
   "source": [
    "a = np.array([[1,2,3],[4,5,6]])"
   ]
  },
  {
   "cell_type": "code",
   "execution_count": 205,
   "id": "b6d3e982",
   "metadata": {},
   "outputs": [
    {
     "data": {
      "text/plain": [
       "array([[1, 2, 3],\n",
       "       [4, 5, 6]])"
      ]
     },
     "execution_count": 205,
     "metadata": {},
     "output_type": "execute_result"
    }
   ],
   "source": [
    "a"
   ]
  },
  {
   "cell_type": "code",
   "execution_count": 206,
   "id": "226cb8d5",
   "metadata": {},
   "outputs": [
    {
     "data": {
      "text/plain": [
       "2"
      ]
     },
     "execution_count": 206,
     "metadata": {},
     "output_type": "execute_result"
    }
   ],
   "source": [
    "a.ndim"
   ]
  },
  {
   "cell_type": "code",
   "execution_count": 208,
   "id": "96e51fc6",
   "metadata": {},
   "outputs": [
    {
     "data": {
      "text/plain": [
       "(2, 3)"
      ]
     },
     "execution_count": 208,
     "metadata": {},
     "output_type": "execute_result"
    }
   ],
   "source": [
    "# checking for the shape of an array - (r,c)\n",
    "a.shape"
   ]
  },
  {
   "cell_type": "code",
   "execution_count": 209,
   "id": "cee6c71b",
   "metadata": {},
   "outputs": [
    {
     "data": {
      "text/plain": [
       "numpy.ndarray"
      ]
     },
     "execution_count": 209,
     "metadata": {},
     "output_type": "execute_result"
    }
   ],
   "source": [
    "# type check \n",
    "type(a)"
   ]
  },
  {
   "cell_type": "markdown",
   "id": "368fcfd6",
   "metadata": {},
   "source": [
    "#### Computation Speed "
   ]
  },
  {
   "cell_type": "code",
   "execution_count": 30,
   "id": "b4b99fcb",
   "metadata": {},
   "outputs": [
    {
     "name": "stdout",
     "output_type": "stream",
     "text": [
      "1.24 ms ± 91.4 µs per loop (mean ± std. dev. of 7 runs, 1,000 loops each)\n"
     ]
    }
   ],
   "source": [
    "# normal for loop\n",
    "%timeit [i**2 for i in range(10000)]"
   ]
  },
  {
   "cell_type": "code",
   "execution_count": 31,
   "id": "cebfc571",
   "metadata": {},
   "outputs": [
    {
     "name": "stdout",
     "output_type": "stream",
     "text": [
      "948 µs ± 104 µs per loop (mean ± std. dev. of 7 runs, 1,000 loops each)\n"
     ]
    }
   ],
   "source": [
    "%timeit np.array(range(10000))**2"
   ]
  },
  {
   "cell_type": "markdown",
   "id": "eddb3032",
   "metadata": {},
   "source": [
    "#### Array of mixed data types"
   ]
  },
  {
   "cell_type": "markdown",
   "id": "cade4d31",
   "metadata": {},
   "source": [
    "When NumPy encounters mixed types, it will automatically upcast all elements to the most general type that can represent all the data"
   ]
  },
  {
   "cell_type": "code",
   "execution_count": 210,
   "id": "74558f11",
   "metadata": {},
   "outputs": [
    {
     "data": {
      "text/plain": [
       "array(['1', '2', '6.0', 'True'], dtype='<U32')"
      ]
     },
     "execution_count": 210,
     "metadata": {},
     "output_type": "execute_result"
    }
   ],
   "source": [
    "np.array([\"1\",2,6.0,True])"
   ]
  },
  {
   "cell_type": "code",
   "execution_count": 211,
   "id": "025d92a3",
   "metadata": {},
   "outputs": [
    {
     "data": {
      "text/plain": [
       "array(['a', 'b', 'c'], dtype='<U1')"
      ]
     },
     "execution_count": 211,
     "metadata": {},
     "output_type": "execute_result"
    }
   ],
   "source": [
    "np.array(['a','b','c'])"
   ]
  },
  {
   "cell_type": "code",
   "execution_count": 37,
   "id": "d0207972",
   "metadata": {},
   "outputs": [
    {
     "data": {
      "text/plain": [
       "array([[1, 3, 4, list([1, 3, 5]), 7, 9],\n",
       "       [1, 3, 5, 6, list([2, 3, 4]), 6]], dtype=object)"
      ]
     },
     "execution_count": 37,
     "metadata": {},
     "output_type": "execute_result"
    }
   ],
   "source": [
    "# for inhomogeneous type of data, mention dtype = object\n",
    "    \n",
    "x = [[1,3,4,[1,3,5],7,9],[1,3,5,6,[2,3,4],6]]\n",
    "np.array(x, dtype=object)"
   ]
  },
  {
   "cell_type": "markdown",
   "id": "189a4d89",
   "metadata": {},
   "source": [
    "#### Arange Method"
   ]
  },
  {
   "cell_type": "code",
   "execution_count": 38,
   "id": "86992fcb",
   "metadata": {},
   "outputs": [
    {
     "data": {
      "text/plain": [
       "array([0, 1, 2, 3, 4, 5, 6, 7, 8, 9])"
      ]
     },
     "execution_count": 38,
     "metadata": {},
     "output_type": "execute_result"
    }
   ],
   "source": [
    "np.arange(10)"
   ]
  },
  {
   "cell_type": "code",
   "execution_count": 273,
   "id": "d1d9adaa",
   "metadata": {},
   "outputs": [
    {
     "data": {
      "text/plain": [
       "array([2, 3, 4, 5, 6])"
      ]
     },
     "execution_count": 273,
     "metadata": {},
     "output_type": "execute_result"
    }
   ],
   "source": [
    "np.arange(2,7)"
   ]
  },
  {
   "cell_type": "code",
   "execution_count": 274,
   "id": "66c5c133",
   "metadata": {},
   "outputs": [
    {
     "data": {
      "text/plain": [
       "array([ 1,  3,  5,  7,  9, 11, 13, 15, 17, 19])"
      ]
     },
     "execution_count": 274,
     "metadata": {},
     "output_type": "execute_result"
    }
   ],
   "source": [
    "np.arange(1,21,2)"
   ]
  },
  {
   "cell_type": "code",
   "execution_count": 276,
   "id": "592385d0",
   "metadata": {},
   "outputs": [],
   "source": [
    "# range(start, end, step(int))\n",
    "# list(range(1,11,0.5))       # this will raise an error"
   ]
  },
  {
   "cell_type": "code",
   "execution_count": 279,
   "id": "8b164995",
   "metadata": {},
   "outputs": [
    {
     "data": {
      "text/plain": [
       "array([ 1. ,  1.5,  2. ,  2.5,  3. ,  3.5,  4. ,  4.5,  5. ,  5.5,  6. ,\n",
       "        6.5,  7. ,  7.5,  8. ,  8.5,  9. ,  9.5, 10. , 10.5])"
      ]
     },
     "execution_count": 279,
     "metadata": {},
     "output_type": "execute_result"
    }
   ],
   "source": [
    "# arange(start, end, step(float/int))\n",
    "np.arange(1,11,0.5)"
   ]
  },
  {
   "cell_type": "markdown",
   "id": "ce49f83a",
   "metadata": {},
   "source": [
    "#### Indexing and Slicing"
   ]
  },
  {
   "cell_type": "code",
   "execution_count": 280,
   "id": "f4a0104b",
   "metadata": {},
   "outputs": [],
   "source": [
    "a = np.arange(1,10)"
   ]
  },
  {
   "cell_type": "code",
   "execution_count": 281,
   "id": "7f170236",
   "metadata": {},
   "outputs": [
    {
     "data": {
      "text/plain": [
       "array([1, 2, 3, 4, 5, 6, 7, 8, 9])"
      ]
     },
     "execution_count": 281,
     "metadata": {},
     "output_type": "execute_result"
    }
   ],
   "source": [
    "a"
   ]
  },
  {
   "cell_type": "code",
   "execution_count": 283,
   "id": "829befd2",
   "metadata": {},
   "outputs": [
    {
     "data": {
      "text/plain": [
       "1"
      ]
     },
     "execution_count": 283,
     "metadata": {},
     "output_type": "execute_result"
    }
   ],
   "source": [
    "a[0]"
   ]
  },
  {
   "cell_type": "code",
   "execution_count": 284,
   "id": "faa8edab",
   "metadata": {},
   "outputs": [
    {
     "data": {
      "text/plain": [
       "9"
      ]
     },
     "execution_count": 284,
     "metadata": {},
     "output_type": "execute_result"
    }
   ],
   "source": [
    "a[-1]"
   ]
  },
  {
   "cell_type": "code",
   "execution_count": 285,
   "id": "eaff3f11",
   "metadata": {},
   "outputs": [
    {
     "data": {
      "text/plain": [
       "array([1, 2, 3, 4, 5])"
      ]
     },
     "execution_count": 285,
     "metadata": {},
     "output_type": "execute_result"
    }
   ],
   "source": [
    "a[:5]"
   ]
  },
  {
   "cell_type": "code",
   "execution_count": 286,
   "id": "53cf318a",
   "metadata": {},
   "outputs": [
    {
     "data": {
      "text/plain": [
       "array([7, 8, 9])"
      ]
     },
     "execution_count": 286,
     "metadata": {},
     "output_type": "execute_result"
    }
   ],
   "source": [
    "a[6:]"
   ]
  },
  {
   "cell_type": "markdown",
   "id": "bf51cccd",
   "metadata": {},
   "source": [
    "#### 2D Array"
   ]
  },
  {
   "cell_type": "code",
   "execution_count": 287,
   "id": "7423d1ce",
   "metadata": {},
   "outputs": [],
   "source": [
    "a2 = np.array([[1,2,3,4],[5,6,7,8]])"
   ]
  },
  {
   "cell_type": "code",
   "execution_count": 288,
   "id": "43281f74",
   "metadata": {},
   "outputs": [
    {
     "data": {
      "text/plain": [
       "array([[1, 2, 3, 4],\n",
       "       [5, 6, 7, 8]])"
      ]
     },
     "execution_count": 288,
     "metadata": {},
     "output_type": "execute_result"
    }
   ],
   "source": [
    "a2"
   ]
  },
  {
   "cell_type": "code",
   "execution_count": 290,
   "id": "b003f46c",
   "metadata": {},
   "outputs": [
    {
     "data": {
      "text/plain": [
       "array([1, 2, 3, 4])"
      ]
     },
     "execution_count": 290,
     "metadata": {},
     "output_type": "execute_result"
    }
   ],
   "source": [
    "a2[0]"
   ]
  },
  {
   "cell_type": "code",
   "execution_count": 291,
   "id": "8addb577",
   "metadata": {},
   "outputs": [
    {
     "data": {
      "text/plain": [
       "1"
      ]
     },
     "execution_count": 291,
     "metadata": {},
     "output_type": "execute_result"
    }
   ],
   "source": [
    "# index - way1:\n",
    "a2[0][0]"
   ]
  },
  {
   "cell_type": "code",
   "execution_count": 293,
   "id": "cf72abba",
   "metadata": {},
   "outputs": [
    {
     "data": {
      "text/plain": [
       "7"
      ]
     },
     "execution_count": 293,
     "metadata": {},
     "output_type": "execute_result"
    }
   ],
   "source": [
    "a2[1][2]"
   ]
  },
  {
   "cell_type": "code",
   "execution_count": 294,
   "id": "acc75340",
   "metadata": {},
   "outputs": [
    {
     "data": {
      "text/plain": [
       "1"
      ]
     },
     "execution_count": 294,
     "metadata": {},
     "output_type": "execute_result"
    }
   ],
   "source": [
    "# index - way2:\n",
    "a2[0,0]"
   ]
  },
  {
   "cell_type": "code",
   "execution_count": 296,
   "id": "a62cef3b",
   "metadata": {},
   "outputs": [
    {
     "data": {
      "text/plain": [
       "7"
      ]
     },
     "execution_count": 296,
     "metadata": {},
     "output_type": "execute_result"
    }
   ],
   "source": [
    "a2[1,2]"
   ]
  },
  {
   "cell_type": "code",
   "execution_count": 297,
   "id": "300dc864",
   "metadata": {},
   "outputs": [
    {
     "data": {
      "text/plain": [
       "array([[2, 3],\n",
       "       [6, 7]])"
      ]
     },
     "execution_count": 297,
     "metadata": {},
     "output_type": "execute_result"
    }
   ],
   "source": [
    "# Slicing in 2D array - array[row,column]\n",
    "a2[:, 1:3]"
   ]
  },
  {
   "cell_type": "code",
   "execution_count": 298,
   "id": "0f96596b",
   "metadata": {},
   "outputs": [
    {
     "data": {
      "text/plain": [
       "array([4, 8])"
      ]
     },
     "execution_count": 298,
     "metadata": {},
     "output_type": "execute_result"
    }
   ],
   "source": [
    "a2[:,3]"
   ]
  },
  {
   "cell_type": "markdown",
   "id": "e78be6be",
   "metadata": {},
   "source": [
    "#### 3D Array"
   ]
  },
  {
   "cell_type": "code",
   "execution_count": 299,
   "id": "c9e90300",
   "metadata": {},
   "outputs": [],
   "source": [
    "a3 = np.array([[[10,20,30],[40,50,60]],[[70,80,90],[100,110,120]]])"
   ]
  },
  {
   "cell_type": "code",
   "execution_count": 300,
   "id": "f7b3219f",
   "metadata": {},
   "outputs": [
    {
     "data": {
      "text/plain": [
       "array([[[ 10,  20,  30],\n",
       "        [ 40,  50,  60]],\n",
       "\n",
       "       [[ 70,  80,  90],\n",
       "        [100, 110, 120]]])"
      ]
     },
     "execution_count": 300,
     "metadata": {},
     "output_type": "execute_result"
    }
   ],
   "source": [
    "a3"
   ]
  },
  {
   "cell_type": "code",
   "execution_count": 301,
   "id": "8f467a5a",
   "metadata": {},
   "outputs": [
    {
     "data": {
      "text/plain": [
       "3"
      ]
     },
     "execution_count": 301,
     "metadata": {},
     "output_type": "execute_result"
    }
   ],
   "source": [
    "a3.ndim"
   ]
  },
  {
   "cell_type": "code",
   "execution_count": 302,
   "id": "086fcb6b",
   "metadata": {},
   "outputs": [
    {
     "data": {
      "text/plain": [
       "(2, 2, 3)"
      ]
     },
     "execution_count": 302,
     "metadata": {},
     "output_type": "execute_result"
    }
   ],
   "source": [
    "a3.shape"
   ]
  },
  {
   "cell_type": "code",
   "execution_count": 303,
   "id": "d14fa3f7",
   "metadata": {},
   "outputs": [
    {
     "data": {
      "text/plain": [
       "40"
      ]
     },
     "execution_count": 303,
     "metadata": {},
     "output_type": "execute_result"
    }
   ],
   "source": [
    "# way1 - \n",
    "a3[0][1][0]"
   ]
  },
  {
   "cell_type": "code",
   "execution_count": 304,
   "id": "96a38c3b",
   "metadata": {},
   "outputs": [
    {
     "data": {
      "text/plain": [
       "array([70, 80, 90])"
      ]
     },
     "execution_count": 304,
     "metadata": {},
     "output_type": "execute_result"
    }
   ],
   "source": [
    "a3[1][0]"
   ]
  },
  {
   "cell_type": "code",
   "execution_count": 307,
   "id": "2d200683",
   "metadata": {},
   "outputs": [
    {
     "data": {
      "text/plain": [
       "40"
      ]
     },
     "execution_count": 307,
     "metadata": {},
     "output_type": "execute_result"
    }
   ],
   "source": [
    "# way2 -\n",
    "a3[0,1,0]"
   ]
  },
  {
   "cell_type": "code",
   "execution_count": 308,
   "id": "03f6adac",
   "metadata": {},
   "outputs": [
    {
     "data": {
      "text/plain": [
       "array([70, 80, 90])"
      ]
     },
     "execution_count": 308,
     "metadata": {},
     "output_type": "execute_result"
    }
   ],
   "source": [
    "a3[1,0]"
   ]
  },
  {
   "cell_type": "code",
   "execution_count": 309,
   "id": "2ee44d1c",
   "metadata": {},
   "outputs": [],
   "source": [
    "a3[0][1][1] = 10000"
   ]
  },
  {
   "cell_type": "code",
   "execution_count": 311,
   "id": "17915bd2",
   "metadata": {},
   "outputs": [
    {
     "data": {
      "text/plain": [
       "array([[[   10,    20,    30],\n",
       "        [   40, 10000,    60]],\n",
       "\n",
       "       [[   70,    80,    90],\n",
       "        [  100,   110,   120]]])"
      ]
     },
     "execution_count": 311,
     "metadata": {},
     "output_type": "execute_result"
    }
   ],
   "source": [
    "a3"
   ]
  },
  {
   "cell_type": "code",
   "execution_count": 312,
   "id": "743ae4ae",
   "metadata": {},
   "outputs": [
    {
     "data": {
      "text/plain": [
       "array([[   10,    20,    30],\n",
       "       [   40, 10000,    60]])"
      ]
     },
     "execution_count": 312,
     "metadata": {},
     "output_type": "execute_result"
    }
   ],
   "source": [
    "# Slicing in 3D array\n",
    "a3[0, :, :]"
   ]
  },
  {
   "cell_type": "code",
   "execution_count": 313,
   "id": "89aae626",
   "metadata": {},
   "outputs": [
    {
     "data": {
      "text/plain": [
       "array([ 70, 100])"
      ]
     },
     "execution_count": 313,
     "metadata": {},
     "output_type": "execute_result"
    }
   ],
   "source": [
    "a3[1, :, 0]"
   ]
  },
  {
   "cell_type": "markdown",
   "id": "d9a26147",
   "metadata": {},
   "source": [
    "#### Reshape Method"
   ]
  },
  {
   "cell_type": "markdown",
   "id": "9c314e60",
   "metadata": {},
   "source": [
    "reshape() methods converts a 1D array into a 2D array by appropriately specifying the new shape"
   ]
  },
  {
   "cell_type": "code",
   "execution_count": 314,
   "id": "97b5e492",
   "metadata": {},
   "outputs": [
    {
     "data": {
      "text/plain": [
       "array([ 1,  2,  3,  4,  5,  6,  7,  8,  9, 10])"
      ]
     },
     "execution_count": 314,
     "metadata": {},
     "output_type": "execute_result"
    }
   ],
   "source": [
    "a = np.arange(1,11)\n",
    "a"
   ]
  },
  {
   "cell_type": "code",
   "execution_count": 315,
   "id": "451a57ca",
   "metadata": {},
   "outputs": [
    {
     "data": {
      "text/plain": [
       "array([[ 1,  2,  3,  4,  5],\n",
       "       [ 6,  7,  8,  9, 10]])"
      ]
     },
     "execution_count": 315,
     "metadata": {},
     "output_type": "execute_result"
    }
   ],
   "source": [
    "a.reshape(2,5)"
   ]
  },
  {
   "cell_type": "code",
   "execution_count": 317,
   "id": "c6304b38",
   "metadata": {},
   "outputs": [],
   "source": [
    "# a.reshape(2,6)       # this will raise an error"
   ]
  },
  {
   "cell_type": "markdown",
   "id": "08f479c0",
   "metadata": {},
   "source": [
    "reshape(-1) is used to flatten a multi-dimensional array into a 1D array"
   ]
  },
  {
   "cell_type": "code",
   "execution_count": 318,
   "id": "dba0057e",
   "metadata": {},
   "outputs": [],
   "source": [
    "arr = np.array([[[[1,2,3],[1,2,3],[1,2,3]],[[4,5,6],[4,5,6],[4,5,6]]], [[[1,2,3],[1,2,3],[1,2,3]],[[4,5,6],[4,5,6],[4,5,6]]]])"
   ]
  },
  {
   "cell_type": "code",
   "execution_count": 319,
   "id": "d72a3e97",
   "metadata": {},
   "outputs": [
    {
     "data": {
      "text/plain": [
       "array([[[[1, 2, 3],\n",
       "         [1, 2, 3],\n",
       "         [1, 2, 3]],\n",
       "\n",
       "        [[4, 5, 6],\n",
       "         [4, 5, 6],\n",
       "         [4, 5, 6]]],\n",
       "\n",
       "\n",
       "       [[[1, 2, 3],\n",
       "         [1, 2, 3],\n",
       "         [1, 2, 3]],\n",
       "\n",
       "        [[4, 5, 6],\n",
       "         [4, 5, 6],\n",
       "         [4, 5, 6]]]])"
      ]
     },
     "execution_count": 319,
     "metadata": {},
     "output_type": "execute_result"
    }
   ],
   "source": [
    "arr"
   ]
  },
  {
   "cell_type": "code",
   "execution_count": 321,
   "id": "19401248",
   "metadata": {},
   "outputs": [
    {
     "data": {
      "text/plain": [
       "array([1, 2, 3, 1, 2, 3, 1, 2, 3, 4, 5, 6, 4, 5, 6, 4, 5, 6, 1, 2, 3, 1,\n",
       "       2, 3, 1, 2, 3, 4, 5, 6, 4, 5, 6, 4, 5, 6])"
      ]
     },
     "execution_count": 321,
     "metadata": {},
     "output_type": "execute_result"
    }
   ],
   "source": [
    "arr.reshape(-1)"
   ]
  },
  {
   "cell_type": "markdown",
   "id": "33252ac8",
   "metadata": {},
   "source": [
    "Also, it can be used like this -"
   ]
  },
  {
   "cell_type": "code",
   "execution_count": 322,
   "id": "170ec70a",
   "metadata": {},
   "outputs": [
    {
     "data": {
      "text/plain": [
       "array([[ 1,  2],\n",
       "       [ 3,  4],\n",
       "       [ 5,  6],\n",
       "       [ 7,  8],\n",
       "       [ 9, 10]])"
      ]
     },
     "execution_count": 322,
     "metadata": {},
     "output_type": "execute_result"
    }
   ],
   "source": [
    "a.reshape(-1,2)"
   ]
  },
  {
   "cell_type": "code",
   "execution_count": 141,
   "id": "0d96f7c3",
   "metadata": {},
   "outputs": [
    {
     "data": {
      "text/plain": [
       "array([[ 1,  2,  3,  4,  5],\n",
       "       [ 6,  7,  8,  9, 10]])"
      ]
     },
     "execution_count": 141,
     "metadata": {},
     "output_type": "execute_result"
    }
   ],
   "source": [
    "a.reshape(2,-1)"
   ]
  },
  {
   "cell_type": "code",
   "execution_count": 324,
   "id": "d11d2231",
   "metadata": {},
   "outputs": [],
   "source": [
    "# a.reshape(3,-1)      # this will raise an error"
   ]
  },
  {
   "cell_type": "code",
   "execution_count": 326,
   "id": "773e9ca9",
   "metadata": {},
   "outputs": [],
   "source": [
    "# a.reshape(-1,-1)     # this will raise an error too"
   ]
  },
  {
   "cell_type": "markdown",
   "id": "1fccd93d",
   "metadata": {},
   "source": [
    "#### Mathematical Operations on Arrays"
   ]
  },
  {
   "cell_type": "code",
   "execution_count": 328,
   "id": "8651dfcb",
   "metadata": {},
   "outputs": [
    {
     "data": {
      "text/plain": [
       "array([[0, 1, 2],\n",
       "       [3, 4, 5],\n",
       "       [6, 7, 8]])"
      ]
     },
     "execution_count": 328,
     "metadata": {},
     "output_type": "execute_result"
    }
   ],
   "source": [
    "m = np.arange(9).reshape(3,3)\n",
    "m"
   ]
  },
  {
   "cell_type": "code",
   "execution_count": 329,
   "id": "d1b4c0ef",
   "metadata": {},
   "outputs": [
    {
     "data": {
      "text/plain": [
       "array([[10, 11, 12],\n",
       "       [13, 14, 15],\n",
       "       [16, 17, 18]])"
      ]
     },
     "execution_count": 329,
     "metadata": {},
     "output_type": "execute_result"
    }
   ],
   "source": [
    "m+10"
   ]
  },
  {
   "cell_type": "code",
   "execution_count": 330,
   "id": "00779c87",
   "metadata": {},
   "outputs": [
    {
     "data": {
      "text/plain": [
       "array([[-10,  -9,  -8],\n",
       "       [ -7,  -6,  -5],\n",
       "       [ -4,  -3,  -2]])"
      ]
     },
     "execution_count": 330,
     "metadata": {},
     "output_type": "execute_result"
    }
   ],
   "source": [
    "m-10"
   ]
  },
  {
   "cell_type": "code",
   "execution_count": 331,
   "id": "e7009249",
   "metadata": {},
   "outputs": [
    {
     "data": {
      "text/plain": [
       "array([[ 0,  5, 10],\n",
       "       [15, 20, 25],\n",
       "       [30, 35, 40]])"
      ]
     },
     "execution_count": 331,
     "metadata": {},
     "output_type": "execute_result"
    }
   ],
   "source": [
    "m*5"
   ]
  },
  {
   "cell_type": "code",
   "execution_count": 332,
   "id": "6f8d653e",
   "metadata": {},
   "outputs": [
    {
     "data": {
      "text/plain": [
       "array([[0. , 0.5, 1. ],\n",
       "       [1.5, 2. , 2.5],\n",
       "       [3. , 3.5, 4. ]])"
      ]
     },
     "execution_count": 332,
     "metadata": {},
     "output_type": "execute_result"
    }
   ],
   "source": [
    "m/2"
   ]
  },
  {
   "cell_type": "code",
   "execution_count": 333,
   "id": "70dee3d3",
   "metadata": {},
   "outputs": [
    {
     "data": {
      "text/plain": [
       "array([[False, False, False],\n",
       "       [False, False,  True],\n",
       "       [ True,  True,  True]])"
      ]
     },
     "execution_count": 333,
     "metadata": {},
     "output_type": "execute_result"
    }
   ],
   "source": [
    "m>4"
   ]
  },
  {
   "cell_type": "code",
   "execution_count": 334,
   "id": "ea88b662",
   "metadata": {},
   "outputs": [
    {
     "data": {
      "text/plain": [
       "array([[ True,  True,  True],\n",
       "       [ True,  True, False],\n",
       "       [False, False, False]])"
      ]
     },
     "execution_count": 334,
     "metadata": {},
     "output_type": "execute_result"
    }
   ],
   "source": [
    "m<5"
   ]
  },
  {
   "cell_type": "code",
   "execution_count": 335,
   "id": "42def23a",
   "metadata": {},
   "outputs": [
    {
     "data": {
      "text/plain": [
       "array([0, 1, 2, 3, 4])"
      ]
     },
     "execution_count": 335,
     "metadata": {},
     "output_type": "execute_result"
    }
   ],
   "source": [
    "m[m<5]"
   ]
  },
  {
   "cell_type": "code",
   "execution_count": 336,
   "id": "8fe4cf8a",
   "metadata": {},
   "outputs": [
    {
     "data": {
      "text/plain": [
       "array([5, 6, 7, 8])"
      ]
     },
     "execution_count": 336,
     "metadata": {},
     "output_type": "execute_result"
    }
   ],
   "source": [
    "m[m>4]"
   ]
  },
  {
   "cell_type": "code",
   "execution_count": 337,
   "id": "86887fe3",
   "metadata": {},
   "outputs": [
    {
     "data": {
      "text/plain": [
       "array([[ True, False,  True],\n",
       "       [False,  True, False],\n",
       "       [ True, False,  True]])"
      ]
     },
     "execution_count": 337,
     "metadata": {},
     "output_type": "execute_result"
    }
   ],
   "source": [
    "m%2==0"
   ]
  },
  {
   "cell_type": "code",
   "execution_count": 338,
   "id": "04ec08bd",
   "metadata": {},
   "outputs": [
    {
     "data": {
      "text/plain": [
       "array([0, 2, 4, 6, 8])"
      ]
     },
     "execution_count": 338,
     "metadata": {},
     "output_type": "execute_result"
    }
   ],
   "source": [
    "m[m%2==0]"
   ]
  },
  {
   "cell_type": "markdown",
   "id": "12798fb7",
   "metadata": {},
   "source": [
    "#### Masking -\n",
    "Modifying elements of an array based on certain conditions."
   ]
  },
  {
   "cell_type": "code",
   "execution_count": 346,
   "id": "23aeaa5c",
   "metadata": {},
   "outputs": [],
   "source": [
    "mask = m%2==0"
   ]
  },
  {
   "cell_type": "code",
   "execution_count": 347,
   "id": "5cbab5f8",
   "metadata": {},
   "outputs": [],
   "source": [
    "m[mask] = 7"
   ]
  },
  {
   "cell_type": "code",
   "execution_count": 348,
   "id": "bc28e86e",
   "metadata": {},
   "outputs": [
    {
     "data": {
      "text/plain": [
       "array([[-1,  1, -1],\n",
       "       [ 3, -1,  5],\n",
       "       [-1,  7, -1]])"
      ]
     },
     "execution_count": 348,
     "metadata": {},
     "output_type": "execute_result"
    }
   ],
   "source": [
    "m"
   ]
  },
  {
   "cell_type": "markdown",
   "id": "1114bbda",
   "metadata": {},
   "source": [
    "#### Aggregate Functions"
   ]
  },
  {
   "cell_type": "code",
   "execution_count": 349,
   "id": "ff9d0b98",
   "metadata": {},
   "outputs": [
    {
     "data": {
      "text/plain": [
       "array([[ 0,  1,  2,  3],\n",
       "       [ 4,  5,  6,  7],\n",
       "       [ 8,  9, 10, 11]])"
      ]
     },
     "execution_count": 349,
     "metadata": {},
     "output_type": "execute_result"
    }
   ],
   "source": [
    "a1 = np.arange(12).reshape(3,4)\n",
    "a1"
   ]
  },
  {
   "cell_type": "code",
   "execution_count": 350,
   "id": "a6bcaade",
   "metadata": {},
   "outputs": [
    {
     "data": {
      "text/plain": [
       "(0, 0)"
      ]
     },
     "execution_count": 350,
     "metadata": {},
     "output_type": "execute_result"
    }
   ],
   "source": [
    "# both gives the same result\n",
    "a1.min(), np.min(a1)         # this is numpy specific"
   ]
  },
  {
   "cell_type": "code",
   "execution_count": 351,
   "id": "e0c77061",
   "metadata": {},
   "outputs": [
    {
     "data": {
      "text/plain": [
       "11"
      ]
     },
     "execution_count": 351,
     "metadata": {},
     "output_type": "execute_result"
    }
   ],
   "source": [
    "a1.max()"
   ]
  },
  {
   "cell_type": "code",
   "execution_count": 352,
   "id": "4bbe9156",
   "metadata": {},
   "outputs": [
    {
     "data": {
      "text/plain": [
       "11"
      ]
     },
     "execution_count": 352,
     "metadata": {},
     "output_type": "execute_result"
    }
   ],
   "source": [
    "np.max(a1)"
   ]
  },
  {
   "cell_type": "code",
   "execution_count": 356,
   "id": "0f85353d",
   "metadata": {},
   "outputs": [
    {
     "data": {
      "text/plain": [
       "66"
      ]
     },
     "execution_count": 356,
     "metadata": {},
     "output_type": "execute_result"
    }
   ],
   "source": [
    "np.sum(a1)"
   ]
  },
  {
   "cell_type": "code",
   "execution_count": 357,
   "id": "1f8a097d",
   "metadata": {},
   "outputs": [
    {
     "data": {
      "text/plain": [
       "5.5"
      ]
     },
     "execution_count": 357,
     "metadata": {},
     "output_type": "execute_result"
    }
   ],
   "source": [
    "np.mean(a1)"
   ]
  },
  {
   "cell_type": "code",
   "execution_count": 358,
   "id": "d45ad88d",
   "metadata": {},
   "outputs": [
    {
     "data": {
      "text/plain": [
       "5.5"
      ]
     },
     "execution_count": 358,
     "metadata": {},
     "output_type": "execute_result"
    }
   ],
   "source": [
    "np.median(a1)"
   ]
  },
  {
   "cell_type": "code",
   "execution_count": 359,
   "id": "dd94d85b",
   "metadata": {},
   "outputs": [
    {
     "name": "stdout",
     "output_type": "stream",
     "text": [
      "Mean of Numpy array:  1669.1666666666667\n",
      "Median of Numpy array:  3.5\n"
     ]
    }
   ],
   "source": [
    "# ex - \n",
    "x = np.array([1,2,3,4,5,10000])\n",
    "print(\"Mean of Numpy array: \",np.mean(x))\n",
    "print(\"Median of Numpy array: \",np.median(x))"
   ]
  },
  {
   "cell_type": "markdown",
   "id": "f19e6efc",
   "metadata": {},
   "source": [
    "### nan and None Type -"
   ]
  },
  {
   "cell_type": "markdown",
   "id": "6ddf3e6b",
   "metadata": {},
   "source": [
    "#### None -\n",
    "1. In Python, None is used to indicate the absence of a value or a \"null\" state.\n",
    "2. None is of type NoneType.\n",
    "3. In NumPy arrays, using None will automatically convert the array's data type to object.\n",
    "\n",
    "#### nan -\n",
    "1. nan stands for \"Not a Number\".\n",
    "2. nan was introduced to handle missing or undefined values specifically in the context of numerical computations.\n",
    "3. It is a floating-point value, so it can only be used with arrays of floating-point type."
   ]
  },
  {
   "cell_type": "code",
   "execution_count": 360,
   "id": "290d3f56",
   "metadata": {},
   "outputs": [
    {
     "data": {
      "text/plain": [
       "(float, NoneType)"
      ]
     },
     "execution_count": 360,
     "metadata": {},
     "output_type": "execute_result"
    }
   ],
   "source": [
    "type(np.nan), type(None)"
   ]
  },
  {
   "cell_type": "code",
   "execution_count": 361,
   "id": "78e6fe4d",
   "metadata": {},
   "outputs": [
    {
     "name": "stdout",
     "output_type": "stream",
     "text": [
      "nan\n"
     ]
    }
   ],
   "source": [
    "x = np.nan\n",
    "print(x + 5)"
   ]
  },
  {
   "cell_type": "code",
   "execution_count": 363,
   "id": "5f56a488",
   "metadata": {},
   "outputs": [],
   "source": [
    "x = None\n",
    "# print(x + 5)    # this will raise an error"
   ]
  },
  {
   "cell_type": "code",
   "execution_count": 364,
   "id": "d7e4807a",
   "metadata": {},
   "outputs": [],
   "source": [
    "a = np.array([1,2,3,4,None])"
   ]
  },
  {
   "cell_type": "code",
   "execution_count": 365,
   "id": "8226dcfc",
   "metadata": {},
   "outputs": [
    {
     "data": {
      "text/plain": [
       "dtype('O')"
      ]
     },
     "execution_count": 365,
     "metadata": {},
     "output_type": "execute_result"
    }
   ],
   "source": [
    "a.dtype"
   ]
  },
  {
   "cell_type": "code",
   "execution_count": 366,
   "id": "f890a22d",
   "metadata": {},
   "outputs": [],
   "source": [
    "b = np.array([1,2,3,4,np.nan])"
   ]
  },
  {
   "cell_type": "code",
   "execution_count": 367,
   "id": "5e306153",
   "metadata": {},
   "outputs": [
    {
     "data": {
      "text/plain": [
       "dtype('float64')"
      ]
     },
     "execution_count": 367,
     "metadata": {},
     "output_type": "execute_result"
    }
   ],
   "source": [
    "b.dtype"
   ]
  },
  {
   "cell_type": "markdown",
   "id": "4ea7e718",
   "metadata": {},
   "source": [
    "#### Ques. Given an array of marks of students. Display the marks that are greater than the cut-off value."
   ]
  },
  {
   "cell_type": "code",
   "execution_count": 368,
   "id": "1c07da01",
   "metadata": {},
   "outputs": [],
   "source": [
    "marks = [34, 67, 90, 55, 49, 88, 70, 22, 64, 95, 83, 47, 76]\n",
    "marks_array = np.array(marks)\n",
    "cut_off = 70"
   ]
  },
  {
   "cell_type": "code",
   "execution_count": 369,
   "id": "0f0b48b8",
   "metadata": {},
   "outputs": [
    {
     "data": {
      "text/plain": [
       "array([34, 67, 90, 55, 49, 88, 70, 22, 64, 95, 83, 47, 76])"
      ]
     },
     "execution_count": 369,
     "metadata": {},
     "output_type": "execute_result"
    }
   ],
   "source": [
    "marks_array"
   ]
  },
  {
   "cell_type": "code",
   "execution_count": 370,
   "id": "b97f9d0e",
   "metadata": {},
   "outputs": [
    {
     "data": {
      "text/plain": [
       "array([90, 88, 95, 83, 76])"
      ]
     },
     "execution_count": 370,
     "metadata": {},
     "output_type": "execute_result"
    }
   ],
   "source": [
    "highest_marks = marks_array[marks_array>cut_off]\n",
    "highest_marks"
   ]
  },
  {
   "cell_type": "markdown",
   "id": "ebb6af19",
   "metadata": {},
   "source": [
    "#### np.where\n",
    "It used to locate the indices of elements in an array that satisfy a given condition"
   ]
  },
  {
   "cell_type": "code",
   "execution_count": 248,
   "id": "34656b9d",
   "metadata": {},
   "outputs": [
    {
     "data": {
      "text/plain": [
       "array([ 13, -37,  20,  12, -10, -19,  28,  40, -26,  32])"
      ]
     },
     "execution_count": 248,
     "metadata": {},
     "output_type": "execute_result"
    }
   ],
   "source": [
    "arr = np.array([13,-37, 20, 12, -10, -19, 28, 40, -26, 32])\n",
    "arr"
   ]
  },
  {
   "cell_type": "code",
   "execution_count": 249,
   "id": "f228d4ca",
   "metadata": {},
   "outputs": [
    {
     "data": {
      "text/plain": [
       "(array([1, 4, 5, 8], dtype=int64),)"
      ]
     },
     "execution_count": 249,
     "metadata": {},
     "output_type": "execute_result"
    }
   ],
   "source": [
    "np.where(arr<0)"
   ]
  },
  {
   "cell_type": "code",
   "execution_count": 250,
   "id": "e4d46f25",
   "metadata": {},
   "outputs": [
    {
     "data": {
      "text/plain": [
       "(array([0, 1, 3, 4, 5, 8], dtype=int64),)"
      ]
     },
     "execution_count": 250,
     "metadata": {},
     "output_type": "execute_result"
    }
   ],
   "source": [
    "np.where(arr<20)"
   ]
  },
  {
   "cell_type": "markdown",
   "id": "ad3975ad",
   "metadata": {},
   "source": [
    "Also, np.where can be used with additional parameters to act more like a conditional replacement operation.<br>\n",
    "np.where(condn, truevalue, falsevalue)"
   ]
  },
  {
   "cell_type": "code",
   "execution_count": 251,
   "id": "8c1cc224",
   "metadata": {},
   "outputs": [
    {
     "data": {
      "text/plain": [
       "array(['+ve', '-ve', '+ve', '+ve', '-ve', '-ve', '+ve', '+ve', '-ve',\n",
       "       '+ve'], dtype='<U3')"
      ]
     },
     "execution_count": 251,
     "metadata": {},
     "output_type": "execute_result"
    }
   ],
   "source": [
    "np.where(arr<0, '-ve', '+ve')"
   ]
  },
  {
   "cell_type": "code",
   "execution_count": 252,
   "id": "5e0a1d0e",
   "metadata": {},
   "outputs": [
    {
     "data": {
      "text/plain": [
       "array([13,  0, 20, 12,  0,  0, 28, 40,  0, 32])"
      ]
     },
     "execution_count": 252,
     "metadata": {},
     "output_type": "execute_result"
    }
   ],
   "source": [
    "np.where(arr<0, 0, arr)"
   ]
  },
  {
   "cell_type": "markdown",
   "id": "217b1ed3",
   "metadata": {},
   "source": [
    "#### Ques. Given an array, return the indices of the numbers that are divisible by 5"
   ]
  },
  {
   "cell_type": "code",
   "execution_count": 258,
   "id": "a8d9d68c",
   "metadata": {},
   "outputs": [
    {
     "data": {
      "text/plain": [
       "array([ 4, 19, 15, 31, 40, 26, 35,  5, 18, 43, 10])"
      ]
     },
     "execution_count": 258,
     "metadata": {},
     "output_type": "execute_result"
    }
   ],
   "source": [
    "arr = np.array([4, 19, 15, 31, 40, 26, 35, 5, 18, 43, 10])\n",
    "arr"
   ]
  },
  {
   "cell_type": "code",
   "execution_count": 259,
   "id": "6848008a",
   "metadata": {},
   "outputs": [
    {
     "data": {
      "text/plain": [
       "(array([ 2,  4,  6,  7, 10], dtype=int64),)"
      ]
     },
     "execution_count": 259,
     "metadata": {},
     "output_type": "execute_result"
    }
   ],
   "source": [
    "np.where(arr%5==0)"
   ]
  },
  {
   "cell_type": "markdown",
   "id": "ba982b87",
   "metadata": {},
   "source": [
    "If not providing condition, it returns the index of all non-zero numbers"
   ]
  },
  {
   "cell_type": "code",
   "execution_count": 263,
   "id": "233e6a01",
   "metadata": {},
   "outputs": [
    {
     "data": {
      "text/plain": [
       "(array([ 0,  1,  3,  5,  6,  7,  8, 10], dtype=int64),)"
      ]
     },
     "execution_count": 263,
     "metadata": {},
     "output_type": "execute_result"
    }
   ],
   "source": [
    "arr2 = np.array([2,3,0,8,0,9,1,4,5,0,7])\n",
    "np.where(arr2)"
   ]
  },
  {
   "cell_type": "markdown",
   "id": "6c3f58f4",
   "metadata": {},
   "source": [
    "#### Loading a file into numpy"
   ]
  },
  {
   "cell_type": "code",
   "execution_count": 270,
   "id": "eadaa7f2",
   "metadata": {},
   "outputs": [],
   "source": [
    "survey_score = np.loadtxt('survey.txt', dtype='int')"
   ]
  },
  {
   "cell_type": "code",
   "execution_count": 271,
   "id": "3a1c91af",
   "metadata": {},
   "outputs": [
    {
     "data": {
      "text/plain": [
       "array([ 7, 10,  5, ...,  5,  9, 10])"
      ]
     },
     "execution_count": 271,
     "metadata": {},
     "output_type": "execute_result"
    }
   ],
   "source": [
    "survey_score"
   ]
  },
  {
   "cell_type": "markdown",
   "id": "f4b79412",
   "metadata": {},
   "source": [
    "#### Ques.\n",
    "1. Does the loaded file returns an array of survey score?\n",
    "2. Find the length of the returned array.\n",
    "3. Perform aggregate operations - min, max, sum\n",
    "4. Let Survey score greater than 6 is known as promoter score. Display the promoter score.\n",
    "5. Let Survey score less than 6 is known as detractor score. Display the detractor score.\n",
    "6. Calculate the promoter and detractor percentage."
   ]
  },
  {
   "cell_type": "code",
   "execution_count": null,
   "id": "d4cd68ea",
   "metadata": {},
   "outputs": [],
   "source": []
  }
 ],
 "metadata": {
  "kernelspec": {
   "display_name": "Python 3 (ipykernel)",
   "language": "python",
   "name": "python3"
  },
  "language_info": {
   "codemirror_mode": {
    "name": "ipython",
    "version": 3
   },
   "file_extension": ".py",
   "mimetype": "text/x-python",
   "name": "python",
   "nbconvert_exporter": "python",
   "pygments_lexer": "ipython3",
   "version": "3.11.4"
  }
 },
 "nbformat": 4,
 "nbformat_minor": 5
}
