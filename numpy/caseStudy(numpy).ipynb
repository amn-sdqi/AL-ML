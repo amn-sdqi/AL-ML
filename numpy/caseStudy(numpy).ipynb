{
 "cells": [
  {
   "cell_type": "code",
   "execution_count": 1,
   "metadata": {},
   "outputs": [],
   "source": [
    "import numpy as np"
   ]
  },
  {
   "cell_type": "markdown",
   "metadata": {},
   "source": [
    "------------\n",
    "## Loading data "
   ]
  },
  {
   "cell_type": "code",
   "execution_count": 2,
   "metadata": {},
   "outputs": [
    {
     "name": "stdout",
     "output_type": "stream",
     "text": [
      "[('06-10-2017', 5464, 'Neutral', 181, 5, 'Inactive')\n",
      " ('07-10-2017', 6041, 'Sad', 197, 8, 'Inactive')\n",
      " ('08-10-2017',   25, 'Sad',   0, 5, 'Inactive')\n",
      " ('09-10-2017', 5461, 'Sad', 174, 4, 'Inactive')\n",
      " ('10-10-2017', 6915, 'Neutral', 223, 5, 'Active')\n",
      " ('11-10-2017', 4545, 'Sad', 149, 6, 'Inactive')\n",
      " ('12-10-2017', 4340, 'Sad', 140, 6, 'Inactive')\n",
      " ('13-10-2017', 1230, 'Sad',  38, 7, 'Inactive')\n",
      " ('14-10-2017',   61, 'Sad',   1, 5, 'Inactive')\n",
      " ('15-10-2017', 1258, 'Sad',  40, 6, 'Inactive')\n",
      " ('16-10-2017', 3148, 'Sad', 101, 8, 'Inactive')\n",
      " ('17-10-2017', 4687, 'Sad', 152, 5, 'Inactive')\n",
      " ('18-10-2017', 4732, 'Happy', 150, 6, 'Active')\n",
      " ('19-10-2017', 3519, 'Sad', 113, 7, 'Inactive')\n",
      " ('20-10-2017', 1580, 'Sad',  49, 5, 'Inactive')\n",
      " ('21-10-2017', 2822, 'Sad',  86, 6, 'Inactive')\n",
      " ('22-10-2017',  181, 'Sad',   6, 8, 'Inactive')\n",
      " ('23-10-2017', 3158, 'Neutral',  99, 5, 'Inactive')\n",
      " ('24-10-2017', 4383, 'Neutral', 143, 4, 'Inactive')\n",
      " ('25-10-2017', 3881, 'Neutral', 125, 5, 'Inactive')\n",
      " ('26-10-2017', 4037, 'Neutral', 129, 6, 'Inactive')\n",
      " ('27-10-2017',  202, 'Neutral',   6, 8, 'Inactive')\n",
      " ('28-10-2017',  292, 'Neutral',   9, 5, 'Inactive')\n",
      " ('29-10-2017',  330, 'Happy',  10, 6, 'Inactive')\n",
      " ('30-10-2017', 2209, 'Neutral',  72, 5, 'Inactive')\n",
      " ('31-10-2017', 4550, 'Happy', 150, 8, 'Active')\n",
      " ('01-11-2017', 4435, 'Happy', 141, 5, 'Inactive')\n",
      " ('02-11-2017', 4779, 'Happy', 156, 4, 'Inactive')\n",
      " ('03-11-2017', 1831, 'Happy',  57, 5, 'Inactive')\n",
      " ('04-11-2017', 2255, 'Happy',  72, 4, 'Inactive')\n",
      " ('05-11-2017',  539, 'Happy',  17, 5, 'Active')\n",
      " ('06-11-2017', 5464, 'Happy', 181, 4, 'Inactive')\n",
      " ('07-11-2017', 6041, 'Neutral', 197, 3, 'Inactive')\n",
      " ('08-11-2017', 4068, 'Happy', 131, 2, 'Inactive')\n",
      " ('09-11-2017', 4683, 'Happy', 154, 9, 'Inactive')\n",
      " ('10-11-2017', 4033, 'Happy', 137, 5, 'Inactive')\n",
      " ('11-11-2017', 6314, 'Happy', 193, 6, 'Active')\n",
      " ('12-11-2017',  614, 'Happy',  19, 4, 'Active')\n",
      " ('13-11-2017', 3149, 'Happy', 101, 5, 'Active')\n",
      " ('14-11-2017', 4005, 'Happy', 139, 8, 'Active')\n",
      " ('15-11-2017', 4880, 'Happy', 164, 4, 'Active')\n",
      " ('16-11-2017', 4136, 'Happy', 137, 5, 'Active')\n",
      " ('17-11-2017',  705, 'Happy',  22, 6, 'Active')\n",
      " ('18-11-2017',  570, 'Neutral',  17, 5, 'Active')\n",
      " ('19-11-2017',  269, 'Happy',   9, 6, 'Active')\n",
      " ('20-11-2017', 4275, 'Happy', 145, 5, 'Inactive')\n",
      " ('21-11-2017', 5999, 'Happy', 192, 6, 'Inactive')\n",
      " ('22-11-2017', 4421, 'Happy', 146, 5, 'Inactive')\n",
      " ('23-11-2017', 6930, 'Happy', 234, 6, 'Inactive')\n",
      " ('24-11-2017', 5195, 'Happy', 167, 5, 'Inactive')\n",
      " ('25-11-2017',  546, 'Happy',  16, 6, 'Inactive')\n",
      " ('26-11-2017',  493, 'Happy',  17, 7, 'Active')\n",
      " ('27-11-2017',  995, 'Happy',  32, 6, 'Active')\n",
      " ('28-11-2017', 1163, 'Neutral',  35, 7, 'Active')\n",
      " ('29-11-2017', 6676, 'Sad', 220, 6, 'Active')\n",
      " ('30-11-2017', 3608, 'Happy', 116, 5, 'Active')\n",
      " ('01-12-2017',  774, 'Happy',  23, 6, 'Active')\n",
      " ('02-12-2017', 1421, 'Happy',  44, 7, 'Active')\n",
      " ('03-12-2017', 4064, 'Happy', 131, 8, 'Active')\n",
      " ('04-12-2017', 2725, 'Happy',  86, 8, 'Active')\n",
      " ('05-12-2017', 5934, 'Happy', 194, 7, 'Active')\n",
      " ('06-12-2017', 1867, 'Happy',  60, 8, 'Active')\n",
      " ('07-12-2017', 3721, 'Sad', 121, 5, 'Active')\n",
      " ('08-12-2017', 2374, 'Neutral',  76, 4, 'Inactive')\n",
      " ('09-12-2017', 2909, 'Neutral',  93, 3, 'Active')\n",
      " ('10-12-2017', 1648, 'Sad',  53, 3, 'Active')\n",
      " ('11-12-2017',  799, 'Sad',  25, 4, 'Inactive')\n",
      " ('12-12-2017', 7102, 'Neutral', 227, 5, 'Active')\n",
      " ('13-12-2017', 3941, 'Neutral', 125, 5, 'Active')\n",
      " ('14-12-2017', 7422, 'Happy', 243, 5, 'Active')\n",
      " ('15-12-2017',  437, 'Neutral',  14, 3, 'Active')\n",
      " ('16-12-2017', 1231, 'Neutral',  39, 4, 'Active')\n",
      " ('17-12-2017', 1696, 'Sad',  55, 4, 'Inactive')\n",
      " ('18-12-2017', 4921, 'Neutral', 158, 5, 'Active')\n",
      " ('19-12-2017',  221, 'Sad',   7, 5, 'Active')\n",
      " ('20-12-2017', 6500, 'Neutral', 213, 5, 'Active')\n",
      " ('21-12-2017', 3575, 'Neutral', 116, 5, 'Active')\n",
      " ('22-12-2017', 4061, 'Sad', 129, 5, 'Inactive')\n",
      " ('23-12-2017',  651, 'Sad',  21, 5, 'Inactive')\n",
      " ('24-12-2017',  753, 'Sad',  28, 4, 'Inactive')\n",
      " ('25-12-2017',  518, 'Sad',  16, 3, 'Inactive')\n",
      " ('26-12-2017', 5537, 'Happy', 180, 4, 'Active')\n",
      " ('27-12-2017', 4108, 'Neutral', 138, 5, 'Active')\n",
      " ('28-12-2017', 5376, 'Happy', 176, 5, 'Active')\n",
      " ('29-12-2017', 3066, 'Neutral',  99, 4, 'Active')\n",
      " ('30-12-2017',  177, 'Sad',   5, 5, 'Inactive')\n",
      " ('31-12-2017',   36, 'Sad',   1, 3, 'Inactive')\n",
      " ('01-01-2018',  299, 'Sad',  10, 3, 'Inactive')\n",
      " ('02-01-2018', 1447, 'Neutral',  47, 3, 'Inactive')\n",
      " ('03-01-2018', 2599, 'Neutral',  84, 2, 'Inactive')\n",
      " ('04-01-2018',  702, 'Sad',  23, 3, 'Inactive')\n",
      " ('05-01-2018',  133, 'Sad',   4, 2, 'Inactive')\n",
      " ('06-01-2018',  153, 'Happy',   0, 8, 'Inactive')\n",
      " ('07-01-2018',  500, 'Neutral',   0, 5, 'Active')\n",
      " ('08-01-2018', 2127, 'Neutral',   0, 5, 'Inactive')\n",
      " ('09-01-2018', 2203, 'Happy',   0, 5, 'Active')]\n"
     ]
    }
   ],
   "source": [
    "data = np.genfromtxt('fit.csv', delimiter=',', dtype=None, encoding=None)\n",
    "print(data)"
   ]
  },
  {
   "cell_type": "code",
   "execution_count": 3,
   "metadata": {},
   "outputs": [],
   "source": [
    "date=data['f0']\n",
    "step_count=data['f1']\n",
    "mood=data['f2']\n",
    "calories_burned=data['f3']\n",
    "hours_of_sleep=data['f4']\n",
    "active=data['f5']"
   ]
  },
  {
   "cell_type": "markdown",
   "metadata": {},
   "source": [
    "-------------------"
   ]
  },
  {
   "cell_type": "markdown",
   "metadata": {},
   "source": [
    "## Visualizing Data"
   ]
  },
  {
   "cell_type": "markdown",
   "metadata": {},
   "source": [
    "#### Seperating coloumns"
   ]
  },
  {
   "cell_type": "code",
   "execution_count": 4,
   "metadata": {},
   "outputs": [
    {
     "data": {
      "text/plain": [
       "array(['Neutral', 'Sad', 'Sad', 'Sad', 'Neutral', 'Sad', 'Sad', 'Sad',\n",
       "       'Sad', 'Sad', 'Sad', 'Sad', 'Happy', 'Sad', 'Sad', 'Sad', 'Sad',\n",
       "       'Neutral', 'Neutral', 'Neutral', 'Neutral', 'Neutral', 'Neutral',\n",
       "       'Happy', 'Neutral', 'Happy', 'Happy', 'Happy', 'Happy', 'Happy',\n",
       "       'Happy', 'Happy', 'Neutral', 'Happy', 'Happy', 'Happy', 'Happy',\n",
       "       'Happy', 'Happy', 'Happy', 'Happy', 'Happy', 'Happy', 'Neutral',\n",
       "       'Happy', 'Happy', 'Happy', 'Happy', 'Happy', 'Happy', 'Happy',\n",
       "       'Happy', 'Happy', 'Neutral', 'Sad', 'Happy', 'Happy', 'Happy',\n",
       "       'Happy', 'Happy', 'Happy', 'Happy', 'Sad', 'Neutral', 'Neutral',\n",
       "       'Sad', 'Sad', 'Neutral', 'Neutral', 'Happy', 'Neutral', 'Neutral',\n",
       "       'Sad', 'Neutral', 'Sad', 'Neutral', 'Neutral', 'Sad', 'Sad', 'Sad',\n",
       "       'Sad', 'Happy', 'Neutral', 'Happy', 'Neutral', 'Sad', 'Sad', 'Sad',\n",
       "       'Neutral', 'Neutral', 'Sad', 'Sad', 'Happy', 'Neutral', 'Neutral',\n",
       "       'Happy'], dtype='<U7')"
      ]
     },
     "execution_count": 4,
     "metadata": {},
     "output_type": "execute_result"
    }
   ],
   "source": [
    "mood"
   ]
  },
  {
   "cell_type": "code",
   "execution_count": 5,
   "metadata": {},
   "outputs": [
    {
     "data": {
      "text/plain": [
       "array([181, 197,   0, 174, 223, 149, 140,  38,   1,  40, 101, 152, 150,\n",
       "       113,  49,  86,   6,  99, 143, 125, 129,   6,   9,  10,  72, 150,\n",
       "       141, 156,  57,  72,  17, 181, 197, 131, 154, 137, 193,  19, 101,\n",
       "       139, 164, 137,  22,  17,   9, 145, 192, 146, 234, 167,  16,  17,\n",
       "        32,  35, 220, 116,  23,  44, 131,  86, 194,  60, 121,  76,  93,\n",
       "        53,  25, 227, 125, 243,  14,  39,  55, 158,   7, 213, 116, 129,\n",
       "        21,  28,  16, 180, 138, 176,  99,   5,   1,  10,  47,  84,  23,\n",
       "         4,   0,   0,   0,   0])"
      ]
     },
     "execution_count": 5,
     "metadata": {},
     "output_type": "execute_result"
    }
   ],
   "source": [
    "calories_burned"
   ]
  },
  {
   "cell_type": "code",
   "execution_count": 6,
   "metadata": {},
   "outputs": [
    {
     "data": {
      "text/plain": [
       "array([5, 8, 5, 4, 5, 6, 6, 7, 5, 6, 8, 5, 6, 7, 5, 6, 8, 5, 4, 5, 6, 8,\n",
       "       5, 6, 5, 8, 5, 4, 5, 4, 5, 4, 3, 2, 9, 5, 6, 4, 5, 8, 4, 5, 6, 5,\n",
       "       6, 5, 6, 5, 6, 5, 6, 7, 6, 7, 6, 5, 6, 7, 8, 8, 7, 8, 5, 4, 3, 3,\n",
       "       4, 5, 5, 5, 3, 4, 4, 5, 5, 5, 5, 5, 5, 4, 3, 4, 5, 5, 4, 5, 3, 3,\n",
       "       3, 2, 3, 2, 8, 5, 5, 5])"
      ]
     },
     "execution_count": 6,
     "metadata": {},
     "output_type": "execute_result"
    }
   ],
   "source": [
    "hours_of_sleep"
   ]
  },
  {
   "cell_type": "code",
   "execution_count": 7,
   "metadata": {},
   "outputs": [
    {
     "data": {
      "text/plain": [
       "array(['Inactive', 'Inactive', 'Inactive', 'Inactive', 'Active',\n",
       "       'Inactive', 'Inactive', 'Inactive', 'Inactive', 'Inactive',\n",
       "       'Inactive', 'Inactive', 'Active', 'Inactive', 'Inactive',\n",
       "       'Inactive', 'Inactive', 'Inactive', 'Inactive', 'Inactive',\n",
       "       'Inactive', 'Inactive', 'Inactive', 'Inactive', 'Inactive',\n",
       "       'Active', 'Inactive', 'Inactive', 'Inactive', 'Inactive', 'Active',\n",
       "       'Inactive', 'Inactive', 'Inactive', 'Inactive', 'Inactive',\n",
       "       'Active', 'Active', 'Active', 'Active', 'Active', 'Active',\n",
       "       'Active', 'Active', 'Active', 'Inactive', 'Inactive', 'Inactive',\n",
       "       'Inactive', 'Inactive', 'Inactive', 'Active', 'Active', 'Active',\n",
       "       'Active', 'Active', 'Active', 'Active', 'Active', 'Active',\n",
       "       'Active', 'Active', 'Active', 'Inactive', 'Active', 'Active',\n",
       "       'Inactive', 'Active', 'Active', 'Active', 'Active', 'Active',\n",
       "       'Inactive', 'Active', 'Active', 'Active', 'Active', 'Inactive',\n",
       "       'Inactive', 'Inactive', 'Inactive', 'Active', 'Active', 'Active',\n",
       "       'Active', 'Inactive', 'Inactive', 'Inactive', 'Inactive',\n",
       "       'Inactive', 'Inactive', 'Inactive', 'Inactive', 'Active',\n",
       "       'Inactive', 'Active'], dtype='<U8')"
      ]
     },
     "execution_count": 7,
     "metadata": {},
     "output_type": "execute_result"
    }
   ],
   "source": [
    "active"
   ]
  },
  {
   "cell_type": "markdown",
   "metadata": {},
   "source": [
    "##  What is the average step count across the dataset?"
   ]
  },
  {
   "cell_type": "code",
   "execution_count": 8,
   "metadata": {},
   "outputs": [
    {
     "data": {
      "text/plain": [
       "2935.9375"
      ]
     },
     "execution_count": 8,
     "metadata": {},
     "output_type": "execute_result"
    }
   ],
   "source": [
    "avg_step_count=np.average(step_count)\n",
    "avg_step_count"
   ]
  },
  {
   "cell_type": "markdown",
   "metadata": {},
   "source": [
    "## On which date did the person burn the most calories, and what was their mood on that day?"
   ]
  },
  {
   "cell_type": "code",
   "execution_count": 9,
   "metadata": {},
   "outputs": [
    {
     "name": "stdout",
     "output_type": "stream",
     "text": [
      "index 69 ('14-12-2017', 7422, 'Happy', 243, 5, 'Active')\n"
     ]
    }
   ],
   "source": [
    "max_calories_index=np.argmax(calories_burned)\n",
    "print('index',max_calories_index,data[max_calories_index])\n"
   ]
  },
  {
   "cell_type": "markdown",
   "metadata": {},
   "source": [
    "## How many days does the dataset show the person being \"Active\" vs. \"Inactive\"?"
   ]
  },
  {
   "cell_type": "code",
   "execution_count": 10,
   "metadata": {},
   "outputs": [
    {
     "name": "stdout",
     "output_type": "stream",
     "text": [
      "Number of Active days : 42\n"
     ]
    }
   ],
   "source": [
    "active_days=np.sum(active == 'Active')\n",
    "print(f'Number of Active days : {active_days}')"
   ]
  },
  {
   "cell_type": "code",
   "execution_count": 11,
   "metadata": {},
   "outputs": [
    {
     "name": "stdout",
     "output_type": "stream",
     "text": [
      "Number of Inactive days : 54\n"
     ]
    }
   ],
   "source": [
    "inactive_days=np.sum(active == 'Inactive')\n",
    "print(f'Number of Inactive days : {inactive_days}')\n"
   ]
  },
  {
   "cell_type": "markdown",
   "metadata": {},
   "source": [
    "## Which mood is associated with the highest average calories burned?"
   ]
  },
  {
   "cell_type": "code",
   "execution_count": 12,
   "metadata": {},
   "outputs": [
    {
     "name": "stdout",
     "output_type": "stream",
     "text": [
      "Average Sad person burnes : 67.72413793103448\n"
     ]
    }
   ],
   "source": [
    "avg_calories_sad=np.argwhere(mood=='Sad')\n",
    "\n",
    "Sad_people=calories_burned[avg_calories_sad] \n",
    "print(f'Average Sad person burnes : {np.average(Sad_people)}')\n"
   ]
  },
  {
   "cell_type": "code",
   "execution_count": 13,
   "metadata": {},
   "outputs": [
    {
     "name": "stdout",
     "output_type": "stream",
     "text": [
      "Average Neutral person burnes : 98.70370370370371\n"
     ]
    }
   ],
   "source": [
    "avg_calories_Neutral=np.argwhere(mood=='Neutral')\n",
    "\n",
    "Neutral_people=calories_burned[avg_calories_Neutral] \n",
    "print(f'Average Neutral person burnes : {np.average(Neutral_people)}')"
   ]
  },
  {
   "cell_type": "code",
   "execution_count": 14,
   "metadata": {},
   "outputs": [
    {
     "name": "stdout",
     "output_type": "stream",
     "text": [
      "Average Happy person burnes : 108.55\n"
     ]
    }
   ],
   "source": [
    "avg_calories_Happy=np.argwhere(mood=='Happy')\n",
    "\n",
    "Happy_people=calories_burned[avg_calories_Happy] \n",
    "print(f'Average Happy person burnes : {np.average(Happy_people)}')"
   ]
  },
  {
   "cell_type": "markdown",
   "metadata": {},
   "source": [
    "### The Higest avgerage calories burned are Happy people\n",
    "        Average Happy person burnes : 108.55\n",
    "\n",
    "        Average Neutral person burnes : 98.70370370370371\n",
    "\n",
    "        Average Sad person burnes : 67.72413793103448"
   ]
  }
 ],
 "metadata": {
  "kernelspec": {
   "display_name": "Python 3",
   "language": "python",
   "name": "python3"
  },
  "language_info": {
   "codemirror_mode": {
    "name": "ipython",
    "version": 3
   },
   "file_extension": ".py",
   "mimetype": "text/x-python",
   "name": "python",
   "nbconvert_exporter": "python",
   "pygments_lexer": "ipython3",
   "version": "3.11.4"
  }
 },
 "nbformat": 4,
 "nbformat_minor": 2
}
