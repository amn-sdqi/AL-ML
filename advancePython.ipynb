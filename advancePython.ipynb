{
 "cells": [
  {
   "cell_type": "markdown",
   "metadata": {},
   "source": [
    "LIST COMPREHENTION\n"
   ]
  },
  {
   "cell_type": "code",
   "execution_count": 1,
   "metadata": {},
   "outputs": [
    {
     "name": "stdout",
     "output_type": "stream",
     "text": [
      "[4, 3, 4, 7]\n"
     ]
    }
   ],
   "source": [
    "print([len(i) for i in ['ball','bat','game','lending']])"
   ]
  },
  {
   "cell_type": "code",
   "execution_count": 2,
   "metadata": {},
   "outputs": [
    {
     "name": "stdout",
     "output_type": "stream",
     "text": [
      "[1, 4, 9, 16, 25, 36, 49]\n",
      "[2, 4, 6]\n"
     ]
    }
   ],
   "source": [
    "print([i*i for i in [1,2,3,4,5,6,7]])\n",
    "\n",
    "print([i for i in [1,2,3,4,5,6,7] if i%2==0 ])\n",
    "\n"
   ]
  },
  {
   "cell_type": "markdown",
   "metadata": {},
   "source": [
    "DICTIONARY COMPREHENSION\n"
   ]
  },
  {
   "cell_type": "code",
   "execution_count": 3,
   "metadata": {},
   "outputs": [
    {
     "name": "stdout",
     "output_type": "stream",
     "text": [
      "dict_items([('bhopal', 6), ('delhi', 5), ('goa', 3), ('indore', 6), ('pune', 4), ('banglore', 8)])\n"
     ]
    }
   ],
   "source": [
    "lista=['bhopal','delhi','goa','indore','pune','banglore']\n",
    "\n",
    "print({i:len(i) for i in lista}.items())"
   ]
  },
  {
   "cell_type": "markdown",
   "metadata": {},
   "source": [
    "\\\n",
    "\n",
    "/\n",
    "\n",
    "\\\n",
    "\n",
    "/\n",
    "\n",
    "\\\n",
    "\n",
    "/\n",
    "\n",
    "\\\n",
    "\n",
    "/\n",
    "\n",
    "ASSIGNMENT- list comprehension, map,filter,reduce,dictionary comprehension\n",
    "\n",
    "\\\n",
    "\n",
    "/\n",
    "\n",
    "\\\n",
    "\n",
    "/\n",
    "\n",
    "\\\n",
    "\n",
    "/\n",
    "\n",
    "\\\n",
    "\n",
    "/\n"
   ]
  },
  {
   "cell_type": "markdown",
   "metadata": {},
   "source": [
    "1. WAP to create a list of squares of numbers from 11 to 20 using the map function.\n"
   ]
  },
  {
   "cell_type": "code",
   "execution_count": 4,
   "metadata": {},
   "outputs": [
    {
     "name": "stdout",
     "output_type": "stream",
     "text": [
      "[100, 121, 144, 169, 196, 225, 256, 289, 324, 361, 400]\n"
     ]
    }
   ],
   "source": [
    "print([i**2 for i in range(10,21,1)])"
   ]
  },
  {
   "cell_type": "markdown",
   "metadata": {},
   "source": [
    "2. WAP to filter out the vowels from your name using the filter function.\n"
   ]
  },
  {
   "cell_type": "code",
   "execution_count": 5,
   "metadata": {},
   "outputs": [
    {
     "name": "stdout",
     "output_type": "stream",
     "text": [
      "['m', 'n', 'n']\n"
     ]
    }
   ],
   "source": [
    "print(list(filter(lambda n: n not in ['a','e','i','o','u'], input(\"Enter your Name:\"))))"
   ]
  },
  {
   "cell_type": "markdown",
   "metadata": {},
   "source": [
    "3. WAP to divide all the numbers of a given list and print the single output. (Hint: use reduce function)\n",
    "   alist = [10, 5, 3, 12, 4]\n"
   ]
  },
  {
   "cell_type": "code",
   "execution_count": 6,
   "metadata": {},
   "outputs": [
    {
     "name": "stdout",
     "output_type": "stream",
     "text": [
      "2.0\n"
     ]
    }
   ],
   "source": [
    "alist = [10, 5, 3, 12, 4]\n",
    "from functools import reduce\n",
    "print(reduce(lambda a,b:b/a, alist))"
   ]
  },
  {
   "cell_type": "markdown",
   "metadata": {},
   "source": [
    "4. WAP to convert all the elements of the given list into a string. Use list comprehension.\n",
    "   blist = [1, 2, 3, 4, 5, 6]\n"
   ]
  },
  {
   "cell_type": "code",
   "execution_count": 7,
   "metadata": {},
   "outputs": [
    {
     "name": "stdout",
     "output_type": "stream",
     "text": [
      "['1', '2', '3', '4', '5', '6']\n"
     ]
    }
   ],
   "source": [
    "blist = [1, 2, 3, 4, 5, 6] \n",
    "print([str(i) for i in blist])"
   ]
  },
  {
   "cell_type": "markdown",
   "metadata": {},
   "source": [
    "5. WAP to create a dictionary list elements are keys and their squares are the values of a dictionary. Use dictionary comprehension\n",
    "   clist = [1, 2, 3, 4, 5]\n"
   ]
  },
  {
   "cell_type": "code",
   "execution_count": 8,
   "metadata": {},
   "outputs": [
    {
     "name": "stdout",
     "output_type": "stream",
     "text": [
      "{'1': 1, '2': 4, '3': 9, '4': 16, '5': 25}\n"
     ]
    }
   ],
   "source": [
    "clist = [1, 2, 3, 4, 5]\n",
    "print({str(a):a**2 for a in clist})"
   ]
  },
  {
   "cell_type": "markdown",
   "metadata": {},
   "source": [
    "\\\n",
    "\n",
    "/\n",
    "\n",
    "\\\n",
    "\n",
    "/\n",
    "\n",
    "\\\n",
    "\n",
    "/\n",
    "\n",
    "\\\n",
    "\n",
    "/\n"
   ]
  },
  {
   "cell_type": "code",
   "execution_count": 9,
   "metadata": {},
   "outputs": [
    {
     "data": {
      "text/plain": [
       "[[10, 20, 30], [10, 20, 30], [10, 20, 30], [10, 20, 30], [10, 20, 30]]"
      ]
     },
     "execution_count": 9,
     "metadata": {},
     "output_type": "execute_result"
    }
   ],
   "source": [
    "alist = [[i for i in range(10,31) if i%10 == 0] for i in range(1,6)]\n",
    "alist"
   ]
  },
  {
   "cell_type": "markdown",
   "metadata": {},
   "source": [
    "create a list in below format\n",
    "[[1],[1,2],[1,2,3],[1,2,3,4],[2,3,4,5]]\n"
   ]
  },
  {
   "cell_type": "code",
   "execution_count": 10,
   "metadata": {},
   "outputs": [
    {
     "data": {
      "text/plain": [
       "[[1], [1, 2], [1, 2, 3], [1, 2, 3, 4], [1, 2, 3, 4, 5]]"
      ]
     },
     "execution_count": 10,
     "metadata": {},
     "output_type": "execute_result"
    }
   ],
   "source": [
    "alist = [[i for i in range(1,i+1) ] for i in range(1,6)]\n",
    "alist"
   ]
  },
  {
   "cell_type": "code",
   "execution_count": 1,
   "metadata": {},
   "outputs": [
    {
     "data": {
      "text/plain": [
       "{2: {1: 2, 2: 4, 3: 6, 4: 8, 5: 10, 6: 12, 7: 14, 8: 16, 9: 18, 10: 20},\n",
       " 3: {1: 3, 2: 6, 3: 9, 4: 12, 5: 15, 6: 18, 7: 21, 8: 24, 9: 27, 10: 30},\n",
       " 4: {1: 4, 2: 8, 3: 12, 4: 16, 5: 20, 6: 24, 7: 28, 8: 32, 9: 36, 10: 40}}"
      ]
     },
     "execution_count": 1,
     "metadata": {},
     "output_type": "execute_result"
    }
   ],
   "source": [
    "Tbl = {i:{j:i*j for j in range(1,11)}for i in range(2,5)}\n",
    "Tbl"
   ]
  },
  {
   "cell_type": "code",
   "execution_count": 12,
   "metadata": {},
   "outputs": [
    {
     "name": "stdout",
     "output_type": "stream",
     "text": [
      "['goa', 'pune', 'delhi', 'bhopal', 'mumbai']\n"
     ]
    }
   ],
   "source": [
    "lista=['bhopal','pune','goa','mumbai','delhi']\n",
    "\n",
    "print(sorted(lista, key=len))"
   ]
  },
  {
   "cell_type": "markdown",
   "metadata": {},
   "source": [
    "\\\n",
    "\n",
    "/\n",
    "\n",
    "\\\n",
    "\n",
    "/\n",
    "October 11 2024\n",
    "\\\n",
    "\n",
    "/\n",
    "\n",
    "\\\n",
    "\n",
    "/\n"
   ]
  },
  {
   "cell_type": "code",
   "execution_count": 2,
   "metadata": {},
   "outputs": [],
   "source": [
    "a={60:'quasira', 78:'atif', 55:'Maisara', 91:'guffran'}"
   ]
  },
  {
   "cell_type": "code",
   "execution_count": 6,
   "metadata": {},
   "outputs": [
    {
     "name": "stdout",
     "output_type": "stream",
     "text": [
      "{55: 'Maisara', 78: 'atif', 91: 'guffran', 60: 'quasira'}\n"
     ]
    }
   ],
   "source": [
    "print(dict(sorted(a.items(), key=lambda x:x[1])))"
   ]
  },
  {
   "cell_type": "code",
   "execution_count": 7,
   "metadata": {},
   "outputs": [
    {
     "name": "stdout",
     "output_type": "stream",
     "text": [
      "{55: 'Maisara', 60: 'quasira', 78: 'atif', 91: 'guffran'}\n"
     ]
    }
   ],
   "source": [
    "print(dict(sorted(a.items(), key=lambda x:x[0])))\n"
   ]
  },
  {
   "cell_type": "code",
   "execution_count": 9,
   "metadata": {},
   "outputs": [
    {
     "name": "stdout",
     "output_type": "stream",
     "text": [
      "{78: 'atif', 60: 'quasira', 55: 'Maisara', 91: 'guffran'}\n"
     ]
    }
   ],
   "source": [
    "print(dict(sorted(a.items(), key=lambda x:len(x[1]))))\n"
   ]
  },
  {
   "cell_type": "code",
   "execution_count": 11,
   "metadata": {},
   "outputs": [],
   "source": [
    "a={60:'quasira', 78:'atif', -55:'Maisara', -91:'guffran'}"
   ]
  },
  {
   "cell_type": "code",
   "execution_count": 12,
   "metadata": {},
   "outputs": [
    {
     "name": "stdout",
     "output_type": "stream",
     "text": [
      "{-55: 'Maisara', 60: 'quasira', 78: 'atif', -91: 'guffran'}\n"
     ]
    }
   ],
   "source": [
    "print(dict(sorted(a.items(), key=lambda x:x[0]**2)))"
   ]
  },
  {
   "cell_type": "code",
   "execution_count": 20,
   "metadata": {},
   "outputs": [
    {
     "name": "stdout",
     "output_type": "stream",
     "text": [
      "[28, 15, 40, 47, 36, 25, 36, 44, 6, 48]\n"
     ]
    }
   ],
   "source": [
    "import random\n",
    "print([random.randrange(1,51) for i in range(1,11)])   \n"
   ]
  },
  {
   "cell_type": "code",
   "execution_count": 30,
   "metadata": {},
   "outputs": [
    {
     "name": "stdout",
     "output_type": "stream",
     "text": [
      "{'Round 1:': {'loose': '-2'}, 'Round 2:': {'win': '0'}, 'Round 3:': {'win': '2'}, 'Round 4:': {'loose': '0'}}\n"
     ]
    }
   ],
   "source": [
    "scoreDict={}\n",
    "score=0\n",
    "for i in range(1,5):\n",
    "    # userChoice=input(\"Head(H) or Tail(T):\").capitalize()\n",
    "    # computerChoice=random.choice(['H','T'])\n",
    "    \n",
    "    if input(\"Head(H) or Tail(T):\").capitalize()==random.choice(['H','T']):\n",
    "        score=score+2\n",
    "        scoreDict[f\"Round {i}:\"]={'win':f'{score}'}\n",
    "    else:\n",
    "        score=score-2\n",
    "        scoreDict[f'Round {i}:']={'loose':f'{score}'}\n",
    "       \n",
    "print(scoreDict) \n",
    "             \n"
   ]
  },
  {
   "cell_type": "code",
   "execution_count": null,
   "metadata": {},
   "outputs": [],
   "source": []
  }
 ],
 "metadata": {
  "kernelspec": {
   "display_name": "Python 3",
   "language": "python",
   "name": "python3"
  },
  "language_info": {
   "codemirror_mode": {
    "name": "ipython",
    "version": 3
   },
   "file_extension": ".py",
   "mimetype": "text/x-python",
   "name": "python",
   "nbconvert_exporter": "python",
   "pygments_lexer": "ipython3",
   "version": "3.11.4"
  }
 },
 "nbformat": 4,
 "nbformat_minor": 2
}
