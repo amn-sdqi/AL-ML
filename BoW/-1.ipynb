{
 "cells": [
  {
   "cell_type": "markdown",
   "metadata": {},
   "source": [
    "# Bag of Words"
   ]
  },
  {
   "cell_type": "code",
   "execution_count": 1,
   "metadata": {},
   "outputs": [],
   "source": [
    "import re\n",
    "import pandas as pd\n",
    "import numpy as np\n",
    "import warnings\n",
    "from sklearn.linear_model import LogisticRegression"
   ]
  },
  {
   "cell_type": "code",
   "execution_count": 2,
   "metadata": {},
   "outputs": [],
   "source": [
    "dataset = [\n",
    "    (\"You won a prize! Claim now.\", 'spam'),\n",
    "    (\"Meeting tomorrow at 5 PM. Don't forget!\", \"not spam\"),\n",
    "    (\"Win big now! Claim your prize.\", 'spam'),\n",
    "    (\"Buy now! Lowest price available.\", 'spam'),\n",
    "    (\"Claim your prize now!\", 'spam'),\n",
    "    (\"Submit the project by Friday.\", \"not spam\"),\n",
    "    (\"You won an iPhone! Get it now.\", 'spam'),\n",
    "    (\"Attached is the report.\", \"not spam\"),\n",
    "    (\"Reset your password here.\", \"spam\"),\n",
    "    (\"Are we still going to the gym?\", \"not spam\"),\n",
    "    (\"Send me the files today.\", \"not spam\"),\n",
    "    (\"Limited stock! Buy now.\", \"spam\"),\n",
    "    (\"See you tomorrow at 5 PM.\", \"not spam\"),\n",
    "    (\"Claim your free vacation now.\", \"spam\"),\n",
    "    (\"Check holiday deals today.\", \"spam\"),\n",
    "    (\"Looking forward to our meeting.\", \"not spam\"),\n",
    "    (\"Bring documents for tomorrow.\", \"not spam\"),\n",
    "    (\"Lowest prices! Buy today.\", \"spam\"),\n",
    "    (\"Gym session is at 6 AM.\", \"not spam\"),\n",
    "    (\"Let's have lunch this weekend.\", \"not spam\"),\n",
    "    (\"Claim your car prize now.\", \"spam\"),\n",
    "    (\"Here’s the latest report.\", \"not spam\"),\n",
    "    (\"Earn money from home now.\", \"spam\"),\n",
    "    (\"Please confirm the meeting time.\", \"not spam\"),\n",
    "    (\"30% off! Buy today.\", \"spam\"),\n",
    "    (\"Win big with this survey.\", \"spam\"),\n",
    "    (\"Catch up for lunch soon.\", \"not spam\"),\n",
    "    (\"Loan approved! Get details here.\", \"spam\"),\n",
    "    (\"See you at 9 AM for review.\", \"not spam\"),\n",
    "    (\"Your free iPhone is waiting.\", \"spam\"),\n",
    "]"
   ]
  },
  {
   "cell_type": "code",
   "execution_count": null,
   "metadata": {},
   "outputs": [],
   "source": []
  }
 ],
 "metadata": {
  "kernelspec": {
   "display_name": "Python 3",
   "language": "python",
   "name": "python3"
  },
  "language_info": {
   "codemirror_mode": {
    "name": "ipython",
    "version": 3
   },
   "file_extension": ".py",
   "mimetype": "text/x-python",
   "name": "python",
   "nbconvert_exporter": "python",
   "pygments_lexer": "ipython3",
   "version": "3.11.4"
  }
 },
 "nbformat": 4,
 "nbformat_minor": 2
}
