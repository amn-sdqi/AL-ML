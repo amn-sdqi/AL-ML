{
 "cells": [
  {
   "cell_type": "markdown",
   "metadata": {},
   "source": [
    "# 💫 About Me:\n",
    "Freasher <br>Full stack web developer<br>Created To-Do list API<br>simple Blog Website<br>Online Shoping website using MongoDb ,NodeJs, ExpressJs<br>HTML, CSS, JavaScript<br>BootStrap\n",
    "\n",
    "\n",
    "## 🌐 Socials:\n",
    "[![LinkedIn](https://img.shields.io/badge/LinkedIn-%230077B5.svg?logo=linkedin&logoColor=white)](https://linkedin.com/in/www.linkedin.com/in/amnsdqi/) \n",
    "\n",
    "# 💻 Tech Stack:\n",
    "![C](https://img.shields.io/badge/c-%2300599C.svg?style=for-the-badge&logo=c&logoColor=white) ![C++](https://img.shields.io/badge/c++-%2300599C.svg?style=for-the-badge&logo=c%2B%2B&logoColor=white) ![JavaScript](https://img.shields.io/badge/javascript-%23323330.svg?style=for-the-badge&logo=javascript&logoColor=%23F7DF1E) ![Python](https://img.shields.io/badge/python-3670A0?style=for-the-badge&logo=python&logoColor=ffdd54) ![R](https://img.shields.io/badge/r-%23276DC3.svg?style=for-the-badge&logo=r&logoColor=white) ![PHP](https://img.shields.io/badge/php-%23777BB4.svg?style=for-the-badge&logo=php&logoColor=white) ![Netlify](https://img.shields.io/badge/netlify-%23000000.svg?style=for-the-badge&logo=netlify&logoColor=#00C7B7) ![Bootstrap](https://img.shields.io/badge/bootstrap-%238511FA.svg?style=for-the-badge&logo=bootstrap&logoColor=white) ![Express.js](https://img.shields.io/badge/express.js-%23404d59.svg?style=for-the-badge&logo=express&logoColor=%2361DAFB) ![NPM](https://img.shields.io/badge/NPM-%23CB3837.svg?style=for-the-badge&logo=npm&logoColor=white) ![NodeJS](https://img.shields.io/badge/node.js-6DA55F?style=for-the-badge&logo=node.js&logoColor=white) ![Nodemon](https://img.shields.io/badge/NODEMON-%23323330.svg?style=for-the-badge&logo=nodemon&logoColor=%BBDEAD) ![React](https://img.shields.io/badge/react-%2320232a.svg?style=for-the-badge&logo=react&logoColor=%2361DAFB) ![MongoDB](https://img.shields.io/badge/MongoDB-%234ea94b.svg?style=for-the-badge&logo=mongodb&logoColor=white) ![MySQL](https://img.shields.io/badge/mysql-4479A1.svg?style=for-the-badge&logo=mysql&logoColor=white) ![Canva](https://img.shields.io/badge/Canva-%2300C4CC.svg?style=for-the-badge&logo=Canva&logoColor=white) \n",
    " ![NumPy](https://img.shields.io/badge/numpy-%23013243.svg?style=for-the-badge&logo=numpy&logoColor=white) ![Pandas](https://img.shields.io/badge/pandas-%23150458.svg?style=for-the-badge&logo=pandas&logoColor=white) ![Matplotlib](https://img.shields.io/badge/Matplotlib-%23ffffff.svg?style=for-the-badge&logo=Matplotlib&logoColor=black)  ![GitHub](https://img.shields.io/badge/github-%23121011.svg?style=for-the-badge&logo=github&logoColor=white) ![Git](https://img.shields.io/badge/git-%23F05033.svg?style=for-the-badge&logo=git&logoColor=white)\n",
    "# 📊 GitHub Stats:\n",
    "![](https://github-readme-stats.vercel.app/api?username=amn-sdqi&theme=dark&hide_border=false&include_all_commits=true&count_private=true)<br/><br/><br/>\n",
    "![](https://github-readme-streak-stats.herokuapp.com/?user=amn-sdqi&theme=dark&hide_border=false)<br/><br/><br/>\n",
    "![](https://github-readme-stats.vercel.app/api/top-langs/?username=amn-sdqi&theme=dark&hide_border=false&include_all_commits=true&count_private=true&layout=compact)\n",
    "\n",
    "## 🏆 GitHub Trophies\n",
    "![](https://github-profile-trophy.vercel.app/?username=amn-sdqi&theme=onedark&no-frame=true&no-bg=false&margin-w=4)\n",
    "\n",
    "### ✍️ Random Dev Quote\n",
    "![](https://quotes-github-readme.vercel.app/api?type=vetical&theme=dark)\n",
    "\n",
    "### 🔝 Top Contributed Repo\n",
    "![](https://github-contributor-stats.vercel.app/api?username=amn-sdqi&limit=5&theme=dark&combine_all_yearly_contributions=true)\n",
    "\n",
    "---\n",
    "[![](https://visitcount.itsvg.in/api?id=amn-sdqi&icon=0&color=12)](https://visitcount.itsvg.in)\n",
    "\n",
    "<!-- Proudly created with GPRM ( https://gprm.itsvg.in ) -->"
   ]
  }
 ],
 "metadata": {
  "kernelspec": {
   "display_name": "Python 3",
   "language": "python",
   "name": "python3"
  },
  "language_info": {
   "codemirror_mode": {
    "name": "ipython",
    "version": 3
   },
   "file_extension": ".py",
   "mimetype": "text/x-python",
   "name": "python",
   "nbconvert_exporter": "python",
   "pygments_lexer": "ipython3",
   "version": "3.11.4"
  }
 },
 "nbformat": 4,
 "nbformat_minor": 2
}
