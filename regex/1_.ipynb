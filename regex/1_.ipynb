{
 "cells": [
  {
   "cell_type": "markdown",
   "metadata": {},
   "source": [
    "# ------------------ REGULAR EXPRESSIONS ------------------"
   ]
  },
  {
   "cell_type": "markdown",
   "metadata": {},
   "source": [
    "### Regular Expressions allows us to search for a specific pattern\n",
    "### Regex allows us to-\n",
    "### 1. Search for a specific string in a large amount of data\n",
    "### 2. Verify that a string has the proper format (Email, Phone)\n",
    "### 3. Find a string and replace it with another string\n",
    "### 4. Format data into the proper form "
   ]
  },
  {
   "cell_type": "code",
   "execution_count": 4,
   "metadata": {},
   "outputs": [],
   "source": [
    "import re"
   ]
  },
  {
   "cell_type": "code",
   "execution_count": 5,
   "metadata": {},
   "outputs": [],
   "source": [
    "animalstr = 'cat rat mat bat cat sat Mat Cat pat hat fat'"
   ]
  },
  {
   "cell_type": "code",
   "execution_count": 6,
   "metadata": {},
   "outputs": [
    {
     "name": "stdout",
     "output_type": "stream",
     "text": [
      "<re.Match object; span=(28, 31), match='Cat'>\n"
     ]
    }
   ],
   "source": [
    "print(re.search('Cat', animalstr))"
   ]
  },
  {
   "cell_type": "code",
   "execution_count": 7,
   "metadata": {},
   "outputs": [
    {
     "data": {
      "text/plain": [
       "['cat', 'cat']"
      ]
     },
     "execution_count": 7,
     "metadata": {},
     "output_type": "execute_result"
    }
   ],
   "source": [
    "re.findall('cat', animalstr)"
   ]
  },
  {
   "cell_type": "code",
   "execution_count": 8,
   "metadata": {},
   "outputs": [
    {
     "data": {
      "text/plain": [
       "['cat', 'rat', 'mat', 'bat', 'cat', 'sat', 'Mat', 'Cat', 'pat']"
      ]
     },
     "execution_count": 8,
     "metadata": {},
     "output_type": "execute_result"
    }
   ],
   "source": [
    "re.findall('[crmbsMCp]at', animalstr)\n"
   ]
  },
  {
   "cell_type": "code",
   "execution_count": 9,
   "metadata": {},
   "outputs": [
    {
     "data": {
      "text/plain": [
       "['cat', 'rat', 'mat', 'cat', 'Mat', 'Cat', 'pat', 'hat', 'fat']"
      ]
     },
     "execution_count": 9,
     "metadata": {},
     "output_type": "execute_result"
    }
   ],
   "source": [
    "re.findall('[c-rC-M]at', animalstr)"
   ]
  },
  {
   "cell_type": "code",
   "execution_count": 10,
   "metadata": {},
   "outputs": [
    {
     "data": {
      "text/plain": [
       "'Saturn revolves round the sun'"
      ]
     },
     "execution_count": 10,
     "metadata": {},
     "output_type": "execute_result"
    }
   ],
   "source": [
    "string1 = 'earth revolves round the sun'\n",
    "\n",
    "n= re.compile('earth')\n",
    "\n",
    "n.sub('Saturn', string1)"
   ]
  },
  {
   "cell_type": "code",
   "execution_count": 11,
   "metadata": {},
   "outputs": [
    {
     "data": {
      "text/plain": [
       "<re.Match object; span=(8, 14), match='\\\\stuff'>"
      ]
     },
     "execution_count": 11,
     "metadata": {},
     "output_type": "execute_result"
    }
   ],
   "source": [
    "randStr = \"Here is \\\\stuff\"\n",
    "re.search(r'\\\\stuff', randStr)"
   ]
  },
  {
   "cell_type": "markdown",
   "metadata": {},
   "source": [
    "## 1. Given a string, write a program to find all the occurrences of the word 'life' without their spans. (Note: It should not be a case-sensitive search).\n",
    "stringA = 'Life refers to an aspect of existence. Quality of life carries huge importance. A meaningful life is one which allows us to connect with our deeper self.'"
   ]
  },
  {
   "cell_type": "code",
   "execution_count": 12,
   "metadata": {},
   "outputs": [],
   "source": [
    "stringA = 'Life refers to an aspect of existence. Quality of life carries huge importance. A meaningful life is one which allows us to connect with our deeper self.'"
   ]
  },
  {
   "cell_type": "code",
   "execution_count": 15,
   "metadata": {},
   "outputs": [
    {
     "data": {
      "text/plain": [
       "['Life', 'life', 'life']"
      ]
     },
     "execution_count": 15,
     "metadata": {},
     "output_type": "execute_result"
    }
   ],
   "source": [
    "re.findall('life', stringA, re.IGNORECASE)"
   ]
  },
  {
   "cell_type": "markdown",
   "metadata": {},
   "source": [
    "## WAP to substitute the word 'Person' in a given sentence will all the names in the below list and print the result one by one.\n"
   ]
  },
  {
   "cell_type": "code",
   "execution_count": 16,
   "metadata": {},
   "outputs": [],
   "source": [
    "wish = \"Best wishes to Person for a great day!\"\n",
    "names_list = ['Ajay', 'Suraj', 'Priya', 'Saima', 'Vishal', 'Ali', 'Atul']"
   ]
  },
  {
   "cell_type": "code",
   "execution_count": 18,
   "metadata": {},
   "outputs": [
    {
     "name": "stdout",
     "output_type": "stream",
     "text": [
      "Best wishes to Ajay for a great day!\n",
      "Best wishes to Suraj for a great day!\n",
      "Best wishes to Priya for a great day!\n",
      "Best wishes to Saima for a great day!\n",
      "Best wishes to Vishal for a great day!\n",
      "Best wishes to Ali for a great day!\n",
      "Best wishes to Atul for a great day!\n"
     ]
    }
   ],
   "source": [
    "for i in names_list:\n",
    "    n= re.compile('Person')\n",
    "    print(n.sub(i, wish))"
   ]
  },
  {
   "cell_type": "markdown",
   "metadata": {},
   "source": [
    "## WAP to find the start indices of all the occurrences of the word 'Goal'. (Note: search should be case-sensitive).\n",
    "    (Hint: .start())"
   ]
  },
  {
   "cell_type": "code",
   "execution_count": 42,
   "metadata": {},
   "outputs": [],
   "source": [
    "sentence = \"Goals are like compasses, guiding us towards our desired destinations. By setting clear and achievable goals, we break down overwhelming tasks into manageable steps. Whether it's a small personal goal or a grand professional ambition, setting goals empowers us to take control of our lives and unlock our full potential.\""
   ]
  },
  {
   "cell_type": "code",
   "execution_count": 43,
   "metadata": {},
   "outputs": [
    {
     "name": "stdout",
     "output_type": "stream",
     "text": [
      "103\n",
      "196\n",
      "243\n"
     ]
    }
   ],
   "source": [
    "for i in re.finditer('goal', sentence):\n",
    "    print(i.start())"
   ]
  },
  {
   "cell_type": "code",
   "execution_count": 45,
   "metadata": {},
   "outputs": [
    {
     "data": {
      "text/plain": [
       "[<re.Match object; span=(0, 4), match='Goal'>]"
      ]
     },
     "execution_count": 45,
     "metadata": {},
     "output_type": "execute_result"
    }
   ],
   "source": [
    "[match.start() for match in re.finditer('Goal', sentence)]"
   ]
  },
  {
   "cell_type": "code",
   "execution_count": null,
   "metadata": {},
   "outputs": [],
   "source": []
  }
 ],
 "metadata": {
  "kernelspec": {
   "display_name": "Python 3",
   "language": "python",
   "name": "python3"
  },
  "language_info": {
   "codemirror_mode": {
    "name": "ipython",
    "version": 3
   },
   "file_extension": ".py",
   "mimetype": "text/x-python",
   "name": "python",
   "nbconvert_exporter": "python",
   "pygments_lexer": "ipython3",
   "version": "3.11.4"
  }
 },
 "nbformat": 4,
 "nbformat_minor": 2
}
